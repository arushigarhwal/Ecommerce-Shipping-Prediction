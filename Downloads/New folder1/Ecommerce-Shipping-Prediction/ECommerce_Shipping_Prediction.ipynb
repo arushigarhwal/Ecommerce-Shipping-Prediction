{
  "nbformat": 4,
  "nbformat_minor": 0,
  "metadata": {
    "colab": {
      "provenance": [],
      "gpuType": "T4"
    },
    "kernelspec": {
      "name": "python3",
      "display_name": "Python 3"
    },
    "language_info": {
      "name": "python"
    },
    "accelerator": "GPU"
  },
  "cells": [
    {
      "cell_type": "code",
      "source": [
        "#Importing Important Libraries"
      ],
      "metadata": {
        "id": "O0XrN98ttSdc"
      },
      "execution_count": null,
      "outputs": []
    },
    {
      "cell_type": "code",
      "source": [
        "import matplotlib.pyplot as plt\n",
        "import pandas as pd\n",
        "import seaborn as sns\n",
        "import pickle as pkl\n",
        "import numpy as np\n",
        "import joblib"
      ],
      "metadata": {
        "id": "rGkTOJjdui00"
      },
      "execution_count": 1,
      "outputs": []
    },
    {
      "cell_type": "code",
      "source": [
        "#import dataset"
      ],
      "metadata": {
        "id": "-6qEWNBlu10x"
      },
      "execution_count": 2,
      "outputs": []
    },
    {
      "cell_type": "code",
      "source": [
        "!mkdir -p ~/.kaggle\n",
        "!cp kaggle.json ~/.kaggle"
      ],
      "metadata": {
        "id": "WJfoT1p0u5ZR",
        "colab": {
          "base_uri": "https://localhost:8080/"
        },
        "outputId": "f949c0fa-2367-4675-9ca4-d3e7e6693d45"
      },
      "execution_count": 3,
      "outputs": [
        {
          "output_type": "stream",
          "name": "stdout",
          "text": [
            "cp: cannot stat 'kaggle.json': No such file or directory\n"
          ]
        }
      ]
    },
    {
      "cell_type": "code",
      "source": [
        "!kaggle datasets download -d prachi13/customer-analytics"
      ],
      "metadata": {
        "colab": {
          "base_uri": "https://localhost:8080/"
        },
        "id": "Z9l4IlSbxf6P",
        "outputId": "0d391da1-5e01-4180-a667-a3e44b8dedb8"
      },
      "execution_count": 4,
      "outputs": [
        {
          "output_type": "stream",
          "name": "stdout",
          "text": [
            "Dataset URL: https://www.kaggle.com/datasets/prachi13/customer-analytics\n",
            "License(s): other\n",
            "Downloading customer-analytics.zip to /content\n",
            "  0% 0.00/121k [00:00<?, ?B/s]\n",
            "100% 121k/121k [00:00<00:00, 86.3MB/s]\n"
          ]
        }
      ]
    },
    {
      "cell_type": "code",
      "source": [
        "!unzip '/content/customer-analytics.zip'"
      ],
      "metadata": {
        "id": "Esjy5g0QyY6A",
        "colab": {
          "base_uri": "https://localhost:8080/"
        },
        "outputId": "a2de4b0e-f89d-4363-b00f-67c6a1ef7db7"
      },
      "execution_count": 5,
      "outputs": [
        {
          "output_type": "stream",
          "name": "stdout",
          "text": [
            "Archive:  /content/customer-analytics.zip\n",
            "  inflating: Train.csv               \n"
          ]
        }
      ]
    },
    {
      "cell_type": "code",
      "source": [
        "data = pd.read_csv(r\"/content/Train.csv\")\n",
        "data.head()"
      ],
      "metadata": {
        "colab": {
          "base_uri": "https://localhost:8080/",
          "height": 226
        },
        "id": "gu99DEfMy8C1",
        "outputId": "070e77e2-7635-4b84-c129-f1e111320eb1"
      },
      "execution_count": 6,
      "outputs": [
        {
          "output_type": "execute_result",
          "data": {
            "text/plain": [
              "   ID Warehouse_block Mode_of_Shipment  Customer_care_calls  Customer_rating  \\\n",
              "0   1               D           Flight                    4                2   \n",
              "1   2               F           Flight                    4                5   \n",
              "2   3               A           Flight                    2                2   \n",
              "3   4               B           Flight                    3                3   \n",
              "4   5               C           Flight                    2                2   \n",
              "\n",
              "   Cost_of_the_Product  Prior_purchases Product_importance Gender  \\\n",
              "0                  177                3                low      F   \n",
              "1                  216                2                low      M   \n",
              "2                  183                4                low      M   \n",
              "3                  176                4             medium      M   \n",
              "4                  184                3             medium      F   \n",
              "\n",
              "   Discount_offered  Weight_in_gms  Reached.on.Time_Y.N  \n",
              "0                44           1233                    1  \n",
              "1                59           3088                    1  \n",
              "2                48           3374                    1  \n",
              "3                10           1177                    1  \n",
              "4                46           2484                    1  "
            ],
            "text/html": [
              "\n",
              "  <div id=\"df-47bb5b81-6911-4d6d-a131-0c868330eb4c\" class=\"colab-df-container\">\n",
              "    <div>\n",
              "<style scoped>\n",
              "    .dataframe tbody tr th:only-of-type {\n",
              "        vertical-align: middle;\n",
              "    }\n",
              "\n",
              "    .dataframe tbody tr th {\n",
              "        vertical-align: top;\n",
              "    }\n",
              "\n",
              "    .dataframe thead th {\n",
              "        text-align: right;\n",
              "    }\n",
              "</style>\n",
              "<table border=\"1\" class=\"dataframe\">\n",
              "  <thead>\n",
              "    <tr style=\"text-align: right;\">\n",
              "      <th></th>\n",
              "      <th>ID</th>\n",
              "      <th>Warehouse_block</th>\n",
              "      <th>Mode_of_Shipment</th>\n",
              "      <th>Customer_care_calls</th>\n",
              "      <th>Customer_rating</th>\n",
              "      <th>Cost_of_the_Product</th>\n",
              "      <th>Prior_purchases</th>\n",
              "      <th>Product_importance</th>\n",
              "      <th>Gender</th>\n",
              "      <th>Discount_offered</th>\n",
              "      <th>Weight_in_gms</th>\n",
              "      <th>Reached.on.Time_Y.N</th>\n",
              "    </tr>\n",
              "  </thead>\n",
              "  <tbody>\n",
              "    <tr>\n",
              "      <th>0</th>\n",
              "      <td>1</td>\n",
              "      <td>D</td>\n",
              "      <td>Flight</td>\n",
              "      <td>4</td>\n",
              "      <td>2</td>\n",
              "      <td>177</td>\n",
              "      <td>3</td>\n",
              "      <td>low</td>\n",
              "      <td>F</td>\n",
              "      <td>44</td>\n",
              "      <td>1233</td>\n",
              "      <td>1</td>\n",
              "    </tr>\n",
              "    <tr>\n",
              "      <th>1</th>\n",
              "      <td>2</td>\n",
              "      <td>F</td>\n",
              "      <td>Flight</td>\n",
              "      <td>4</td>\n",
              "      <td>5</td>\n",
              "      <td>216</td>\n",
              "      <td>2</td>\n",
              "      <td>low</td>\n",
              "      <td>M</td>\n",
              "      <td>59</td>\n",
              "      <td>3088</td>\n",
              "      <td>1</td>\n",
              "    </tr>\n",
              "    <tr>\n",
              "      <th>2</th>\n",
              "      <td>3</td>\n",
              "      <td>A</td>\n",
              "      <td>Flight</td>\n",
              "      <td>2</td>\n",
              "      <td>2</td>\n",
              "      <td>183</td>\n",
              "      <td>4</td>\n",
              "      <td>low</td>\n",
              "      <td>M</td>\n",
              "      <td>48</td>\n",
              "      <td>3374</td>\n",
              "      <td>1</td>\n",
              "    </tr>\n",
              "    <tr>\n",
              "      <th>3</th>\n",
              "      <td>4</td>\n",
              "      <td>B</td>\n",
              "      <td>Flight</td>\n",
              "      <td>3</td>\n",
              "      <td>3</td>\n",
              "      <td>176</td>\n",
              "      <td>4</td>\n",
              "      <td>medium</td>\n",
              "      <td>M</td>\n",
              "      <td>10</td>\n",
              "      <td>1177</td>\n",
              "      <td>1</td>\n",
              "    </tr>\n",
              "    <tr>\n",
              "      <th>4</th>\n",
              "      <td>5</td>\n",
              "      <td>C</td>\n",
              "      <td>Flight</td>\n",
              "      <td>2</td>\n",
              "      <td>2</td>\n",
              "      <td>184</td>\n",
              "      <td>3</td>\n",
              "      <td>medium</td>\n",
              "      <td>F</td>\n",
              "      <td>46</td>\n",
              "      <td>2484</td>\n",
              "      <td>1</td>\n",
              "    </tr>\n",
              "  </tbody>\n",
              "</table>\n",
              "</div>\n",
              "    <div class=\"colab-df-buttons\">\n",
              "\n",
              "  <div class=\"colab-df-container\">\n",
              "    <button class=\"colab-df-convert\" onclick=\"convertToInteractive('df-47bb5b81-6911-4d6d-a131-0c868330eb4c')\"\n",
              "            title=\"Convert this dataframe to an interactive table.\"\n",
              "            style=\"display:none;\">\n",
              "\n",
              "  <svg xmlns=\"http://www.w3.org/2000/svg\" height=\"24px\" viewBox=\"0 -960 960 960\">\n",
              "    <path d=\"M120-120v-720h720v720H120Zm60-500h600v-160H180v160Zm220 220h160v-160H400v160Zm0 220h160v-160H400v160ZM180-400h160v-160H180v160Zm440 0h160v-160H620v160ZM180-180h160v-160H180v160Zm440 0h160v-160H620v160Z\"/>\n",
              "  </svg>\n",
              "    </button>\n",
              "\n",
              "  <style>\n",
              "    .colab-df-container {\n",
              "      display:flex;\n",
              "      gap: 12px;\n",
              "    }\n",
              "\n",
              "    .colab-df-convert {\n",
              "      background-color: #E8F0FE;\n",
              "      border: none;\n",
              "      border-radius: 50%;\n",
              "      cursor: pointer;\n",
              "      display: none;\n",
              "      fill: #1967D2;\n",
              "      height: 32px;\n",
              "      padding: 0 0 0 0;\n",
              "      width: 32px;\n",
              "    }\n",
              "\n",
              "    .colab-df-convert:hover {\n",
              "      background-color: #E2EBFA;\n",
              "      box-shadow: 0px 1px 2px rgba(60, 64, 67, 0.3), 0px 1px 3px 1px rgba(60, 64, 67, 0.15);\n",
              "      fill: #174EA6;\n",
              "    }\n",
              "\n",
              "    .colab-df-buttons div {\n",
              "      margin-bottom: 4px;\n",
              "    }\n",
              "\n",
              "    [theme=dark] .colab-df-convert {\n",
              "      background-color: #3B4455;\n",
              "      fill: #D2E3FC;\n",
              "    }\n",
              "\n",
              "    [theme=dark] .colab-df-convert:hover {\n",
              "      background-color: #434B5C;\n",
              "      box-shadow: 0px 1px 3px 1px rgba(0, 0, 0, 0.15);\n",
              "      filter: drop-shadow(0px 1px 2px rgba(0, 0, 0, 0.3));\n",
              "      fill: #FFFFFF;\n",
              "    }\n",
              "  </style>\n",
              "\n",
              "    <script>\n",
              "      const buttonEl =\n",
              "        document.querySelector('#df-47bb5b81-6911-4d6d-a131-0c868330eb4c button.colab-df-convert');\n",
              "      buttonEl.style.display =\n",
              "        google.colab.kernel.accessAllowed ? 'block' : 'none';\n",
              "\n",
              "      async function convertToInteractive(key) {\n",
              "        const element = document.querySelector('#df-47bb5b81-6911-4d6d-a131-0c868330eb4c');\n",
              "        const dataTable =\n",
              "          await google.colab.kernel.invokeFunction('convertToInteractive',\n",
              "                                                    [key], {});\n",
              "        if (!dataTable) return;\n",
              "\n",
              "        const docLinkHtml = 'Like what you see? Visit the ' +\n",
              "          '<a target=\"_blank\" href=https://colab.research.google.com/notebooks/data_table.ipynb>data table notebook</a>'\n",
              "          + ' to learn more about interactive tables.';\n",
              "        element.innerHTML = '';\n",
              "        dataTable['output_type'] = 'display_data';\n",
              "        await google.colab.output.renderOutput(dataTable, element);\n",
              "        const docLink = document.createElement('div');\n",
              "        docLink.innerHTML = docLinkHtml;\n",
              "        element.appendChild(docLink);\n",
              "      }\n",
              "    </script>\n",
              "  </div>\n",
              "\n",
              "\n",
              "<div id=\"df-3391af81-2bfd-4030-be4a-896d60158ad3\">\n",
              "  <button class=\"colab-df-quickchart\" onclick=\"quickchart('df-3391af81-2bfd-4030-be4a-896d60158ad3')\"\n",
              "            title=\"Suggest charts\"\n",
              "            style=\"display:none;\">\n",
              "\n",
              "<svg xmlns=\"http://www.w3.org/2000/svg\" height=\"24px\"viewBox=\"0 0 24 24\"\n",
              "     width=\"24px\">\n",
              "    <g>\n",
              "        <path d=\"M19 3H5c-1.1 0-2 .9-2 2v14c0 1.1.9 2 2 2h14c1.1 0 2-.9 2-2V5c0-1.1-.9-2-2-2zM9 17H7v-7h2v7zm4 0h-2V7h2v10zm4 0h-2v-4h2v4z\"/>\n",
              "    </g>\n",
              "</svg>\n",
              "  </button>\n",
              "\n",
              "<style>\n",
              "  .colab-df-quickchart {\n",
              "      --bg-color: #E8F0FE;\n",
              "      --fill-color: #1967D2;\n",
              "      --hover-bg-color: #E2EBFA;\n",
              "      --hover-fill-color: #174EA6;\n",
              "      --disabled-fill-color: #AAA;\n",
              "      --disabled-bg-color: #DDD;\n",
              "  }\n",
              "\n",
              "  [theme=dark] .colab-df-quickchart {\n",
              "      --bg-color: #3B4455;\n",
              "      --fill-color: #D2E3FC;\n",
              "      --hover-bg-color: #434B5C;\n",
              "      --hover-fill-color: #FFFFFF;\n",
              "      --disabled-bg-color: #3B4455;\n",
              "      --disabled-fill-color: #666;\n",
              "  }\n",
              "\n",
              "  .colab-df-quickchart {\n",
              "    background-color: var(--bg-color);\n",
              "    border: none;\n",
              "    border-radius: 50%;\n",
              "    cursor: pointer;\n",
              "    display: none;\n",
              "    fill: var(--fill-color);\n",
              "    height: 32px;\n",
              "    padding: 0;\n",
              "    width: 32px;\n",
              "  }\n",
              "\n",
              "  .colab-df-quickchart:hover {\n",
              "    background-color: var(--hover-bg-color);\n",
              "    box-shadow: 0 1px 2px rgba(60, 64, 67, 0.3), 0 1px 3px 1px rgba(60, 64, 67, 0.15);\n",
              "    fill: var(--button-hover-fill-color);\n",
              "  }\n",
              "\n",
              "  .colab-df-quickchart-complete:disabled,\n",
              "  .colab-df-quickchart-complete:disabled:hover {\n",
              "    background-color: var(--disabled-bg-color);\n",
              "    fill: var(--disabled-fill-color);\n",
              "    box-shadow: none;\n",
              "  }\n",
              "\n",
              "  .colab-df-spinner {\n",
              "    border: 2px solid var(--fill-color);\n",
              "    border-color: transparent;\n",
              "    border-bottom-color: var(--fill-color);\n",
              "    animation:\n",
              "      spin 1s steps(1) infinite;\n",
              "  }\n",
              "\n",
              "  @keyframes spin {\n",
              "    0% {\n",
              "      border-color: transparent;\n",
              "      border-bottom-color: var(--fill-color);\n",
              "      border-left-color: var(--fill-color);\n",
              "    }\n",
              "    20% {\n",
              "      border-color: transparent;\n",
              "      border-left-color: var(--fill-color);\n",
              "      border-top-color: var(--fill-color);\n",
              "    }\n",
              "    30% {\n",
              "      border-color: transparent;\n",
              "      border-left-color: var(--fill-color);\n",
              "      border-top-color: var(--fill-color);\n",
              "      border-right-color: var(--fill-color);\n",
              "    }\n",
              "    40% {\n",
              "      border-color: transparent;\n",
              "      border-right-color: var(--fill-color);\n",
              "      border-top-color: var(--fill-color);\n",
              "    }\n",
              "    60% {\n",
              "      border-color: transparent;\n",
              "      border-right-color: var(--fill-color);\n",
              "    }\n",
              "    80% {\n",
              "      border-color: transparent;\n",
              "      border-right-color: var(--fill-color);\n",
              "      border-bottom-color: var(--fill-color);\n",
              "    }\n",
              "    90% {\n",
              "      border-color: transparent;\n",
              "      border-bottom-color: var(--fill-color);\n",
              "    }\n",
              "  }\n",
              "</style>\n",
              "\n",
              "  <script>\n",
              "    async function quickchart(key) {\n",
              "      const quickchartButtonEl =\n",
              "        document.querySelector('#' + key + ' button');\n",
              "      quickchartButtonEl.disabled = true;  // To prevent multiple clicks.\n",
              "      quickchartButtonEl.classList.add('colab-df-spinner');\n",
              "      try {\n",
              "        const charts = await google.colab.kernel.invokeFunction(\n",
              "            'suggestCharts', [key], {});\n",
              "      } catch (error) {\n",
              "        console.error('Error during call to suggestCharts:', error);\n",
              "      }\n",
              "      quickchartButtonEl.classList.remove('colab-df-spinner');\n",
              "      quickchartButtonEl.classList.add('colab-df-quickchart-complete');\n",
              "    }\n",
              "    (() => {\n",
              "      let quickchartButtonEl =\n",
              "        document.querySelector('#df-3391af81-2bfd-4030-be4a-896d60158ad3 button');\n",
              "      quickchartButtonEl.style.display =\n",
              "        google.colab.kernel.accessAllowed ? 'block' : 'none';\n",
              "    })();\n",
              "  </script>\n",
              "</div>\n",
              "\n",
              "    </div>\n",
              "  </div>\n"
            ],
            "application/vnd.google.colaboratory.intrinsic+json": {
              "type": "dataframe",
              "variable_name": "data",
              "summary": "{\n  \"name\": \"data\",\n  \"rows\": 10999,\n  \"fields\": [\n    {\n      \"column\": \"ID\",\n      \"properties\": {\n        \"dtype\": \"number\",\n        \"std\": 3175,\n        \"min\": 1,\n        \"max\": 10999,\n        \"num_unique_values\": 10999,\n        \"samples\": [\n          108,\n          5595,\n          6998\n        ],\n        \"semantic_type\": \"\",\n        \"description\": \"\"\n      }\n    },\n    {\n      \"column\": \"Warehouse_block\",\n      \"properties\": {\n        \"dtype\": \"category\",\n        \"num_unique_values\": 5,\n        \"samples\": [\n          \"F\",\n          \"C\",\n          \"A\"\n        ],\n        \"semantic_type\": \"\",\n        \"description\": \"\"\n      }\n    },\n    {\n      \"column\": \"Mode_of_Shipment\",\n      \"properties\": {\n        \"dtype\": \"category\",\n        \"num_unique_values\": 3,\n        \"samples\": [\n          \"Flight\",\n          \"Ship\",\n          \"Road\"\n        ],\n        \"semantic_type\": \"\",\n        \"description\": \"\"\n      }\n    },\n    {\n      \"column\": \"Customer_care_calls\",\n      \"properties\": {\n        \"dtype\": \"number\",\n        \"std\": 1,\n        \"min\": 2,\n        \"max\": 7,\n        \"num_unique_values\": 6,\n        \"samples\": [\n          4,\n          2,\n          7\n        ],\n        \"semantic_type\": \"\",\n        \"description\": \"\"\n      }\n    },\n    {\n      \"column\": \"Customer_rating\",\n      \"properties\": {\n        \"dtype\": \"number\",\n        \"std\": 1,\n        \"min\": 1,\n        \"max\": 5,\n        \"num_unique_values\": 5,\n        \"samples\": [\n          5,\n          4,\n          3\n        ],\n        \"semantic_type\": \"\",\n        \"description\": \"\"\n      }\n    },\n    {\n      \"column\": \"Cost_of_the_Product\",\n      \"properties\": {\n        \"dtype\": \"number\",\n        \"std\": 48,\n        \"min\": 96,\n        \"max\": 310,\n        \"num_unique_values\": 215,\n        \"samples\": [\n          306,\n          297,\n          262\n        ],\n        \"semantic_type\": \"\",\n        \"description\": \"\"\n      }\n    },\n    {\n      \"column\": \"Prior_purchases\",\n      \"properties\": {\n        \"dtype\": \"number\",\n        \"std\": 1,\n        \"min\": 2,\n        \"max\": 10,\n        \"num_unique_values\": 8,\n        \"samples\": [\n          2,\n          7,\n          3\n        ],\n        \"semantic_type\": \"\",\n        \"description\": \"\"\n      }\n    },\n    {\n      \"column\": \"Product_importance\",\n      \"properties\": {\n        \"dtype\": \"category\",\n        \"num_unique_values\": 3,\n        \"samples\": [\n          \"low\",\n          \"medium\",\n          \"high\"\n        ],\n        \"semantic_type\": \"\",\n        \"description\": \"\"\n      }\n    },\n    {\n      \"column\": \"Gender\",\n      \"properties\": {\n        \"dtype\": \"category\",\n        \"num_unique_values\": 2,\n        \"samples\": [\n          \"M\",\n          \"F\"\n        ],\n        \"semantic_type\": \"\",\n        \"description\": \"\"\n      }\n    },\n    {\n      \"column\": \"Discount_offered\",\n      \"properties\": {\n        \"dtype\": \"number\",\n        \"std\": 16,\n        \"min\": 1,\n        \"max\": 65,\n        \"num_unique_values\": 65,\n        \"samples\": [\n          25,\n          34\n        ],\n        \"semantic_type\": \"\",\n        \"description\": \"\"\n      }\n    },\n    {\n      \"column\": \"Weight_in_gms\",\n      \"properties\": {\n        \"dtype\": \"number\",\n        \"std\": 1635,\n        \"min\": 1001,\n        \"max\": 7846,\n        \"num_unique_values\": 4034,\n        \"samples\": [\n          5483,\n          1238\n        ],\n        \"semantic_type\": \"\",\n        \"description\": \"\"\n      }\n    },\n    {\n      \"column\": \"Reached.on.Time_Y.N\",\n      \"properties\": {\n        \"dtype\": \"number\",\n        \"std\": 0,\n        \"min\": 0,\n        \"max\": 1,\n        \"num_unique_values\": 2,\n        \"samples\": [\n          0,\n          1\n        ],\n        \"semantic_type\": \"\",\n        \"description\": \"\"\n      }\n    }\n  ]\n}"
            }
          },
          "metadata": {},
          "execution_count": 6
        }
      ]
    },
    {
      "cell_type": "code",
      "source": [
        "#Columns that determine delivery times:\n",
        "#1. Mode Of Shipment\n",
        "#2. Product Importance\n",
        "#3. Weight in gms (maybe)?\n",
        "\n",
        "#To Predict:\n",
        "#Reached.on.Time_Y.N"
      ],
      "metadata": {
        "id": "o566CKmNziOZ"
      },
      "execution_count": 7,
      "outputs": []
    },
    {
      "cell_type": "code",
      "source": [
        "data.shape"
      ],
      "metadata": {
        "colab": {
          "base_uri": "https://localhost:8080/"
        },
        "id": "1gHu-6Pu02zg",
        "outputId": "ff327c08-3572-4207-fbb4-c549d6aabcd4"
      },
      "execution_count": 8,
      "outputs": [
        {
          "output_type": "execute_result",
          "data": {
            "text/plain": [
              "(10999, 12)"
            ]
          },
          "metadata": {},
          "execution_count": 8
        }
      ]
    },
    {
      "cell_type": "code",
      "source": [
        "data.info()"
      ],
      "metadata": {
        "colab": {
          "base_uri": "https://localhost:8080/"
        },
        "id": "h6Xjy9BW047u",
        "outputId": "68a3e90b-ac98-4f4e-9803-b50319ab69fe"
      },
      "execution_count": 9,
      "outputs": [
        {
          "output_type": "stream",
          "name": "stdout",
          "text": [
            "<class 'pandas.core.frame.DataFrame'>\n",
            "RangeIndex: 10999 entries, 0 to 10998\n",
            "Data columns (total 12 columns):\n",
            " #   Column               Non-Null Count  Dtype \n",
            "---  ------               --------------  ----- \n",
            " 0   ID                   10999 non-null  int64 \n",
            " 1   Warehouse_block      10999 non-null  object\n",
            " 2   Mode_of_Shipment     10999 non-null  object\n",
            " 3   Customer_care_calls  10999 non-null  int64 \n",
            " 4   Customer_rating      10999 non-null  int64 \n",
            " 5   Cost_of_the_Product  10999 non-null  int64 \n",
            " 6   Prior_purchases      10999 non-null  int64 \n",
            " 7   Product_importance   10999 non-null  object\n",
            " 8   Gender               10999 non-null  object\n",
            " 9   Discount_offered     10999 non-null  int64 \n",
            " 10  Weight_in_gms        10999 non-null  int64 \n",
            " 11  Reached.on.Time_Y.N  10999 non-null  int64 \n",
            "dtypes: int64(8), object(4)\n",
            "memory usage: 1.0+ MB\n"
          ]
        }
      ]
    },
    {
      "cell_type": "code",
      "source": [
        "data.isnull().sum()"
      ],
      "metadata": {
        "colab": {
          "base_uri": "https://localhost:8080/"
        },
        "id": "HSVM8dYJ06ti",
        "outputId": "aa173698-4316-48dc-d332-64c4ce0e25a8"
      },
      "execution_count": 10,
      "outputs": [
        {
          "output_type": "execute_result",
          "data": {
            "text/plain": [
              "ID                     0\n",
              "Warehouse_block        0\n",
              "Mode_of_Shipment       0\n",
              "Customer_care_calls    0\n",
              "Customer_rating        0\n",
              "Cost_of_the_Product    0\n",
              "Prior_purchases        0\n",
              "Product_importance     0\n",
              "Gender                 0\n",
              "Discount_offered       0\n",
              "Weight_in_gms          0\n",
              "Reached.on.Time_Y.N    0\n",
              "dtype: int64"
            ]
          },
          "metadata": {},
          "execution_count": 10
        }
      ]
    },
    {
      "cell_type": "markdown",
      "source": [
        "### DATA PREPROCESSING"
      ],
      "metadata": {
        "id": "dxZJq5ycn7WY"
      }
    },
    {
      "cell_type": "code",
      "source": [
        "print(data['Warehouse_block'].unique())\n",
        "print(data['Mode_of_Shipment'].unique())\n",
        "print(data['Product_importance'].unique())\n",
        "print(data['Gender'].unique())"
      ],
      "metadata": {
        "id": "9TKcxADh2FYA",
        "colab": {
          "base_uri": "https://localhost:8080/"
        },
        "outputId": "95d5566c-20a4-430c-9e2c-d144a07d1a37"
      },
      "execution_count": 11,
      "outputs": [
        {
          "output_type": "stream",
          "name": "stdout",
          "text": [
            "['D' 'F' 'A' 'B' 'C']\n",
            "['Flight' 'Ship' 'Road']\n",
            "['low' 'medium' 'high']\n",
            "['F' 'M']\n"
          ]
        }
      ]
    },
    {
      "cell_type": "code",
      "source": [
        "print(f\"{data['Warehouse_block'].value_counts()}+\\n\")\n",
        "print(f\"{data['Mode_of_Shipment'].value_counts()}+\\n\")\n",
        "print(f\"{data['Product_importance'].value_counts()}+\\n\")\n",
        "print(f\"{data['Gender'].value_counts()}\")"
      ],
      "metadata": {
        "id": "tAT62a__gSW8",
        "colab": {
          "base_uri": "https://localhost:8080/"
        },
        "outputId": "38aa7f9e-26ae-4b7c-b6e2-9b364f9a1930"
      },
      "execution_count": 12,
      "outputs": [
        {
          "output_type": "stream",
          "name": "stdout",
          "text": [
            "Warehouse_block\n",
            "F    3666\n",
            "D    1834\n",
            "A    1833\n",
            "B    1833\n",
            "C    1833\n",
            "Name: count, dtype: int64+\n",
            "\n",
            "Mode_of_Shipment\n",
            "Ship      7462\n",
            "Flight    1777\n",
            "Road      1760\n",
            "Name: count, dtype: int64+\n",
            "\n",
            "Product_importance\n",
            "low       5297\n",
            "medium    4754\n",
            "high       948\n",
            "Name: count, dtype: int64+\n",
            "\n",
            "Gender\n",
            "F    5545\n",
            "M    5454\n",
            "Name: count, dtype: int64\n"
          ]
        }
      ]
    },
    {
      "cell_type": "code",
      "source": [
        "#Now We have to encode the object type data"
      ],
      "metadata": {
        "id": "BZkjQqa4TX2S"
      },
      "execution_count": 13,
      "outputs": []
    },
    {
      "cell_type": "markdown",
      "source": [
        "ENCODING\n"
      ],
      "metadata": {
        "id": "09dzWfA2U6bC"
      }
    },
    {
      "cell_type": "code",
      "source": [
        "names = data.columns\n",
        "names"
      ],
      "metadata": {
        "id": "6DPPVEARU-U5",
        "colab": {
          "base_uri": "https://localhost:8080/"
        },
        "outputId": "c7439784-ed2d-4f3d-b424-e287e3d7104f"
      },
      "execution_count": 14,
      "outputs": [
        {
          "output_type": "execute_result",
          "data": {
            "text/plain": [
              "Index(['ID', 'Warehouse_block', 'Mode_of_Shipment', 'Customer_care_calls',\n",
              "       'Customer_rating', 'Cost_of_the_Product', 'Prior_purchases',\n",
              "       'Product_importance', 'Gender', 'Discount_offered', 'Weight_in_gms',\n",
              "       'Reached.on.Time_Y.N'],\n",
              "      dtype='object')"
            ]
          },
          "metadata": {},
          "execution_count": 14
        }
      ]
    },
    {
      "cell_type": "code",
      "source": [
        "print(data['Reached.on.Time_Y.N'].value_counts()) #No need to balance undersampling or oversampling"
      ],
      "metadata": {
        "colab": {
          "base_uri": "https://localhost:8080/"
        },
        "id": "Xrp7tD3ETxlw",
        "outputId": "1c202a0c-fc29-42a9-e39d-ae22f47507c9"
      },
      "execution_count": 15,
      "outputs": [
        {
          "output_type": "stream",
          "name": "stdout",
          "text": [
            "Reached.on.Time_Y.N\n",
            "1    6563\n",
            "0    4436\n",
            "Name: count, dtype: int64\n"
          ]
        }
      ]
    },
    {
      "cell_type": "code",
      "source": [
        "sns.countplot(x=data['Reached.on.Time_Y.N'],data=data)\n",
        "plt.title('Target Distribution')\n",
        "plt.xlabel('class')\n",
        "plt.ylabel('frequency')"
      ],
      "metadata": {
        "colab": {
          "base_uri": "https://localhost:8080/",
          "height": 489
        },
        "id": "85S5W62wXWJE",
        "outputId": "42fd4e0c-ca20-4f4f-e8f9-4850c04b0c69"
      },
      "execution_count": 16,
      "outputs": [
        {
          "output_type": "execute_result",
          "data": {
            "text/plain": [
              "Text(0, 0.5, 'frequency')"
            ]
          },
          "metadata": {},
          "execution_count": 16
        },
        {
          "output_type": "display_data",
          "data": {
            "text/plain": [
              "<Figure size 640x480 with 1 Axes>"
            ],
            "image/png": "[encoded data removed]"
          },
          "metadata": {}
        }
      ]
    },
    {
      "cell_type": "code",
      "source": [
        "# joblib.dump(le, 'warehouse_le.pkl')\n",
        "# joblib.dump(le, 'shipment_le.pkl')\n",
        "# joblib.dump(le, 'importance_le.pkl')"
      ],
      "metadata": {
        "id": "bdWTwnz0OTEN"
      },
      "execution_count": 17,
      "outputs": []
    },
    {
      "cell_type": "code",
      "source": [
        "#Columns to encode: \"Warehouse_Block\", \"Mode_of_Shipment\", \"Product_importance\", \"Gender\""
      ],
      "metadata": {
        "id": "IoAwR8xtVj50"
      },
      "execution_count": 18,
      "outputs": []
    },
    {
      "cell_type": "code",
      "source": [
        "from sklearn.preprocessing import LabelEncoder"
      ],
      "metadata": {
        "id": "tyPXRvesV2i9"
      },
      "execution_count": 19,
      "outputs": []
    },
    {
      "cell_type": "code",
      "source": [
        "le = LabelEncoder()"
      ],
      "metadata": {
        "id": "BkwdjrAuYqyX"
      },
      "execution_count": 20,
      "outputs": []
    },
    {
      "cell_type": "code",
      "source": [
        "data['Warehouse_block']=le.fit_transform(data['Warehouse_block'])\n",
        "data['Mode_of_Shipment']=le.fit_transform(data['Mode_of_Shipment'])\n",
        "data['Product_importance']=le.fit_transform(data['Product_importance'])\n",
        "data['Gender']=le.fit_transform(data['Gender'])"
      ],
      "metadata": {
        "id": "CIeUiiiZZPza"
      },
      "execution_count": 21,
      "outputs": []
    },
    {
      "cell_type": "code",
      "source": [
        "data.head()"
      ],
      "metadata": {
        "colab": {
          "base_uri": "https://localhost:8080/",
          "height": 226
        },
        "id": "3EuYHuSybEi0",
        "outputId": "2fcd0bce-3825-4131-9202-e22b928f2df9"
      },
      "execution_count": 22,
      "outputs": [
        {
          "output_type": "execute_result",
          "data": {
            "text/plain": [
              "   ID  Warehouse_block  Mode_of_Shipment  Customer_care_calls  \\\n",
              "0   1                3                 0                    4   \n",
              "1   2                4                 0                    4   \n",
              "2   3                0                 0                    2   \n",
              "3   4                1                 0                    3   \n",
              "4   5                2                 0                    2   \n",
              "\n",
              "   Customer_rating  Cost_of_the_Product  Prior_purchases  Product_importance  \\\n",
              "0                2                  177                3                   1   \n",
              "1                5                  216                2                   1   \n",
              "2                2                  183                4                   1   \n",
              "3                3                  176                4                   2   \n",
              "4                2                  184                3                   2   \n",
              "\n",
              "   Gender  Discount_offered  Weight_in_gms  Reached.on.Time_Y.N  \n",
              "0       0                44           1233                    1  \n",
              "1       1                59           3088                    1  \n",
              "2       1                48           3374                    1  \n",
              "3       1                10           1177                    1  \n",
              "4       0                46           2484                    1  "
            ],
            "text/html": [
              "\n",
              "  <div id=\"df-07e2ff85-3e9d-4f76-87c7-6873e94847da\" class=\"colab-df-container\">\n",
              "    <div>\n",
              "<style scoped>\n",
              "    .dataframe tbody tr th:only-of-type {\n",
              "        vertical-align: middle;\n",
              "    }\n",
              "\n",
              "    .dataframe tbody tr th {\n",
              "        vertical-align: top;\n",
              "    }\n",
              "\n",
              "    .dataframe thead th {\n",
              "        text-align: right;\n",
              "    }\n",
              "</style>\n",
              "<table border=\"1\" class=\"dataframe\">\n",
              "  <thead>\n",
              "    <tr style=\"text-align: right;\">\n",
              "      <th></th>\n",
              "      <th>ID</th>\n",
              "      <th>Warehouse_block</th>\n",
              "      <th>Mode_of_Shipment</th>\n",
              "      <th>Customer_care_calls</th>\n",
              "      <th>Customer_rating</th>\n",
              "      <th>Cost_of_the_Product</th>\n",
              "      <th>Prior_purchases</th>\n",
              "      <th>Product_importance</th>\n",
              "      <th>Gender</th>\n",
              "      <th>Discount_offered</th>\n",
              "      <th>Weight_in_gms</th>\n",
              "      <th>Reached.on.Time_Y.N</th>\n",
              "    </tr>\n",
              "  </thead>\n",
              "  <tbody>\n",
              "    <tr>\n",
              "      <th>0</th>\n",
              "      <td>1</td>\n",
              "      <td>3</td>\n",
              "      <td>0</td>\n",
              "      <td>4</td>\n",
              "      <td>2</td>\n",
              "      <td>177</td>\n",
              "      <td>3</td>\n",
              "      <td>1</td>\n",
              "      <td>0</td>\n",
              "      <td>44</td>\n",
              "      <td>1233</td>\n",
              "      <td>1</td>\n",
              "    </tr>\n",
              "    <tr>\n",
              "      <th>1</th>\n",
              "      <td>2</td>\n",
              "      <td>4</td>\n",
              "      <td>0</td>\n",
              "      <td>4</td>\n",
              "      <td>5</td>\n",
              "      <td>216</td>\n",
              "      <td>2</td>\n",
              "      <td>1</td>\n",
              "      <td>1</td>\n",
              "      <td>59</td>\n",
              "      <td>3088</td>\n",
              "      <td>1</td>\n",
              "    </tr>\n",
              "    <tr>\n",
              "      <th>2</th>\n",
              "      <td>3</td>\n",
              "      <td>0</td>\n",
              "      <td>0</td>\n",
              "      <td>2</td>\n",
              "      <td>2</td>\n",
              "      <td>183</td>\n",
              "      <td>4</td>\n",
              "      <td>1</td>\n",
              "      <td>1</td>\n",
              "      <td>48</td>\n",
              "      <td>3374</td>\n",
              "      <td>1</td>\n",
              "    </tr>\n",
              "    <tr>\n",
              "      <th>3</th>\n",
              "      <td>4</td>\n",
              "      <td>1</td>\n",
              "      <td>0</td>\n",
              "      <td>3</td>\n",
              "      <td>3</td>\n",
              "      <td>176</td>\n",
              "      <td>4</td>\n",
              "      <td>2</td>\n",
              "      <td>1</td>\n",
              "      <td>10</td>\n",
              "      <td>1177</td>\n",
              "      <td>1</td>\n",
              "    </tr>\n",
              "    <tr>\n",
              "      <th>4</th>\n",
              "      <td>5</td>\n",
              "      <td>2</td>\n",
              "      <td>0</td>\n",
              "      <td>2</td>\n",
              "      <td>2</td>\n",
              "      <td>184</td>\n",
              "      <td>3</td>\n",
              "      <td>2</td>\n",
              "      <td>0</td>\n",
              "      <td>46</td>\n",
              "      <td>2484</td>\n",
              "      <td>1</td>\n",
              "    </tr>\n",
              "  </tbody>\n",
              "</table>\n",
              "</div>\n",
              "    <div class=\"colab-df-buttons\">\n",
              "\n",
              "  <div class=\"colab-df-container\">\n",
              "    <button class=\"colab-df-convert\" onclick=\"convertToInteractive('df-07e2ff85-3e9d-4f76-87c7-6873e94847da')\"\n",
              "            title=\"Convert this dataframe to an interactive table.\"\n",
              "            style=\"display:none;\">\n",
              "\n",
              "  <svg xmlns=\"http://www.w3.org/2000/svg\" height=\"24px\" viewBox=\"0 -960 960 960\">\n",
              "    <path d=\"M120-120v-720h720v720H120Zm60-500h600v-160H180v160Zm220 220h160v-160H400v160Zm0 220h160v-160H400v160ZM180-400h160v-160H180v160Zm440 0h160v-160H620v160ZM180-180h160v-160H180v160Zm440 0h160v-160H620v160Z\"/>\n",
              "  </svg>\n",
              "    </button>\n",
              "\n",
              "  <style>\n",
              "    .colab-df-container {\n",
              "      display:flex;\n",
              "      gap: 12px;\n",
              "    }\n",
              "\n",
              "    .colab-df-convert {\n",
              "      background-color: #E8F0FE;\n",
              "      border: none;\n",
              "      border-radius: 50%;\n",
              "      cursor: pointer;\n",
              "      display: none;\n",
              "      fill: #1967D2;\n",
              "      height: 32px;\n",
              "      padding: 0 0 0 0;\n",
              "      width: 32px;\n",
              "    }\n",
              "\n",
              "    .colab-df-convert:hover {\n",
              "      background-color: #E2EBFA;\n",
              "      box-shadow: 0px 1px 2px rgba(60, 64, 67, 0.3), 0px 1px 3px 1px rgba(60, 64, 67, 0.15);\n",
              "      fill: #174EA6;\n",
              "    }\n",
              "\n",
              "    .colab-df-buttons div {\n",
              "      margin-bottom: 4px;\n",
              "    }\n",
              "\n",
              "    [theme=dark] .colab-df-convert {\n",
              "      background-color: #3B4455;\n",
              "      fill: #D2E3FC;\n",
              "    }\n",
              "\n",
              "    [theme=dark] .colab-df-convert:hover {\n",
              "      background-color: #434B5C;\n",
              "      box-shadow: 0px 1px 3px 1px rgba(0, 0, 0, 0.15);\n",
              "      filter: drop-shadow(0px 1px 2px rgba(0, 0, 0, 0.3));\n",
              "      fill: #FFFFFF;\n",
              "    }\n",
              "  </style>\n",
              "\n",
              "    <script>\n",
              "      const buttonEl =\n",
              "        document.querySelector('#df-07e2ff85-3e9d-4f76-87c7-6873e94847da button.colab-df-convert');\n",
              "      buttonEl.style.display =\n",
              "        google.colab.kernel.accessAllowed ? 'block' : 'none';\n",
              "\n",
              "      async function convertToInteractive(key) {\n",
              "        const element = document.querySelector('#df-07e2ff85-3e9d-4f76-87c7-6873e94847da');\n",
              "        const dataTable =\n",
              "          await google.colab.kernel.invokeFunction('convertToInteractive',\n",
              "                                                    [key], {});\n",
              "        if (!dataTable) return;\n",
              "\n",
              "        const docLinkHtml = 'Like what you see? Visit the ' +\n",
              "          '<a target=\"_blank\" href=https://colab.research.google.com/notebooks/data_table.ipynb>data table notebook</a>'\n",
              "          + ' to learn more about interactive tables.';\n",
              "        element.innerHTML = '';\n",
              "        dataTable['output_type'] = 'display_data';\n",
              "        await google.colab.output.renderOutput(dataTable, element);\n",
              "        const docLink = document.createElement('div');\n",
              "        docLink.innerHTML = docLinkHtml;\n",
              "        element.appendChild(docLink);\n",
              "      }\n",
              "    </script>\n",
              "  </div>\n",
              "\n",
              "\n",
              "<div id=\"df-727b8b70-f407-436e-8895-80397fe58fa8\">\n",
              "  <button class=\"colab-df-quickchart\" onclick=\"quickchart('df-727b8b70-f407-436e-8895-80397fe58fa8')\"\n",
              "            title=\"Suggest charts\"\n",
              "            style=\"display:none;\">\n",
              "\n",
              "<svg xmlns=\"http://www.w3.org/2000/svg\" height=\"24px\"viewBox=\"0 0 24 24\"\n",
              "     width=\"24px\">\n",
              "    <g>\n",
              "        <path d=\"M19 3H5c-1.1 0-2 .9-2 2v14c0 1.1.9 2 2 2h14c1.1 0 2-.9 2-2V5c0-1.1-.9-2-2-2zM9 17H7v-7h2v7zm4 0h-2V7h2v10zm4 0h-2v-4h2v4z\"/>\n",
              "    </g>\n",
              "</svg>\n",
              "  </button>\n",
              "\n",
              "<style>\n",
              "  .colab-df-quickchart {\n",
              "      --bg-color: #E8F0FE;\n",
              "      --fill-color: #1967D2;\n",
              "      --hover-bg-color: #E2EBFA;\n",
              "      --hover-fill-color: #174EA6;\n",
              "      --disabled-fill-color: #AAA;\n",
              "      --disabled-bg-color: #DDD;\n",
              "  }\n",
              "\n",
              "  [theme=dark] .colab-df-quickchart {\n",
              "      --bg-color: #3B4455;\n",
              "      --fill-color: #D2E3FC;\n",
              "      --hover-bg-color: #434B5C;\n",
              "      --hover-fill-color: #FFFFFF;\n",
              "      --disabled-bg-color: #3B4455;\n",
              "      --disabled-fill-color: #666;\n",
              "  }\n",
              "\n",
              "  .colab-df-quickchart {\n",
              "    background-color: var(--bg-color);\n",
              "    border: none;\n",
              "    border-radius: 50%;\n",
              "    cursor: pointer;\n",
              "    display: none;\n",
              "    fill: var(--fill-color);\n",
              "    height: 32px;\n",
              "    padding: 0;\n",
              "    width: 32px;\n",
              "  }\n",
              "\n",
              "  .colab-df-quickchart:hover {\n",
              "    background-color: var(--hover-bg-color);\n",
              "    box-shadow: 0 1px 2px rgba(60, 64, 67, 0.3), 0 1px 3px 1px rgba(60, 64, 67, 0.15);\n",
              "    fill: var(--button-hover-fill-color);\n",
              "  }\n",
              "\n",
              "  .colab-df-quickchart-complete:disabled,\n",
              "  .colab-df-quickchart-complete:disabled:hover {\n",
              "    background-color: var(--disabled-bg-color);\n",
              "    fill: var(--disabled-fill-color);\n",
              "    box-shadow: none;\n",
              "  }\n",
              "\n",
              "  .colab-df-spinner {\n",
              "    border: 2px solid var(--fill-color);\n",
              "    border-color: transparent;\n",
              "    border-bottom-color: var(--fill-color);\n",
              "    animation:\n",
              "      spin 1s steps(1) infinite;\n",
              "  }\n",
              "\n",
              "  @keyframes spin {\n",
              "    0% {\n",
              "      border-color: transparent;\n",
              "      border-bottom-color: var(--fill-color);\n",
              "      border-left-color: var(--fill-color);\n",
              "    }\n",
              "    20% {\n",
              "      border-color: transparent;\n",
              "      border-left-color: var(--fill-color);\n",
              "      border-top-color: var(--fill-color);\n",
              "    }\n",
              "    30% {\n",
              "      border-color: transparent;\n",
              "      border-left-color: var(--fill-color);\n",
              "      border-top-color: var(--fill-color);\n",
              "      border-right-color: var(--fill-color);\n",
              "    }\n",
              "    40% {\n",
              "      border-color: transparent;\n",
              "      border-right-color: var(--fill-color);\n",
              "      border-top-color: var(--fill-color);\n",
              "    }\n",
              "    60% {\n",
              "      border-color: transparent;\n",
              "      border-right-color: var(--fill-color);\n",
              "    }\n",
              "    80% {\n",
              "      border-color: transparent;\n",
              "      border-right-color: var(--fill-color);\n",
              "      border-bottom-color: var(--fill-color);\n",
              "    }\n",
              "    90% {\n",
              "      border-color: transparent;\n",
              "      border-bottom-color: var(--fill-color);\n",
              "    }\n",
              "  }\n",
              "</style>\n",
              "\n",
              "  <script>\n",
              "    async function quickchart(key) {\n",
              "      const quickchartButtonEl =\n",
              "        document.querySelector('#' + key + ' button');\n",
              "      quickchartButtonEl.disabled = true;  // To prevent multiple clicks.\n",
              "      quickchartButtonEl.classList.add('colab-df-spinner');\n",
              "      try {\n",
              "        const charts = await google.colab.kernel.invokeFunction(\n",
              "            'suggestCharts', [key], {});\n",
              "      } catch (error) {\n",
              "        console.error('Error during call to suggestCharts:', error);\n",
              "      }\n",
              "      quickchartButtonEl.classList.remove('colab-df-spinner');\n",
              "      quickchartButtonEl.classList.add('colab-df-quickchart-complete');\n",
              "    }\n",
              "    (() => {\n",
              "      let quickchartButtonEl =\n",
              "        document.querySelector('#df-727b8b70-f407-436e-8895-80397fe58fa8 button');\n",
              "      quickchartButtonEl.style.display =\n",
              "        google.colab.kernel.accessAllowed ? 'block' : 'none';\n",
              "    })();\n",
              "  </script>\n",
              "</div>\n",
              "\n",
              "    </div>\n",
              "  </div>\n"
            ],
            "application/vnd.google.colaboratory.intrinsic+json": {
              "type": "dataframe",
              "variable_name": "data",
              "summary": "{\n  \"name\": \"data\",\n  \"rows\": 10999,\n  \"fields\": [\n    {\n      \"column\": \"ID\",\n      \"properties\": {\n        \"dtype\": \"number\",\n        \"std\": 3175,\n        \"min\": 1,\n        \"max\": 10999,\n        \"num_unique_values\": 10999,\n        \"samples\": [\n          108,\n          5595,\n          6998\n        ],\n        \"semantic_type\": \"\",\n        \"description\": \"\"\n      }\n    },\n    {\n      \"column\": \"Warehouse_block\",\n      \"properties\": {\n        \"dtype\": \"number\",\n        \"std\": 1,\n        \"min\": 0,\n        \"max\": 4,\n        \"num_unique_values\": 5,\n        \"samples\": [\n          4,\n          2,\n          0\n        ],\n        \"semantic_type\": \"\",\n        \"description\": \"\"\n      }\n    },\n    {\n      \"column\": \"Mode_of_Shipment\",\n      \"properties\": {\n        \"dtype\": \"number\",\n        \"std\": 0,\n        \"min\": 0,\n        \"max\": 2,\n        \"num_unique_values\": 3,\n        \"samples\": [\n          0,\n          2,\n          1\n        ],\n        \"semantic_type\": \"\",\n        \"description\": \"\"\n      }\n    },\n    {\n      \"column\": \"Customer_care_calls\",\n      \"properties\": {\n        \"dtype\": \"number\",\n        \"std\": 1,\n        \"min\": 2,\n        \"max\": 7,\n        \"num_unique_values\": 6,\n        \"samples\": [\n          4,\n          2,\n          7\n        ],\n        \"semantic_type\": \"\",\n        \"description\": \"\"\n      }\n    },\n    {\n      \"column\": \"Customer_rating\",\n      \"properties\": {\n        \"dtype\": \"number\",\n        \"std\": 1,\n        \"min\": 1,\n        \"max\": 5,\n        \"num_unique_values\": 5,\n        \"samples\": [\n          5,\n          4,\n          3\n        ],\n        \"semantic_type\": \"\",\n        \"description\": \"\"\n      }\n    },\n    {\n      \"column\": \"Cost_of_the_Product\",\n      \"properties\": {\n        \"dtype\": \"number\",\n        \"std\": 48,\n        \"min\": 96,\n        \"max\": 310,\n        \"num_unique_values\": 215,\n        \"samples\": [\n          306,\n          297,\n          262\n        ],\n        \"semantic_type\": \"\",\n        \"description\": \"\"\n      }\n    },\n    {\n      \"column\": \"Prior_purchases\",\n      \"properties\": {\n        \"dtype\": \"number\",\n        \"std\": 1,\n        \"min\": 2,\n        \"max\": 10,\n        \"num_unique_values\": 8,\n        \"samples\": [\n          2,\n          7,\n          3\n        ],\n        \"semantic_type\": \"\",\n        \"description\": \"\"\n      }\n    },\n    {\n      \"column\": \"Product_importance\",\n      \"properties\": {\n        \"dtype\": \"number\",\n        \"std\": 0,\n        \"min\": 0,\n        \"max\": 2,\n        \"num_unique_values\": 3,\n        \"samples\": [\n          1,\n          2,\n          0\n        ],\n        \"semantic_type\": \"\",\n        \"description\": \"\"\n      }\n    },\n    {\n      \"column\": \"Gender\",\n      \"properties\": {\n        \"dtype\": \"number\",\n        \"std\": 0,\n        \"min\": 0,\n        \"max\": 1,\n        \"num_unique_values\": 2,\n        \"samples\": [\n          1,\n          0\n        ],\n        \"semantic_type\": \"\",\n        \"description\": \"\"\n      }\n    },\n    {\n      \"column\": \"Discount_offered\",\n      \"properties\": {\n        \"dtype\": \"number\",\n        \"std\": 16,\n        \"min\": 1,\n        \"max\": 65,\n        \"num_unique_values\": 65,\n        \"samples\": [\n          25,\n          34\n        ],\n        \"semantic_type\": \"\",\n        \"description\": \"\"\n      }\n    },\n    {\n      \"column\": \"Weight_in_gms\",\n      \"properties\": {\n        \"dtype\": \"number\",\n        \"std\": 1635,\n        \"min\": 1001,\n        \"max\": 7846,\n        \"num_unique_values\": 4034,\n        \"samples\": [\n          5483,\n          1238\n        ],\n        \"semantic_type\": \"\",\n        \"description\": \"\"\n      }\n    },\n    {\n      \"column\": \"Reached.on.Time_Y.N\",\n      \"properties\": {\n        \"dtype\": \"number\",\n        \"std\": 0,\n        \"min\": 0,\n        \"max\": 1,\n        \"num_unique_values\": 2,\n        \"samples\": [\n          0,\n          1\n        ],\n        \"semantic_type\": \"\",\n        \"description\": \"\"\n      }\n    }\n  ]\n}"
            }
          },
          "metadata": {},
          "execution_count": 22
        }
      ]
    },
    {
      "cell_type": "markdown",
      "source": [
        "REMOVING UNNECCESARY COLUMNS\n"
      ],
      "metadata": {
        "id": "BOuocIuGV-Ee"
      }
    },
    {
      "cell_type": "code",
      "source": [
        "print(data['Customer_rating'].value_counts())"
      ],
      "metadata": {
        "colab": {
          "base_uri": "https://localhost:8080/"
        },
        "id": "fQXB_fwMhIyJ",
        "outputId": "cd0c3a64-ecd0-4eef-cb0a-2c7d16b3fdb6"
      },
      "execution_count": 23,
      "outputs": [
        {
          "output_type": "stream",
          "name": "stdout",
          "text": [
            "Customer_rating\n",
            "3    2239\n",
            "1    2235\n",
            "4    2189\n",
            "5    2171\n",
            "2    2165\n",
            "Name: count, dtype: int64\n"
          ]
        }
      ]
    },
    {
      "cell_type": "code",
      "source": [
        "frequency_data = data.groupby([data['Customer_rating'], data['Reached.on.Time_Y.N']]).size().unstack(fill_value=0)\n",
        "\n",
        "# Plotting the bar chart\n",
        "X = frequency_data.index\n",
        "X_axis = np.arange(len(X))\n",
        "\n",
        "plt.bar(X_axis - 0.2, frequency_data[0], 0.4, label='0')\n",
        "plt.bar(X_axis + 0.2, frequency_data[1], 0.4, label='1')\n",
        "\n",
        "plt.xticks(X_axis, X)\n",
        "plt.xlabel(\"Ratings\")\n",
        "plt.ylabel(\"Frequency\")\n",
        "plt.title(\"Number on time or not for each rating\")\n",
        "plt.legend()\n",
        "plt.show()"
      ],
      "metadata": {
        "colab": {
          "base_uri": "https://localhost:8080/",
          "height": 472
        },
        "id": "ooc2kZ2XaQR9",
        "outputId": "a92ebf9b-bc70-4851-8a5c-23ad863ac599"
      },
      "execution_count": 24,
      "outputs": [
        {
          "output_type": "display_data",
          "data": {
            "text/plain": [
              "<Figure size 640x480 with 1 Axes>"
            ],
            "image/png": "[encoded data removed]"
          },
          "metadata": {}
        }
      ]
    },
    {
      "cell_type": "code",
      "source": [
        "frequency_data = data.groupby([data['Mode_of_Shipment'], data['Reached.on.Time_Y.N']]).size().unstack(fill_value=0)\n",
        "\n",
        "# Plotting the bar chart\n",
        "X = frequency_data.index\n",
        "X_axis = np.arange(len(X))\n",
        "\n",
        "plt.bar(X_axis - 0.2, frequency_data[0], 0.4, label='0')\n",
        "plt.bar(X_axis + 0.2, frequency_data[1], 0.4, label='1')\n",
        "\n",
        "plt.xticks(X_axis, X)\n",
        "plt.xlabel(\"Ratings\")\n",
        "plt.ylabel(\"Frequency\")\n",
        "plt.title(\"Number on time or not for each rating\")\n",
        "plt.legend()\n",
        "plt.show()"
      ],
      "metadata": {
        "colab": {
          "base_uri": "https://localhost:8080/",
          "height": 472
        },
        "id": "aslhljGnjO7L",
        "outputId": "2511766e-b2fd-4742-946e-54a084a112a0"
      },
      "execution_count": 25,
      "outputs": [
        {
          "output_type": "display_data",
          "data": {
            "text/plain": [
              "<Figure size 640x480 with 1 Axes>"
            ],
            "image/png": "[encoded data removed]"
          },
          "metadata": {}
        }
      ]
    },
    {
      "cell_type": "code",
      "source": [
        "data.corr()"
      ],
      "metadata": {
        "colab": {
          "base_uri": "https://localhost:8080/",
          "height": 445
        },
        "id": "ZPjI4PSRbx6K",
        "outputId": "c653caf8-07d6-45ee-e744-844b610fb7e3"
      },
      "execution_count": 26,
      "outputs": [
        {
          "output_type": "execute_result",
          "data": {
            "text/plain": [
              "                           ID  Warehouse_block  Mode_of_Shipment  \\\n",
              "ID                   1.000000         0.000070         -0.002459   \n",
              "Warehouse_block      0.000070         1.000000          0.000617   \n",
              "Mode_of_Shipment    -0.002459         0.000617          1.000000   \n",
              "Customer_care_calls  0.188998         0.014496         -0.020164   \n",
              "Customer_rating     -0.005722         0.010169          0.001679   \n",
              "Cost_of_the_Product  0.196791        -0.006679          0.006681   \n",
              "Prior_purchases      0.145369        -0.005262         -0.001640   \n",
              "Product_importance   0.029081         0.004260          0.004911   \n",
              "Gender              -0.001695        -0.003700         -0.011288   \n",
              "Discount_offered    -0.598278         0.009569          0.009364   \n",
              "Weight_in_gms        0.278312         0.004086         -0.000797   \n",
              "Reached.on.Time_Y.N -0.411822         0.005214         -0.000535   \n",
              "\n",
              "                     Customer_care_calls  Customer_rating  \\\n",
              "ID                              0.188998        -0.005722   \n",
              "Warehouse_block                 0.014496         0.010169   \n",
              "Mode_of_Shipment               -0.020164         0.001679   \n",
              "Customer_care_calls             1.000000         0.012209   \n",
              "Customer_rating                 0.012209         1.000000   \n",
              "Cost_of_the_Product             0.323182         0.009270   \n",
              "Prior_purchases                 0.180771         0.013179   \n",
              "Product_importance              0.006273         0.003157   \n",
              "Gender                          0.002545         0.002775   \n",
              "Discount_offered               -0.130750        -0.003124   \n",
              "Weight_in_gms                  -0.276615        -0.001897   \n",
              "Reached.on.Time_Y.N            -0.067126         0.013119   \n",
              "\n",
              "                     Cost_of_the_Product  Prior_purchases  Product_importance  \\\n",
              "ID                              0.196791         0.145369            0.029081   \n",
              "Warehouse_block                -0.006679        -0.005262            0.004260   \n",
              "Mode_of_Shipment                0.006681        -0.001640            0.004911   \n",
              "Customer_care_calls             0.323182         0.180771            0.006273   \n",
              "Customer_rating                 0.009270         0.013179            0.003157   \n",
              "Cost_of_the_Product             1.000000         0.123676            0.006366   \n",
              "Prior_purchases                 0.123676         1.000000            0.003662   \n",
              "Product_importance              0.006366         0.003662            1.000000   \n",
              "Gender                          0.019759        -0.009395           -0.009865   \n",
              "Discount_offered               -0.138312        -0.082769           -0.006251   \n",
              "Weight_in_gms                  -0.132604        -0.168213            0.001652   \n",
              "Reached.on.Time_Y.N            -0.073587        -0.055515           -0.023483   \n",
              "\n",
              "                       Gender  Discount_offered  Weight_in_gms  \\\n",
              "ID                  -0.001695         -0.598278       0.278312   \n",
              "Warehouse_block     -0.003700          0.009569       0.004086   \n",
              "Mode_of_Shipment    -0.011288          0.009364      -0.000797   \n",
              "Customer_care_calls  0.002545         -0.130750      -0.276615   \n",
              "Customer_rating      0.002775         -0.003124      -0.001897   \n",
              "Cost_of_the_Product  0.019759         -0.138312      -0.132604   \n",
              "Prior_purchases     -0.009395         -0.082769      -0.168213   \n",
              "Product_importance  -0.009865         -0.006251       0.001652   \n",
              "Gender               1.000000         -0.011777       0.003573   \n",
              "Discount_offered    -0.011777          1.000000      -0.376067   \n",
              "Weight_in_gms        0.003573         -0.376067       1.000000   \n",
              "Reached.on.Time_Y.N  0.004689          0.397108      -0.268793   \n",
              "\n",
              "                     Reached.on.Time_Y.N  \n",
              "ID                             -0.411822  \n",
              "Warehouse_block                 0.005214  \n",
              "Mode_of_Shipment               -0.000535  \n",
              "Customer_care_calls            -0.067126  \n",
              "Customer_rating                 0.013119  \n",
              "Cost_of_the_Product            -0.073587  \n",
              "Prior_purchases                -0.055515  \n",
              "Product_importance             -0.023483  \n",
              "Gender                          0.004689  \n",
              "Discount_offered                0.397108  \n",
              "Weight_in_gms                  -0.268793  \n",
              "Reached.on.Time_Y.N             1.000000  "
            ],
            "text/html": [
              "\n",
              "  <div id=\"df-29007bfa-91ea-4068-af63-1cdf78f0341a\" class=\"colab-df-container\">\n",
              "    <div>\n",
              "<style scoped>\n",
              "    .dataframe tbody tr th:only-of-type {\n",
              "        vertical-align: middle;\n",
              "    }\n",
              "\n",
              "    .dataframe tbody tr th {\n",
              "        vertical-align: top;\n",
              "    }\n",
              "\n",
              "    .dataframe thead th {\n",
              "        text-align: right;\n",
              "    }\n",
              "</style>\n",
              "<table border=\"1\" class=\"dataframe\">\n",
              "  <thead>\n",
              "    <tr style=\"text-align: right;\">\n",
              "      <th></th>\n",
              "      <th>ID</th>\n",
              "      <th>Warehouse_block</th>\n",
              "      <th>Mode_of_Shipment</th>\n",
              "      <th>Customer_care_calls</th>\n",
              "      <th>Customer_rating</th>\n",
              "      <th>Cost_of_the_Product</th>\n",
              "      <th>Prior_purchases</th>\n",
              "      <th>Product_importance</th>\n",
              "      <th>Gender</th>\n",
              "      <th>Discount_offered</th>\n",
              "      <th>Weight_in_gms</th>\n",
              "      <th>Reached.on.Time_Y.N</th>\n",
              "    </tr>\n",
              "  </thead>\n",
              "  <tbody>\n",
              "    <tr>\n",
              "      <th>ID</th>\n",
              "      <td>1.000000</td>\n",
              "      <td>0.000070</td>\n",
              "      <td>-0.002459</td>\n",
              "      <td>0.188998</td>\n",
              "      <td>-0.005722</td>\n",
              "      <td>0.196791</td>\n",
              "      <td>0.145369</td>\n",
              "      <td>0.029081</td>\n",
              "      <td>-0.001695</td>\n",
              "      <td>-0.598278</td>\n",
              "      <td>0.278312</td>\n",
              "      <td>-0.411822</td>\n",
              "    </tr>\n",
              "    <tr>\n",
              "      <th>Warehouse_block</th>\n",
              "      <td>0.000070</td>\n",
              "      <td>1.000000</td>\n",
              "      <td>0.000617</td>\n",
              "      <td>0.014496</td>\n",
              "      <td>0.010169</td>\n",
              "      <td>-0.006679</td>\n",
              "      <td>-0.005262</td>\n",
              "      <td>0.004260</td>\n",
              "      <td>-0.003700</td>\n",
              "      <td>0.009569</td>\n",
              "      <td>0.004086</td>\n",
              "      <td>0.005214</td>\n",
              "    </tr>\n",
              "    <tr>\n",
              "      <th>Mode_of_Shipment</th>\n",
              "      <td>-0.002459</td>\n",
              "      <td>0.000617</td>\n",
              "      <td>1.000000</td>\n",
              "      <td>-0.020164</td>\n",
              "      <td>0.001679</td>\n",
              "      <td>0.006681</td>\n",
              "      <td>-0.001640</td>\n",
              "      <td>0.004911</td>\n",
              "      <td>-0.011288</td>\n",
              "      <td>0.009364</td>\n",
              "      <td>-0.000797</td>\n",
              "      <td>-0.000535</td>\n",
              "    </tr>\n",
              "    <tr>\n",
              "      <th>Customer_care_calls</th>\n",
              "      <td>0.188998</td>\n",
              "      <td>0.014496</td>\n",
              "      <td>-0.020164</td>\n",
              "      <td>1.000000</td>\n",
              "      <td>0.012209</td>\n",
              "      <td>0.323182</td>\n",
              "      <td>0.180771</td>\n",
              "      <td>0.006273</td>\n",
              "      <td>0.002545</td>\n",
              "      <td>-0.130750</td>\n",
              "      <td>-0.276615</td>\n",
              "      <td>-0.067126</td>\n",
              "    </tr>\n",
              "    <tr>\n",
              "      <th>Customer_rating</th>\n",
              "      <td>-0.005722</td>\n",
              "      <td>0.010169</td>\n",
              "      <td>0.001679</td>\n",
              "      <td>0.012209</td>\n",
              "      <td>1.000000</td>\n",
              "      <td>0.009270</td>\n",
              "      <td>0.013179</td>\n",
              "      <td>0.003157</td>\n",
              "      <td>0.002775</td>\n",
              "      <td>-0.003124</td>\n",
              "      <td>-0.001897</td>\n",
              "      <td>0.013119</td>\n",
              "    </tr>\n",
              "    <tr>\n",
              "      <th>Cost_of_the_Product</th>\n",
              "      <td>0.196791</td>\n",
              "      <td>-0.006679</td>\n",
              "      <td>0.006681</td>\n",
              "      <td>0.323182</td>\n",
              "      <td>0.009270</td>\n",
              "      <td>1.000000</td>\n",
              "      <td>0.123676</td>\n",
              "      <td>0.006366</td>\n",
              "      <td>0.019759</td>\n",
              "      <td>-0.138312</td>\n",
              "      <td>-0.132604</td>\n",
              "      <td>-0.073587</td>\n",
              "    </tr>\n",
              "    <tr>\n",
              "      <th>Prior_purchases</th>\n",
              "      <td>0.145369</td>\n",
              "      <td>-0.005262</td>\n",
              "      <td>-0.001640</td>\n",
              "      <td>0.180771</td>\n",
              "      <td>0.013179</td>\n",
              "      <td>0.123676</td>\n",
              "      <td>1.000000</td>\n",
              "      <td>0.003662</td>\n",
              "      <td>-0.009395</td>\n",
              "      <td>-0.082769</td>\n",
              "      <td>-0.168213</td>\n",
              "      <td>-0.055515</td>\n",
              "    </tr>\n",
              "    <tr>\n",
              "      <th>Product_importance</th>\n",
              "      <td>0.029081</td>\n",
              "      <td>0.004260</td>\n",
              "      <td>0.004911</td>\n",
              "      <td>0.006273</td>\n",
              "      <td>0.003157</td>\n",
              "      <td>0.006366</td>\n",
              "      <td>0.003662</td>\n",
              "      <td>1.000000</td>\n",
              "      <td>-0.009865</td>\n",
              "      <td>-0.006251</td>\n",
              "      <td>0.001652</td>\n",
              "      <td>-0.023483</td>\n",
              "    </tr>\n",
              "    <tr>\n",
              "      <th>Gender</th>\n",
              "      <td>-0.001695</td>\n",
              "      <td>-0.003700</td>\n",
              "      <td>-0.011288</td>\n",
              "      <td>0.002545</td>\n",
              "      <td>0.002775</td>\n",
              "      <td>0.019759</td>\n",
              "      <td>-0.009395</td>\n",
              "      <td>-0.009865</td>\n",
              "      <td>1.000000</td>\n",
              "      <td>-0.011777</td>\n",
              "      <td>0.003573</td>\n",
              "      <td>0.004689</td>\n",
              "    </tr>\n",
              "    <tr>\n",
              "      <th>Discount_offered</th>\n",
              "      <td>-0.598278</td>\n",
              "      <td>0.009569</td>\n",
              "      <td>0.009364</td>\n",
              "      <td>-0.130750</td>\n",
              "      <td>-0.003124</td>\n",
              "      <td>-0.138312</td>\n",
              "      <td>-0.082769</td>\n",
              "      <td>-0.006251</td>\n",
              "      <td>-0.011777</td>\n",
              "      <td>1.000000</td>\n",
              "      <td>-0.376067</td>\n",
              "      <td>0.397108</td>\n",
              "    </tr>\n",
              "    <tr>\n",
              "      <th>Weight_in_gms</th>\n",
              "      <td>0.278312</td>\n",
              "      <td>0.004086</td>\n",
              "      <td>-0.000797</td>\n",
              "      <td>-0.276615</td>\n",
              "      <td>-0.001897</td>\n",
              "      <td>-0.132604</td>\n",
              "      <td>-0.168213</td>\n",
              "      <td>0.001652</td>\n",
              "      <td>0.003573</td>\n",
              "      <td>-0.376067</td>\n",
              "      <td>1.000000</td>\n",
              "      <td>-0.268793</td>\n",
              "    </tr>\n",
              "    <tr>\n",
              "      <th>Reached.on.Time_Y.N</th>\n",
              "      <td>-0.411822</td>\n",
              "      <td>0.005214</td>\n",
              "      <td>-0.000535</td>\n",
              "      <td>-0.067126</td>\n",
              "      <td>0.013119</td>\n",
              "      <td>-0.073587</td>\n",
              "      <td>-0.055515</td>\n",
              "      <td>-0.023483</td>\n",
              "      <td>0.004689</td>\n",
              "      <td>0.397108</td>\n",
              "      <td>-0.268793</td>\n",
              "      <td>1.000000</td>\n",
              "    </tr>\n",
              "  </tbody>\n",
              "</table>\n",
              "</div>\n",
              "    <div class=\"colab-df-buttons\">\n",
              "\n",
              "  <div class=\"colab-df-container\">\n",
              "    <button class=\"colab-df-convert\" onclick=\"convertToInteractive('df-29007bfa-91ea-4068-af63-1cdf78f0341a')\"\n",
              "            title=\"Convert this dataframe to an interactive table.\"\n",
              "            style=\"display:none;\">\n",
              "\n",
              "  <svg xmlns=\"http://www.w3.org/2000/svg\" height=\"24px\" viewBox=\"0 -960 960 960\">\n",
              "    <path d=\"M120-120v-720h720v720H120Zm60-500h600v-160H180v160Zm220 220h160v-160H400v160Zm0 220h160v-160H400v160ZM180-400h160v-160H180v160Zm440 0h160v-160H620v160ZM180-180h160v-160H180v160Zm440 0h160v-160H620v160Z\"/>\n",
              "  </svg>\n",
              "    </button>\n",
              "\n",
              "  <style>\n",
              "    .colab-df-container {\n",
              "      display:flex;\n",
              "      gap: 12px;\n",
              "    }\n",
              "\n",
              "    .colab-df-convert {\n",
              "      background-color: #E8F0FE;\n",
              "      border: none;\n",
              "      border-radius: 50%;\n",
              "      cursor: pointer;\n",
              "      display: none;\n",
              "      fill: #1967D2;\n",
              "      height: 32px;\n",
              "      padding: 0 0 0 0;\n",
              "      width: 32px;\n",
              "    }\n",
              "\n",
              "    .colab-df-convert:hover {\n",
              "      background-color: #E2EBFA;\n",
              "      box-shadow: 0px 1px 2px rgba(60, 64, 67, 0.3), 0px 1px 3px 1px rgba(60, 64, 67, 0.15);\n",
              "      fill: #174EA6;\n",
              "    }\n",
              "\n",
              "    .colab-df-buttons div {\n",
              "      margin-bottom: 4px;\n",
              "    }\n",
              "\n",
              "    [theme=dark] .colab-df-convert {\n",
              "      background-color: #3B4455;\n",
              "      fill: #D2E3FC;\n",
              "    }\n",
              "\n",
              "    [theme=dark] .colab-df-convert:hover {\n",
              "      background-color: #434B5C;\n",
              "      box-shadow: 0px 1px 3px 1px rgba(0, 0, 0, 0.15);\n",
              "      filter: drop-shadow(0px 1px 2px rgba(0, 0, 0, 0.3));\n",
              "      fill: #FFFFFF;\n",
              "    }\n",
              "  </style>\n",
              "\n",
              "    <script>\n",
              "      const buttonEl =\n",
              "        document.querySelector('#df-29007bfa-91ea-4068-af63-1cdf78f0341a button.colab-df-convert');\n",
              "      buttonEl.style.display =\n",
              "        google.colab.kernel.accessAllowed ? 'block' : 'none';\n",
              "\n",
              "      async function convertToInteractive(key) {\n",
              "        const element = document.querySelector('#df-29007bfa-91ea-4068-af63-1cdf78f0341a');\n",
              "        const dataTable =\n",
              "          await google.colab.kernel.invokeFunction('convertToInteractive',\n",
              "                                                    [key], {});\n",
              "        if (!dataTable) return;\n",
              "\n",
              "        const docLinkHtml = 'Like what you see? Visit the ' +\n",
              "          '<a target=\"_blank\" href=https://colab.research.google.com/notebooks/data_table.ipynb>data table notebook</a>'\n",
              "          + ' to learn more about interactive tables.';\n",
              "        element.innerHTML = '';\n",
              "        dataTable['output_type'] = 'display_data';\n",
              "        await google.colab.output.renderOutput(dataTable, element);\n",
              "        const docLink = document.createElement('div');\n",
              "        docLink.innerHTML = docLinkHtml;\n",
              "        element.appendChild(docLink);\n",
              "      }\n",
              "    </script>\n",
              "  </div>\n",
              "\n",
              "\n",
              "<div id=\"df-826ac28c-41ba-40d6-81eb-6565ab392377\">\n",
              "  <button class=\"colab-df-quickchart\" onclick=\"quickchart('df-826ac28c-41ba-40d6-81eb-6565ab392377')\"\n",
              "            title=\"Suggest charts\"\n",
              "            style=\"display:none;\">\n",
              "\n",
              "<svg xmlns=\"http://www.w3.org/2000/svg\" height=\"24px\"viewBox=\"0 0 24 24\"\n",
              "     width=\"24px\">\n",
              "    <g>\n",
              "        <path d=\"M19 3H5c-1.1 0-2 .9-2 2v14c0 1.1.9 2 2 2h14c1.1 0 2-.9 2-2V5c0-1.1-.9-2-2-2zM9 17H7v-7h2v7zm4 0h-2V7h2v10zm4 0h-2v-4h2v4z\"/>\n",
              "    </g>\n",
              "</svg>\n",
              "  </button>\n",
              "\n",
              "<style>\n",
              "  .colab-df-quickchart {\n",
              "      --bg-color: #E8F0FE;\n",
              "      --fill-color: #1967D2;\n",
              "      --hover-bg-color: #E2EBFA;\n",
              "      --hover-fill-color: #174EA6;\n",
              "      --disabled-fill-color: #AAA;\n",
              "      --disabled-bg-color: #DDD;\n",
              "  }\n",
              "\n",
              "  [theme=dark] .colab-df-quickchart {\n",
              "      --bg-color: #3B4455;\n",
              "      --fill-color: #D2E3FC;\n",
              "      --hover-bg-color: #434B5C;\n",
              "      --hover-fill-color: #FFFFFF;\n",
              "      --disabled-bg-color: #3B4455;\n",
              "      --disabled-fill-color: #666;\n",
              "  }\n",
              "\n",
              "  .colab-df-quickchart {\n",
              "    background-color: var(--bg-color);\n",
              "    border: none;\n",
              "    border-radius: 50%;\n",
              "    cursor: pointer;\n",
              "    display: none;\n",
              "    fill: var(--fill-color);\n",
              "    height: 32px;\n",
              "    padding: 0;\n",
              "    width: 32px;\n",
              "  }\n",
              "\n",
              "  .colab-df-quickchart:hover {\n",
              "    background-color: var(--hover-bg-color);\n",
              "    box-shadow: 0 1px 2px rgba(60, 64, 67, 0.3), 0 1px 3px 1px rgba(60, 64, 67, 0.15);\n",
              "    fill: var(--button-hover-fill-color);\n",
              "  }\n",
              "\n",
              "  .colab-df-quickchart-complete:disabled,\n",
              "  .colab-df-quickchart-complete:disabled:hover {\n",
              "    background-color: var(--disabled-bg-color);\n",
              "    fill: var(--disabled-fill-color);\n",
              "    box-shadow: none;\n",
              "  }\n",
              "\n",
              "  .colab-df-spinner {\n",
              "    border: 2px solid var(--fill-color);\n",
              "    border-color: transparent;\n",
              "    border-bottom-color: var(--fill-color);\n",
              "    animation:\n",
              "      spin 1s steps(1) infinite;\n",
              "  }\n",
              "\n",
              "  @keyframes spin {\n",
              "    0% {\n",
              "      border-color: transparent;\n",
              "      border-bottom-color: var(--fill-color);\n",
              "      border-left-color: var(--fill-color);\n",
              "    }\n",
              "    20% {\n",
              "      border-color: transparent;\n",
              "      border-left-color: var(--fill-color);\n",
              "      border-top-color: var(--fill-color);\n",
              "    }\n",
              "    30% {\n",
              "      border-color: transparent;\n",
              "      border-left-color: var(--fill-color);\n",
              "      border-top-color: var(--fill-color);\n",
              "      border-right-color: var(--fill-color);\n",
              "    }\n",
              "    40% {\n",
              "      border-color: transparent;\n",
              "      border-right-color: var(--fill-color);\n",
              "      border-top-color: var(--fill-color);\n",
              "    }\n",
              "    60% {\n",
              "      border-color: transparent;\n",
              "      border-right-color: var(--fill-color);\n",
              "    }\n",
              "    80% {\n",
              "      border-color: transparent;\n",
              "      border-right-color: var(--fill-color);\n",
              "      border-bottom-color: var(--fill-color);\n",
              "    }\n",
              "    90% {\n",
              "      border-color: transparent;\n",
              "      border-bottom-color: var(--fill-color);\n",
              "    }\n",
              "  }\n",
              "</style>\n",
              "\n",
              "  <script>\n",
              "    async function quickchart(key) {\n",
              "      const quickchartButtonEl =\n",
              "        document.querySelector('#' + key + ' button');\n",
              "      quickchartButtonEl.disabled = true;  // To prevent multiple clicks.\n",
              "      quickchartButtonEl.classList.add('colab-df-spinner');\n",
              "      try {\n",
              "        const charts = await google.colab.kernel.invokeFunction(\n",
              "            'suggestCharts', [key], {});\n",
              "      } catch (error) {\n",
              "        console.error('Error during call to suggestCharts:', error);\n",
              "      }\n",
              "      quickchartButtonEl.classList.remove('colab-df-spinner');\n",
              "      quickchartButtonEl.classList.add('colab-df-quickchart-complete');\n",
              "    }\n",
              "    (() => {\n",
              "      let quickchartButtonEl =\n",
              "        document.querySelector('#df-826ac28c-41ba-40d6-81eb-6565ab392377 button');\n",
              "      quickchartButtonEl.style.display =\n",
              "        google.colab.kernel.accessAllowed ? 'block' : 'none';\n",
              "    })();\n",
              "  </script>\n",
              "</div>\n",
              "\n",
              "    </div>\n",
              "  </div>\n"
            ],
            "application/vnd.google.colaboratory.intrinsic+json": {
              "type": "dataframe",
              "summary": "{\n  \"name\": \"data\",\n  \"rows\": 12,\n  \"fields\": [\n    {\n      \"column\": \"ID\",\n      \"properties\": {\n        \"dtype\": \"number\",\n        \"std\": 0.38678277390214083,\n        \"min\": -0.5982780149556365,\n        \"max\": 1.0,\n        \"num_unique_values\": 12,\n        \"samples\": [\n          0.2783116851625007,\n          -0.5982780149556365,\n          1.0\n        ],\n        \"semantic_type\": \"\",\n        \"description\": \"\"\n      }\n    },\n    {\n      \"column\": \"Warehouse_block\",\n      \"properties\": {\n        \"dtype\": \"number\",\n        \"std\": 0.28788521353461094,\n        \"min\": -0.006678700284754662,\n        \"max\": 1.0,\n        \"num_unique_values\": 12,\n        \"samples\": [\n          0.004085619053500228,\n          0.009569127963236918,\n          7.042043980989829e-05\n        ],\n        \"semantic_type\": \"\",\n        \"description\": \"\"\n      }\n    },\n    {\n      \"column\": \"Mode_of_Shipment\",\n      \"properties\": {\n        \"dtype\": \"number\",\n        \"std\": 0.2891408016756246,\n        \"min\": -0.020164155775116877,\n        \"max\": 1.0,\n        \"num_unique_values\": 12,\n        \"samples\": [\n          -0.0007973104209027272,\n          0.009364486014424413,\n          -0.002458605971835888\n        ],\n        \"semantic_type\": \"\",\n        \"description\": \"\"\n      }\n    },\n    {\n      \"column\": \"Customer_care_calls\",\n      \"properties\": {\n        \"dtype\": \"number\",\n        \"std\": 0.32261923151437455,\n        \"min\": -0.2766151904583278,\n        \"max\": 1.0,\n        \"num_unique_values\": 12,\n        \"samples\": [\n          -0.2766151904583278,\n          -0.1307500503715874,\n          0.1889983473045312\n        ],\n        \"semantic_type\": \"\",\n        \"description\": \"\"\n      }\n    },\n    {\n      \"column\": \"Customer_rating\",\n      \"properties\": {\n        \"dtype\": \"number\",\n        \"std\": 0.2873122775756351,\n        \"min\": -0.005722255334365404,\n        \"max\": 1.0,\n        \"num_unique_values\": 12,\n        \"samples\": [\n          -0.0018968518473927952,\n          -0.003124443913316296,\n          -0.005722255334365404\n        ],\n        \"semantic_type\": \"\",\n        \"description\": \"\"\n      }\n    },\n    {\n      \"column\": \"Cost_of_the_Product\",\n      \"properties\": {\n        \"dtype\": \"number\",\n        \"std\": 0.3093669588419315,\n        \"min\": -0.13831168592479712,\n        \"max\": 1.0,\n        \"num_unique_values\": 12,\n        \"samples\": [\n          -0.13260404754942431,\n          -0.13831168592479712,\n          0.1967913451410422\n        ],\n        \"semantic_type\": \"\",\n        \"description\": \"\"\n      }\n    },\n    {\n      \"column\": \"Prior_purchases\",\n      \"properties\": {\n        \"dtype\": \"number\",\n        \"std\": 0.30130095098852394,\n        \"min\": -0.1682130849006842,\n        \"max\": 1.0,\n        \"num_unique_values\": 12,\n        \"samples\": [\n          -0.1682130849006842,\n          -0.08276930007281506,\n          0.14536880466014848\n        ],\n        \"semantic_type\": \"\",\n        \"description\": \"\"\n      }\n    },\n    {\n      \"column\": \"Product_importance\",\n      \"properties\": {\n        \"dtype\": \"number\",\n        \"std\": 0.28841611556363733,\n        \"min\": -0.02348328184549794,\n        \"max\": 1.0,\n        \"num_unique_values\": 12,\n        \"samples\": [\n          0.0016516240704044511,\n          -0.006250774664133268,\n          0.02908058839118748\n        ],\n        \"semantic_type\": \"\",\n        \"description\": \"\"\n      }\n    },\n    {\n      \"column\": \"Gender\",\n      \"properties\": {\n        \"dtype\": \"number\",\n        \"std\": 0.2891922115647068,\n        \"min\": -0.011777101409941374,\n        \"max\": 1.0,\n        \"num_unique_values\": 12,\n        \"samples\": [\n          0.0035727361655094616,\n          -0.011777101409941374,\n          -0.0016946267045121948\n        ],\n        \"semantic_type\": \"\",\n        \"description\": \"\"\n      }\n    },\n    {\n      \"column\": \"Discount_offered\",\n      \"properties\": {\n        \"dtype\": \"number\",\n        \"std\": 0.39313514687655715,\n        \"min\": -0.5982780149556365,\n        \"max\": 1.0,\n        \"num_unique_values\": 12,\n        \"samples\": [\n          -0.37606671513804746,\n          1.0,\n          -0.5982780149556365\n        ],\n        \"semantic_type\": \"\",\n        \"description\": \"\"\n      }\n    },\n    {\n      \"column\": \"Weight_in_gms\",\n      \"properties\": {\n        \"dtype\": \"number\",\n        \"std\": 0.3584357354613341,\n        \"min\": -0.37606671513804746,\n        \"max\": 1.0,\n        \"num_unique_values\": 12,\n        \"samples\": [\n          1.0,\n          -0.37606671513804746,\n          0.2783116851625007\n        ],\n        \"semantic_type\": \"\",\n        \"description\": \"\"\n      }\n    },\n    {\n      \"column\": \"Reached.on.Time_Y.N\",\n      \"properties\": {\n        \"dtype\": \"number\",\n        \"std\": 0.3555850887715422,\n        \"min\": -0.4118224911314903,\n        \"max\": 1.0,\n        \"num_unique_values\": 12,\n        \"samples\": [\n          -0.2687925839387998,\n          0.3971084735832158,\n          -0.4118224911314903\n        ],\n        \"semantic_type\": \"\",\n        \"description\": \"\"\n      }\n    }\n  ]\n}"
            }
          },
          "metadata": {},
          "execution_count": 26
        }
      ]
    },
    {
      "cell_type": "code",
      "source": [
        "plt.figure(figsize=(10,8))\n",
        "sns.heatmap(data.corr(),annot=True)"
      ],
      "metadata": {
        "colab": {
          "base_uri": "https://localhost:8080/",
          "height": 832
        },
        "id": "JY8OMewSb6IU",
        "outputId": "337b846f-12df-4544-ebe1-129103bc6cb2"
      },
      "execution_count": 27,
      "outputs": [
        {
          "output_type": "execute_result",
          "data": {
            "text/plain": [
              "<Axes: >"
            ]
          },
          "metadata": {},
          "execution_count": 27
        },
        {
          "output_type": "display_data",
          "data": {
            "text/plain": [
              "<Figure size 1000x800 with 2 Axes>"
            ],
            "image/png": "[encoded data removed]"
          },
          "metadata": {}
        }
      ]
    },
    {
      "cell_type": "code",
      "source": [
        "2#We need to see if there is signficant correlation with last column"
      ],
      "metadata": {
        "id": "pqv6zhOscFYl",
        "colab": {
          "base_uri": "https://localhost:8080/"
        },
        "outputId": "77f38c3b-265c-4879-af08-f4a02ac4b8d1"
      },
      "execution_count": 28,
      "outputs": [
        {
          "output_type": "execute_result",
          "data": {
            "text/plain": [
              "2"
            ]
          },
          "metadata": {},
          "execution_count": 28
        }
      ]
    },
    {
      "cell_type": "code",
      "source": [
        "#Definite determinants:\n",
        "# Warehouse Block\n",
        "# Mode of Shipment\n",
        "# Product Importance\n",
        "# Weight in grams\n",
        "# Customer Care Calls"
      ],
      "metadata": {
        "id": "IkMSiJ6EcNmL"
      },
      "execution_count": 29,
      "outputs": []
    },
    {
      "cell_type": "code",
      "source": [
        "#Columns to drop:\n",
        "# ID\n",
        "# Gender\n",
        "# Discount Offered\n",
        "# Cost of the Product\n",
        "# Prior Purchase\n",
        "# Customer Rating"
      ],
      "metadata": {
        "id": "6xLcN7FVcW3Q"
      },
      "execution_count": 30,
      "outputs": []
    },
    {
      "cell_type": "code",
      "source": [
        "data_updated = data.drop(['ID','Gender','Discount_offered','Cost_of_the_Product','Prior_purchases','Customer_rating'],axis=1)"
      ],
      "metadata": {
        "id": "x9N44CIFeiPp"
      },
      "execution_count": 31,
      "outputs": []
    },
    {
      "cell_type": "code",
      "source": [
        "data_updated.head()"
      ],
      "metadata": {
        "colab": {
          "base_uri": "https://localhost:8080/",
          "height": 206
        },
        "id": "1xa07CWrhi5d",
        "outputId": "da575110-4578-4f4a-f59c-6ff989de49a4"
      },
      "execution_count": 32,
      "outputs": [
        {
          "output_type": "execute_result",
          "data": {
            "text/plain": [
              "   Warehouse_block  Mode_of_Shipment  Customer_care_calls  Product_importance  \\\n",
              "0                3                 0                    4                   1   \n",
              "1                4                 0                    4                   1   \n",
              "2                0                 0                    2                   1   \n",
              "3                1                 0                    3                   2   \n",
              "4                2                 0                    2                   2   \n",
              "\n",
              "   Weight_in_gms  Reached.on.Time_Y.N  \n",
              "0           1233                    1  \n",
              "1           3088                    1  \n",
              "2           3374                    1  \n",
              "3           1177                    1  \n",
              "4           2484                    1  "
            ],
            "text/html": [
              "\n",
              "  <div id=\"df-3c2b1d12-6993-474d-b88b-d9e31e62e602\" class=\"colab-df-container\">\n",
              "    <div>\n",
              "<style scoped>\n",
              "    .dataframe tbody tr th:only-of-type {\n",
              "        vertical-align: middle;\n",
              "    }\n",
              "\n",
              "    .dataframe tbody tr th {\n",
              "        vertical-align: top;\n",
              "    }\n",
              "\n",
              "    .dataframe thead th {\n",
              "        text-align: right;\n",
              "    }\n",
              "</style>\n",
              "<table border=\"1\" class=\"dataframe\">\n",
              "  <thead>\n",
              "    <tr style=\"text-align: right;\">\n",
              "      <th></th>\n",
              "      <th>Warehouse_block</th>\n",
              "      <th>Mode_of_Shipment</th>\n",
              "      <th>Customer_care_calls</th>\n",
              "      <th>Product_importance</th>\n",
              "      <th>Weight_in_gms</th>\n",
              "      <th>Reached.on.Time_Y.N</th>\n",
              "    </tr>\n",
              "  </thead>\n",
              "  <tbody>\n",
              "    <tr>\n",
              "      <th>0</th>\n",
              "      <td>3</td>\n",
              "      <td>0</td>\n",
              "      <td>4</td>\n",
              "      <td>1</td>\n",
              "      <td>1233</td>\n",
              "      <td>1</td>\n",
              "    </tr>\n",
              "    <tr>\n",
              "      <th>1</th>\n",
              "      <td>4</td>\n",
              "      <td>0</td>\n",
              "      <td>4</td>\n",
              "      <td>1</td>\n",
              "      <td>3088</td>\n",
              "      <td>1</td>\n",
              "    </tr>\n",
              "    <tr>\n",
              "      <th>2</th>\n",
              "      <td>0</td>\n",
              "      <td>0</td>\n",
              "      <td>2</td>\n",
              "      <td>1</td>\n",
              "      <td>3374</td>\n",
              "      <td>1</td>\n",
              "    </tr>\n",
              "    <tr>\n",
              "      <th>3</th>\n",
              "      <td>1</td>\n",
              "      <td>0</td>\n",
              "      <td>3</td>\n",
              "      <td>2</td>\n",
              "      <td>1177</td>\n",
              "      <td>1</td>\n",
              "    </tr>\n",
              "    <tr>\n",
              "      <th>4</th>\n",
              "      <td>2</td>\n",
              "      <td>0</td>\n",
              "      <td>2</td>\n",
              "      <td>2</td>\n",
              "      <td>2484</td>\n",
              "      <td>1</td>\n",
              "    </tr>\n",
              "  </tbody>\n",
              "</table>\n",
              "</div>\n",
              "    <div class=\"colab-df-buttons\">\n",
              "\n",
              "  <div class=\"colab-df-container\">\n",
              "    <button class=\"colab-df-convert\" onclick=\"convertToInteractive('df-3c2b1d12-6993-474d-b88b-d9e31e62e602')\"\n",
              "            title=\"Convert this dataframe to an interactive table.\"\n",
              "            style=\"display:none;\">\n",
              "\n",
              "  <svg xmlns=\"http://www.w3.org/2000/svg\" height=\"24px\" viewBox=\"0 -960 960 960\">\n",
              "    <path d=\"M120-120v-720h720v720H120Zm60-500h600v-160H180v160Zm220 220h160v-160H400v160Zm0 220h160v-160H400v160ZM180-400h160v-160H180v160Zm440 0h160v-160H620v160ZM180-180h160v-160H180v160Zm440 0h160v-160H620v160Z\"/>\n",
              "  </svg>\n",
              "    </button>\n",
              "\n",
              "  <style>\n",
              "    .colab-df-container {\n",
              "      display:flex;\n",
              "      gap: 12px;\n",
              "    }\n",
              "\n",
              "    .colab-df-convert {\n",
              "      background-color: #E8F0FE;\n",
              "      border: none;\n",
              "      border-radius: 50%;\n",
              "      cursor: pointer;\n",
              "      display: none;\n",
              "      fill: #1967D2;\n",
              "      height: 32px;\n",
              "      padding: 0 0 0 0;\n",
              "      width: 32px;\n",
              "    }\n",
              "\n",
              "    .colab-df-convert:hover {\n",
              "      background-color: #E2EBFA;\n",
              "      box-shadow: 0px 1px 2px rgba(60, 64, 67, 0.3), 0px 1px 3px 1px rgba(60, 64, 67, 0.15);\n",
              "      fill: #174EA6;\n",
              "    }\n",
              "\n",
              "    .colab-df-buttons div {\n",
              "      margin-bottom: 4px;\n",
              "    }\n",
              "\n",
              "    [theme=dark] .colab-df-convert {\n",
              "      background-color: #3B4455;\n",
              "      fill: #D2E3FC;\n",
              "    }\n",
              "\n",
              "    [theme=dark] .colab-df-convert:hover {\n",
              "      background-color: #434B5C;\n",
              "      box-shadow: 0px 1px 3px 1px rgba(0, 0, 0, 0.15);\n",
              "      filter: drop-shadow(0px 1px 2px rgba(0, 0, 0, 0.3));\n",
              "      fill: #FFFFFF;\n",
              "    }\n",
              "  </style>\n",
              "\n",
              "    <script>\n",
              "      const buttonEl =\n",
              "        document.querySelector('#df-3c2b1d12-6993-474d-b88b-d9e31e62e602 button.colab-df-convert');\n",
              "      buttonEl.style.display =\n",
              "        google.colab.kernel.accessAllowed ? 'block' : 'none';\n",
              "\n",
              "      async function convertToInteractive(key) {\n",
              "        const element = document.querySelector('#df-3c2b1d12-6993-474d-b88b-d9e31e62e602');\n",
              "        const dataTable =\n",
              "          await google.colab.kernel.invokeFunction('convertToInteractive',\n",
              "                                                    [key], {});\n",
              "        if (!dataTable) return;\n",
              "\n",
              "        const docLinkHtml = 'Like what you see? Visit the ' +\n",
              "          '<a target=\"_blank\" href=https://colab.research.google.com/notebooks/data_table.ipynb>data table notebook</a>'\n",
              "          + ' to learn more about interactive tables.';\n",
              "        element.innerHTML = '';\n",
              "        dataTable['output_type'] = 'display_data';\n",
              "        await google.colab.output.renderOutput(dataTable, element);\n",
              "        const docLink = document.createElement('div');\n",
              "        docLink.innerHTML = docLinkHtml;\n",
              "        element.appendChild(docLink);\n",
              "      }\n",
              "    </script>\n",
              "  </div>\n",
              "\n",
              "\n",
              "<div id=\"df-b792b249-9cf8-4fb6-aede-90978e676fda\">\n",
              "  <button class=\"colab-df-quickchart\" onclick=\"quickchart('df-b792b249-9cf8-4fb6-aede-90978e676fda')\"\n",
              "            title=\"Suggest charts\"\n",
              "            style=\"display:none;\">\n",
              "\n",
              "<svg xmlns=\"http://www.w3.org/2000/svg\" height=\"24px\"viewBox=\"0 0 24 24\"\n",
              "     width=\"24px\">\n",
              "    <g>\n",
              "        <path d=\"M19 3H5c-1.1 0-2 .9-2 2v14c0 1.1.9 2 2 2h14c1.1 0 2-.9 2-2V5c0-1.1-.9-2-2-2zM9 17H7v-7h2v7zm4 0h-2V7h2v10zm4 0h-2v-4h2v4z\"/>\n",
              "    </g>\n",
              "</svg>\n",
              "  </button>\n",
              "\n",
              "<style>\n",
              "  .colab-df-quickchart {\n",
              "      --bg-color: #E8F0FE;\n",
              "      --fill-color: #1967D2;\n",
              "      --hover-bg-color: #E2EBFA;\n",
              "      --hover-fill-color: #174EA6;\n",
              "      --disabled-fill-color: #AAA;\n",
              "      --disabled-bg-color: #DDD;\n",
              "  }\n",
              "\n",
              "  [theme=dark] .colab-df-quickchart {\n",
              "      --bg-color: #3B4455;\n",
              "      --fill-color: #D2E3FC;\n",
              "      --hover-bg-color: #434B5C;\n",
              "      --hover-fill-color: #FFFFFF;\n",
              "      --disabled-bg-color: #3B4455;\n",
              "      --disabled-fill-color: #666;\n",
              "  }\n",
              "\n",
              "  .colab-df-quickchart {\n",
              "    background-color: var(--bg-color);\n",
              "    border: none;\n",
              "    border-radius: 50%;\n",
              "    cursor: pointer;\n",
              "    display: none;\n",
              "    fill: var(--fill-color);\n",
              "    height: 32px;\n",
              "    padding: 0;\n",
              "    width: 32px;\n",
              "  }\n",
              "\n",
              "  .colab-df-quickchart:hover {\n",
              "    background-color: var(--hover-bg-color);\n",
              "    box-shadow: 0 1px 2px rgba(60, 64, 67, 0.3), 0 1px 3px 1px rgba(60, 64, 67, 0.15);\n",
              "    fill: var(--button-hover-fill-color);\n",
              "  }\n",
              "\n",
              "  .colab-df-quickchart-complete:disabled,\n",
              "  .colab-df-quickchart-complete:disabled:hover {\n",
              "    background-color: var(--disabled-bg-color);\n",
              "    fill: var(--disabled-fill-color);\n",
              "    box-shadow: none;\n",
              "  }\n",
              "\n",
              "  .colab-df-spinner {\n",
              "    border: 2px solid var(--fill-color);\n",
              "    border-color: transparent;\n",
              "    border-bottom-color: var(--fill-color);\n",
              "    animation:\n",
              "      spin 1s steps(1) infinite;\n",
              "  }\n",
              "\n",
              "  @keyframes spin {\n",
              "    0% {\n",
              "      border-color: transparent;\n",
              "      border-bottom-color: var(--fill-color);\n",
              "      border-left-color: var(--fill-color);\n",
              "    }\n",
              "    20% {\n",
              "      border-color: transparent;\n",
              "      border-left-color: var(--fill-color);\n",
              "      border-top-color: var(--fill-color);\n",
              "    }\n",
              "    30% {\n",
              "      border-color: transparent;\n",
              "      border-left-color: var(--fill-color);\n",
              "      border-top-color: var(--fill-color);\n",
              "      border-right-color: var(--fill-color);\n",
              "    }\n",
              "    40% {\n",
              "      border-color: transparent;\n",
              "      border-right-color: var(--fill-color);\n",
              "      border-top-color: var(--fill-color);\n",
              "    }\n",
              "    60% {\n",
              "      border-color: transparent;\n",
              "      border-right-color: var(--fill-color);\n",
              "    }\n",
              "    80% {\n",
              "      border-color: transparent;\n",
              "      border-right-color: var(--fill-color);\n",
              "      border-bottom-color: var(--fill-color);\n",
              "    }\n",
              "    90% {\n",
              "      border-color: transparent;\n",
              "      border-bottom-color: var(--fill-color);\n",
              "    }\n",
              "  }\n",
              "</style>\n",
              "\n",
              "  <script>\n",
              "    async function quickchart(key) {\n",
              "      const quickchartButtonEl =\n",
              "        document.querySelector('#' + key + ' button');\n",
              "      quickchartButtonEl.disabled = true;  // To prevent multiple clicks.\n",
              "      quickchartButtonEl.classList.add('colab-df-spinner');\n",
              "      try {\n",
              "        const charts = await google.colab.kernel.invokeFunction(\n",
              "            'suggestCharts', [key], {});\n",
              "      } catch (error) {\n",
              "        console.error('Error during call to suggestCharts:', error);\n",
              "      }\n",
              "      quickchartButtonEl.classList.remove('colab-df-spinner');\n",
              "      quickchartButtonEl.classList.add('colab-df-quickchart-complete');\n",
              "    }\n",
              "    (() => {\n",
              "      let quickchartButtonEl =\n",
              "        document.querySelector('#df-b792b249-9cf8-4fb6-aede-90978e676fda button');\n",
              "      quickchartButtonEl.style.display =\n",
              "        google.colab.kernel.accessAllowed ? 'block' : 'none';\n",
              "    })();\n",
              "  </script>\n",
              "</div>\n",
              "\n",
              "    </div>\n",
              "  </div>\n"
            ],
            "application/vnd.google.colaboratory.intrinsic+json": {
              "type": "dataframe",
              "variable_name": "data_updated",
              "summary": "{\n  \"name\": \"data_updated\",\n  \"rows\": 10999,\n  \"fields\": [\n    {\n      \"column\": \"Warehouse_block\",\n      \"properties\": {\n        \"dtype\": \"number\",\n        \"std\": 1,\n        \"min\": 0,\n        \"max\": 4,\n        \"num_unique_values\": 5,\n        \"samples\": [\n          4,\n          2,\n          0\n        ],\n        \"semantic_type\": \"\",\n        \"description\": \"\"\n      }\n    },\n    {\n      \"column\": \"Mode_of_Shipment\",\n      \"properties\": {\n        \"dtype\": \"number\",\n        \"std\": 0,\n        \"min\": 0,\n        \"max\": 2,\n        \"num_unique_values\": 3,\n        \"samples\": [\n          0,\n          2,\n          1\n        ],\n        \"semantic_type\": \"\",\n        \"description\": \"\"\n      }\n    },\n    {\n      \"column\": \"Customer_care_calls\",\n      \"properties\": {\n        \"dtype\": \"number\",\n        \"std\": 1,\n        \"min\": 2,\n        \"max\": 7,\n        \"num_unique_values\": 6,\n        \"samples\": [\n          4,\n          2,\n          7\n        ],\n        \"semantic_type\": \"\",\n        \"description\": \"\"\n      }\n    },\n    {\n      \"column\": \"Product_importance\",\n      \"properties\": {\n        \"dtype\": \"number\",\n        \"std\": 0,\n        \"min\": 0,\n        \"max\": 2,\n        \"num_unique_values\": 3,\n        \"samples\": [\n          1,\n          2,\n          0\n        ],\n        \"semantic_type\": \"\",\n        \"description\": \"\"\n      }\n    },\n    {\n      \"column\": \"Weight_in_gms\",\n      \"properties\": {\n        \"dtype\": \"number\",\n        \"std\": 1635,\n        \"min\": 1001,\n        \"max\": 7846,\n        \"num_unique_values\": 4034,\n        \"samples\": [\n          5483,\n          1238,\n          1799\n        ],\n        \"semantic_type\": \"\",\n        \"description\": \"\"\n      }\n    },\n    {\n      \"column\": \"Reached.on.Time_Y.N\",\n      \"properties\": {\n        \"dtype\": \"number\",\n        \"std\": 0,\n        \"min\": 0,\n        \"max\": 1,\n        \"num_unique_values\": 2,\n        \"samples\": [\n          0,\n          1\n        ],\n        \"semantic_type\": \"\",\n        \"description\": \"\"\n      }\n    }\n  ]\n}"
            }
          },
          "metadata": {},
          "execution_count": 32
        }
      ]
    },
    {
      "cell_type": "markdown",
      "source": [
        "VISUALISATION AND HANDLING OUTLIERS"
      ],
      "metadata": {
        "id": "8FdqW0puiaMZ"
      }
    },
    {
      "cell_type": "code",
      "source": [
        "plt.figure(figsize=(10,8))\n",
        "for i in data_updated.columns:\n",
        "  plt.subplot(2,3,data_updated.columns.get_loc(i)+1)\n",
        "  sns.boxplot(data_updated[i])"
      ],
      "metadata": {
        "id": "RuP3iEiLiZ7O",
        "colab": {
          "base_uri": "https://localhost:8080/",
          "height": 657
        },
        "outputId": "f337cb61-b763-4e17-ab0c-76c8f02eafd2"
      },
      "execution_count": 33,
      "outputs": [
        {
          "output_type": "display_data",
          "data": {
            "text/plain": [
              "<Figure size 1000x800 with 6 Axes>"
            ],
            "image/png": "[encoded data removed]"
          },
          "metadata": {}
        }
      ]
    },
    {
      "cell_type": "code",
      "source": [
        "data_updated.hist(figsize=(10,8))"
      ],
      "metadata": {
        "id": "rQ9Jerq1p0eY",
        "colab": {
          "base_uri": "https://localhost:8080/",
          "height": 803
        },
        "outputId": "e26847e0-15f5-4c27-a268-954c1a40198a"
      },
      "execution_count": 34,
      "outputs": [
        {
          "output_type": "execute_result",
          "data": {
            "text/plain": [
              "array([[<Axes: title={'center': 'Warehouse_block'}>,\n",
              "        <Axes: title={'center': 'Mode_of_Shipment'}>],\n",
              "       [<Axes: title={'center': 'Customer_care_calls'}>,\n",
              "        <Axes: title={'center': 'Product_importance'}>],\n",
              "       [<Axes: title={'center': 'Weight_in_gms'}>,\n",
              "        <Axes: title={'center': 'Reached.on.Time_Y.N'}>]], dtype=object)"
            ]
          },
          "metadata": {},
          "execution_count": 34
        },
        {
          "output_type": "display_data",
          "data": {
            "text/plain": [
              "<Figure size 1000x800 with 6 Axes>"
            ],
            "image/png": "[encoded data removed]"
          },
          "metadata": {}
        }
      ]
    },
    {
      "cell_type": "code",
      "source": [
        "data_updated.describe(include='all')"
      ],
      "metadata": {
        "colab": {
          "base_uri": "https://localhost:8080/",
          "height": 300
        },
        "id": "pOeCtGuChc9Q",
        "outputId": "19d6ea30-d978-4138-ebe8-d50c4ebc7f87"
      },
      "execution_count": 35,
      "outputs": [
        {
          "output_type": "execute_result",
          "data": {
            "text/plain": [
              "       Warehouse_block  Mode_of_Shipment  Customer_care_calls  \\\n",
              "count     10999.000000      10999.000000         10999.000000   \n",
              "mean          2.333394          1.516865             4.054459   \n",
              "std           1.490726          0.756894             1.141490   \n",
              "min           0.000000          0.000000             2.000000   \n",
              "25%           1.000000          1.000000             3.000000   \n",
              "50%           3.000000          2.000000             4.000000   \n",
              "75%           4.000000          2.000000             5.000000   \n",
              "max           4.000000          2.000000             7.000000   \n",
              "\n",
              "       Product_importance  Weight_in_gms  Reached.on.Time_Y.N  \n",
              "count        10999.000000   10999.000000         10999.000000  \n",
              "mean             1.346031    3634.016729             0.596691  \n",
              "std              0.631434    1635.377251             0.490584  \n",
              "min              0.000000    1001.000000             0.000000  \n",
              "25%              1.000000    1839.500000             0.000000  \n",
              "50%              1.000000    4149.000000             1.000000  \n",
              "75%              2.000000    5050.000000             1.000000  \n",
              "max              2.000000    7846.000000             1.000000  "
            ],
            "text/html": [
              "\n",
              "  <div id=\"df-5eefc523-f141-4121-976b-5c6d9fa04734\" class=\"colab-df-container\">\n",
              "    <div>\n",
              "<style scoped>\n",
              "    .dataframe tbody tr th:only-of-type {\n",
              "        vertical-align: middle;\n",
              "    }\n",
              "\n",
              "    .dataframe tbody tr th {\n",
              "        vertical-align: top;\n",
              "    }\n",
              "\n",
              "    .dataframe thead th {\n",
              "        text-align: right;\n",
              "    }\n",
              "</style>\n",
              "<table border=\"1\" class=\"dataframe\">\n",
              "  <thead>\n",
              "    <tr style=\"text-align: right;\">\n",
              "      <th></th>\n",
              "      <th>Warehouse_block</th>\n",
              "      <th>Mode_of_Shipment</th>\n",
              "      <th>Customer_care_calls</th>\n",
              "      <th>Product_importance</th>\n",
              "      <th>Weight_in_gms</th>\n",
              "      <th>Reached.on.Time_Y.N</th>\n",
              "    </tr>\n",
              "  </thead>\n",
              "  <tbody>\n",
              "    <tr>\n",
              "      <th>count</th>\n",
              "      <td>10999.000000</td>\n",
              "      <td>10999.000000</td>\n",
              "      <td>10999.000000</td>\n",
              "      <td>10999.000000</td>\n",
              "      <td>10999.000000</td>\n",
              "      <td>10999.000000</td>\n",
              "    </tr>\n",
              "    <tr>\n",
              "      <th>mean</th>\n",
              "      <td>2.333394</td>\n",
              "      <td>1.516865</td>\n",
              "      <td>4.054459</td>\n",
              "      <td>1.346031</td>\n",
              "      <td>3634.016729</td>\n",
              "      <td>0.596691</td>\n",
              "    </tr>\n",
              "    <tr>\n",
              "      <th>std</th>\n",
              "      <td>1.490726</td>\n",
              "      <td>0.756894</td>\n",
              "      <td>1.141490</td>\n",
              "      <td>0.631434</td>\n",
              "      <td>1635.377251</td>\n",
              "      <td>0.490584</td>\n",
              "    </tr>\n",
              "    <tr>\n",
              "      <th>min</th>\n",
              "      <td>0.000000</td>\n",
              "      <td>0.000000</td>\n",
              "      <td>2.000000</td>\n",
              "      <td>0.000000</td>\n",
              "      <td>1001.000000</td>\n",
              "      <td>0.000000</td>\n",
              "    </tr>\n",
              "    <tr>\n",
              "      <th>25%</th>\n",
              "      <td>1.000000</td>\n",
              "      <td>1.000000</td>\n",
              "      <td>3.000000</td>\n",
              "      <td>1.000000</td>\n",
              "      <td>1839.500000</td>\n",
              "      <td>0.000000</td>\n",
              "    </tr>\n",
              "    <tr>\n",
              "      <th>50%</th>\n",
              "      <td>3.000000</td>\n",
              "      <td>2.000000</td>\n",
              "      <td>4.000000</td>\n",
              "      <td>1.000000</td>\n",
              "      <td>4149.000000</td>\n",
              "      <td>1.000000</td>\n",
              "    </tr>\n",
              "    <tr>\n",
              "      <th>75%</th>\n",
              "      <td>4.000000</td>\n",
              "      <td>2.000000</td>\n",
              "      <td>5.000000</td>\n",
              "      <td>2.000000</td>\n",
              "      <td>5050.000000</td>\n",
              "      <td>1.000000</td>\n",
              "    </tr>\n",
              "    <tr>\n",
              "      <th>max</th>\n",
              "      <td>4.000000</td>\n",
              "      <td>2.000000</td>\n",
              "      <td>7.000000</td>\n",
              "      <td>2.000000</td>\n",
              "      <td>7846.000000</td>\n",
              "      <td>1.000000</td>\n",
              "    </tr>\n",
              "  </tbody>\n",
              "</table>\n",
              "</div>\n",
              "    <div class=\"colab-df-buttons\">\n",
              "\n",
              "  <div class=\"colab-df-container\">\n",
              "    <button class=\"colab-df-convert\" onclick=\"convertToInteractive('df-5eefc523-f141-4121-976b-5c6d9fa04734')\"\n",
              "            title=\"Convert this dataframe to an interactive table.\"\n",
              "            style=\"display:none;\">\n",
              "\n",
              "  <svg xmlns=\"http://www.w3.org/2000/svg\" height=\"24px\" viewBox=\"0 -960 960 960\">\n",
              "    <path d=\"M120-120v-720h720v720H120Zm60-500h600v-160H180v160Zm220 220h160v-160H400v160Zm0 220h160v-160H400v160ZM180-400h160v-160H180v160Zm440 0h160v-160H620v160ZM180-180h160v-160H180v160Zm440 0h160v-160H620v160Z\"/>\n",
              "  </svg>\n",
              "    </button>\n",
              "\n",
              "  <style>\n",
              "    .colab-df-container {\n",
              "      display:flex;\n",
              "      gap: 12px;\n",
              "    }\n",
              "\n",
              "    .colab-df-convert {\n",
              "      background-color: #E8F0FE;\n",
              "      border: none;\n",
              "      border-radius: 50%;\n",
              "      cursor: pointer;\n",
              "      display: none;\n",
              "      fill: #1967D2;\n",
              "      height: 32px;\n",
              "      padding: 0 0 0 0;\n",
              "      width: 32px;\n",
              "    }\n",
              "\n",
              "    .colab-df-convert:hover {\n",
              "      background-color: #E2EBFA;\n",
              "      box-shadow: 0px 1px 2px rgba(60, 64, 67, 0.3), 0px 1px 3px 1px rgba(60, 64, 67, 0.15);\n",
              "      fill: #174EA6;\n",
              "    }\n",
              "\n",
              "    .colab-df-buttons div {\n",
              "      margin-bottom: 4px;\n",
              "    }\n",
              "\n",
              "    [theme=dark] .colab-df-convert {\n",
              "      background-color: #3B4455;\n",
              "      fill: #D2E3FC;\n",
              "    }\n",
              "\n",
              "    [theme=dark] .colab-df-convert:hover {\n",
              "      background-color: #434B5C;\n",
              "      box-shadow: 0px 1px 3px 1px rgba(0, 0, 0, 0.15);\n",
              "      filter: drop-shadow(0px 1px 2px rgba(0, 0, 0, 0.3));\n",
              "      fill: #FFFFFF;\n",
              "    }\n",
              "  </style>\n",
              "\n",
              "    <script>\n",
              "      const buttonEl =\n",
              "        document.querySelector('#df-5eefc523-f141-4121-976b-5c6d9fa04734 button.colab-df-convert');\n",
              "      buttonEl.style.display =\n",
              "        google.colab.kernel.accessAllowed ? 'block' : 'none';\n",
              "\n",
              "      async function convertToInteractive(key) {\n",
              "        const element = document.querySelector('#df-5eefc523-f141-4121-976b-5c6d9fa04734');\n",
              "        const dataTable =\n",
              "          await google.colab.kernel.invokeFunction('convertToInteractive',\n",
              "                                                    [key], {});\n",
              "        if (!dataTable) return;\n",
              "\n",
              "        const docLinkHtml = 'Like what you see? Visit the ' +\n",
              "          '<a target=\"_blank\" href=https://colab.research.google.com/notebooks/data_table.ipynb>data table notebook</a>'\n",
              "          + ' to learn more about interactive tables.';\n",
              "        element.innerHTML = '';\n",
              "        dataTable['output_type'] = 'display_data';\n",
              "        await google.colab.output.renderOutput(dataTable, element);\n",
              "        const docLink = document.createElement('div');\n",
              "        docLink.innerHTML = docLinkHtml;\n",
              "        element.appendChild(docLink);\n",
              "      }\n",
              "    </script>\n",
              "  </div>\n",
              "\n",
              "\n",
              "<div id=\"df-a77f34af-74d1-47ed-896f-84c3a05766df\">\n",
              "  <button class=\"colab-df-quickchart\" onclick=\"quickchart('df-a77f34af-74d1-47ed-896f-84c3a05766df')\"\n",
              "            title=\"Suggest charts\"\n",
              "            style=\"display:none;\">\n",
              "\n",
              "<svg xmlns=\"http://www.w3.org/2000/svg\" height=\"24px\"viewBox=\"0 0 24 24\"\n",
              "     width=\"24px\">\n",
              "    <g>\n",
              "        <path d=\"M19 3H5c-1.1 0-2 .9-2 2v14c0 1.1.9 2 2 2h14c1.1 0 2-.9 2-2V5c0-1.1-.9-2-2-2zM9 17H7v-7h2v7zm4 0h-2V7h2v10zm4 0h-2v-4h2v4z\"/>\n",
              "    </g>\n",
              "</svg>\n",
              "  </button>\n",
              "\n",
              "<style>\n",
              "  .colab-df-quickchart {\n",
              "      --bg-color: #E8F0FE;\n",
              "      --fill-color: #1967D2;\n",
              "      --hover-bg-color: #E2EBFA;\n",
              "      --hover-fill-color: #174EA6;\n",
              "      --disabled-fill-color: #AAA;\n",
              "      --disabled-bg-color: #DDD;\n",
              "  }\n",
              "\n",
              "  [theme=dark] .colab-df-quickchart {\n",
              "      --bg-color: #3B4455;\n",
              "      --fill-color: #D2E3FC;\n",
              "      --hover-bg-color: #434B5C;\n",
              "      --hover-fill-color: #FFFFFF;\n",
              "      --disabled-bg-color: #3B4455;\n",
              "      --disabled-fill-color: #666;\n",
              "  }\n",
              "\n",
              "  .colab-df-quickchart {\n",
              "    background-color: var(--bg-color);\n",
              "    border: none;\n",
              "    border-radius: 50%;\n",
              "    cursor: pointer;\n",
              "    display: none;\n",
              "    fill: var(--fill-color);\n",
              "    height: 32px;\n",
              "    padding: 0;\n",
              "    width: 32px;\n",
              "  }\n",
              "\n",
              "  .colab-df-quickchart:hover {\n",
              "    background-color: var(--hover-bg-color);\n",
              "    box-shadow: 0 1px 2px rgba(60, 64, 67, 0.3), 0 1px 3px 1px rgba(60, 64, 67, 0.15);\n",
              "    fill: var(--button-hover-fill-color);\n",
              "  }\n",
              "\n",
              "  .colab-df-quickchart-complete:disabled,\n",
              "  .colab-df-quickchart-complete:disabled:hover {\n",
              "    background-color: var(--disabled-bg-color);\n",
              "    fill: var(--disabled-fill-color);\n",
              "    box-shadow: none;\n",
              "  }\n",
              "\n",
              "  .colab-df-spinner {\n",
              "    border: 2px solid var(--fill-color);\n",
              "    border-color: transparent;\n",
              "    border-bottom-color: var(--fill-color);\n",
              "    animation:\n",
              "      spin 1s steps(1) infinite;\n",
              "  }\n",
              "\n",
              "  @keyframes spin {\n",
              "    0% {\n",
              "      border-color: transparent;\n",
              "      border-bottom-color: var(--fill-color);\n",
              "      border-left-color: var(--fill-color);\n",
              "    }\n",
              "    20% {\n",
              "      border-color: transparent;\n",
              "      border-left-color: var(--fill-color);\n",
              "      border-top-color: var(--fill-color);\n",
              "    }\n",
              "    30% {\n",
              "      border-color: transparent;\n",
              "      border-left-color: var(--fill-color);\n",
              "      border-top-color: var(--fill-color);\n",
              "      border-right-color: var(--fill-color);\n",
              "    }\n",
              "    40% {\n",
              "      border-color: transparent;\n",
              "      border-right-color: var(--fill-color);\n",
              "      border-top-color: var(--fill-color);\n",
              "    }\n",
              "    60% {\n",
              "      border-color: transparent;\n",
              "      border-right-color: var(--fill-color);\n",
              "    }\n",
              "    80% {\n",
              "      border-color: transparent;\n",
              "      border-right-color: var(--fill-color);\n",
              "      border-bottom-color: var(--fill-color);\n",
              "    }\n",
              "    90% {\n",
              "      border-color: transparent;\n",
              "      border-bottom-color: var(--fill-color);\n",
              "    }\n",
              "  }\n",
              "</style>\n",
              "\n",
              "  <script>\n",
              "    async function quickchart(key) {\n",
              "      const quickchartButtonEl =\n",
              "        document.querySelector('#' + key + ' button');\n",
              "      quickchartButtonEl.disabled = true;  // To prevent multiple clicks.\n",
              "      quickchartButtonEl.classList.add('colab-df-spinner');\n",
              "      try {\n",
              "        const charts = await google.colab.kernel.invokeFunction(\n",
              "            'suggestCharts', [key], {});\n",
              "      } catch (error) {\n",
              "        console.error('Error during call to suggestCharts:', error);\n",
              "      }\n",
              "      quickchartButtonEl.classList.remove('colab-df-spinner');\n",
              "      quickchartButtonEl.classList.add('colab-df-quickchart-complete');\n",
              "    }\n",
              "    (() => {\n",
              "      let quickchartButtonEl =\n",
              "        document.querySelector('#df-a77f34af-74d1-47ed-896f-84c3a05766df button');\n",
              "      quickchartButtonEl.style.display =\n",
              "        google.colab.kernel.accessAllowed ? 'block' : 'none';\n",
              "    })();\n",
              "  </script>\n",
              "</div>\n",
              "\n",
              "    </div>\n",
              "  </div>\n"
            ],
            "application/vnd.google.colaboratory.intrinsic+json": {
              "type": "dataframe",
              "summary": "{\n  \"name\": \"data_updated\",\n  \"rows\": 8,\n  \"fields\": [\n    {\n      \"column\": \"Warehouse_block\",\n      \"properties\": {\n        \"dtype\": \"number\",\n        \"std\": 3887.934759687367,\n        \"min\": 0.0,\n        \"max\": 10999.0,\n        \"num_unique_values\": 7,\n        \"samples\": [\n          10999.0,\n          2.333393944904082,\n          3.0\n        ],\n        \"semantic_type\": \"\",\n        \"description\": \"\"\n      }\n    },\n    {\n      \"column\": \"Mode_of_Shipment\",\n      \"properties\": {\n        \"dtype\": \"number\",\n        \"std\": 3888.265413490802,\n        \"min\": 0.0,\n        \"max\": 10999.0,\n        \"num_unique_values\": 6,\n        \"samples\": [\n          10999.0,\n          1.5168651695608693,\n          2.0\n        ],\n        \"semantic_type\": \"\",\n        \"description\": \"\"\n      }\n    },\n    {\n      \"column\": \"Customer_care_calls\",\n      \"properties\": {\n        \"dtype\": \"number\",\n        \"std\": 3887.411065165797,\n        \"min\": 1.141489647105304,\n        \"max\": 10999.0,\n        \"num_unique_values\": 8,\n        \"samples\": [\n          4.054459496317847,\n          4.0,\n          10999.0\n        ],\n        \"semantic_type\": \"\",\n        \"description\": \"\"\n      }\n    },\n    {\n      \"column\": \"Product_importance\",\n      \"properties\": {\n        \"dtype\": \"number\",\n        \"std\": 3888.330877567521,\n        \"min\": 0.0,\n        \"max\": 10999.0,\n        \"num_unique_values\": 6,\n        \"samples\": [\n          10999.0,\n          1.3460314574052186,\n          2.0\n        ],\n        \"semantic_type\": \"\",\n        \"description\": \"\"\n      }\n    },\n    {\n      \"column\": \"Weight_in_gms\",\n      \"properties\": {\n        \"dtype\": \"number\",\n        \"std\": 3425.38234254123,\n        \"min\": 1001.0,\n        \"max\": 10999.0,\n        \"num_unique_values\": 8,\n        \"samples\": [\n          3634.016728793527,\n          4149.0,\n          10999.0\n        ],\n        \"semantic_type\": \"\",\n        \"description\": \"\"\n      }\n    },\n    {\n      \"column\": \"Reached.on.Time_Y.N\",\n      \"properties\": {\n        \"dtype\": \"number\",\n        \"std\": 3888.5273268152173,\n        \"min\": 0.0,\n        \"max\": 10999.0,\n        \"num_unique_values\": 5,\n        \"samples\": [\n          0.5966906082371125,\n          1.0,\n          0.4905841493710292\n        ],\n        \"semantic_type\": \"\",\n        \"description\": \"\"\n      }\n    }\n  ]\n}"
            }
          },
          "metadata": {},
          "execution_count": 35
        }
      ]
    },
    {
      "cell_type": "markdown",
      "source": [
        "HANDLING SAMPLING"
      ],
      "metadata": {
        "id": "vlP3a_kEHB1s"
      }
    },
    {
      "cell_type": "code",
      "source": [
        "from imblearn.under_sampling import RandomUnderSampler"
      ],
      "metadata": {
        "id": "YYSWaOsmHBXM"
      },
      "execution_count": 36,
      "outputs": []
    },
    {
      "cell_type": "code",
      "source": [
        "us = RandomUnderSampler(random_state=0)"
      ],
      "metadata": {
        "id": "Ze5Qx2f6HZpq"
      },
      "execution_count": 37,
      "outputs": []
    },
    {
      "cell_type": "code",
      "source": [
        "x = data_updated.drop(['Reached.on.Time_Y.N'], axis=1)"
      ],
      "metadata": {
        "id": "omn8-gzaHfT_"
      },
      "execution_count": 38,
      "outputs": []
    },
    {
      "cell_type": "code",
      "source": [
        "y = data_updated['Reached.on.Time_Y.N']"
      ],
      "metadata": {
        "id": "dvzg9mWsHtuM"
      },
      "execution_count": 39,
      "outputs": []
    },
    {
      "cell_type": "code",
      "source": [
        "x_res, y_res=us.fit_resample(x, y)"
      ],
      "metadata": {
        "id": "xIoemnIUHz0n"
      },
      "execution_count": 40,
      "outputs": []
    },
    {
      "cell_type": "code",
      "source": [
        "x_res.head()"
      ],
      "metadata": {
        "colab": {
          "base_uri": "https://localhost:8080/",
          "height": 206
        },
        "id": "uOokUPRnH5gO",
        "outputId": "3c1bac40-7bb8-4b9e-b9dd-c2934b0039f3"
      },
      "execution_count": 41,
      "outputs": [
        {
          "output_type": "execute_result",
          "data": {
            "text/plain": [
              "   Warehouse_block  Mode_of_Shipment  Customer_care_calls  Product_importance  \\\n",
              "0                1                 1                    6                   2   \n",
              "1                2                 1                    3                   1   \n",
              "2                4                 1                    4                   0   \n",
              "3                3                 1                    4                   2   \n",
              "4                0                 1                    3                   2   \n",
              "\n",
              "   Weight_in_gms  \n",
              "0           5031  \n",
              "1           5956  \n",
              "2           4245  \n",
              "3           4622  \n",
              "4           4732  "
            ],
            "text/html": [
              "\n",
              "  <div id=\"df-3e25cd6b-d533-49fc-8113-628aa0b022c2\" class=\"colab-df-container\">\n",
              "    <div>\n",
              "<style scoped>\n",
              "    .dataframe tbody tr th:only-of-type {\n",
              "        vertical-align: middle;\n",
              "    }\n",
              "\n",
              "    .dataframe tbody tr th {\n",
              "        vertical-align: top;\n",
              "    }\n",
              "\n",
              "    .dataframe thead th {\n",
              "        text-align: right;\n",
              "    }\n",
              "</style>\n",
              "<table border=\"1\" class=\"dataframe\">\n",
              "  <thead>\n",
              "    <tr style=\"text-align: right;\">\n",
              "      <th></th>\n",
              "      <th>Warehouse_block</th>\n",
              "      <th>Mode_of_Shipment</th>\n",
              "      <th>Customer_care_calls</th>\n",
              "      <th>Product_importance</th>\n",
              "      <th>Weight_in_gms</th>\n",
              "    </tr>\n",
              "  </thead>\n",
              "  <tbody>\n",
              "    <tr>\n",
              "      <th>0</th>\n",
              "      <td>1</td>\n",
              "      <td>1</td>\n",
              "      <td>6</td>\n",
              "      <td>2</td>\n",
              "      <td>5031</td>\n",
              "    </tr>\n",
              "    <tr>\n",
              "      <th>1</th>\n",
              "      <td>2</td>\n",
              "      <td>1</td>\n",
              "      <td>3</td>\n",
              "      <td>1</td>\n",
              "      <td>5956</td>\n",
              "    </tr>\n",
              "    <tr>\n",
              "      <th>2</th>\n",
              "      <td>4</td>\n",
              "      <td>1</td>\n",
              "      <td>4</td>\n",
              "      <td>0</td>\n",
              "      <td>4245</td>\n",
              "    </tr>\n",
              "    <tr>\n",
              "      <th>3</th>\n",
              "      <td>3</td>\n",
              "      <td>1</td>\n",
              "      <td>4</td>\n",
              "      <td>2</td>\n",
              "      <td>4622</td>\n",
              "    </tr>\n",
              "    <tr>\n",
              "      <th>4</th>\n",
              "      <td>0</td>\n",
              "      <td>1</td>\n",
              "      <td>3</td>\n",
              "      <td>2</td>\n",
              "      <td>4732</td>\n",
              "    </tr>\n",
              "  </tbody>\n",
              "</table>\n",
              "</div>\n",
              "    <div class=\"colab-df-buttons\">\n",
              "\n",
              "  <div class=\"colab-df-container\">\n",
              "    <button class=\"colab-df-convert\" onclick=\"convertToInteractive('df-3e25cd6b-d533-49fc-8113-628aa0b022c2')\"\n",
              "            title=\"Convert this dataframe to an interactive table.\"\n",
              "            style=\"display:none;\">\n",
              "\n",
              "  <svg xmlns=\"http://www.w3.org/2000/svg\" height=\"24px\" viewBox=\"0 -960 960 960\">\n",
              "    <path d=\"M120-120v-720h720v720H120Zm60-500h600v-160H180v160Zm220 220h160v-160H400v160Zm0 220h160v-160H400v160ZM180-400h160v-160H180v160Zm440 0h160v-160H620v160ZM180-180h160v-160H180v160Zm440 0h160v-160H620v160Z\"/>\n",
              "  </svg>\n",
              "    </button>\n",
              "\n",
              "  <style>\n",
              "    .colab-df-container {\n",
              "      display:flex;\n",
              "      gap: 12px;\n",
              "    }\n",
              "\n",
              "    .colab-df-convert {\n",
              "      background-color: #E8F0FE;\n",
              "      border: none;\n",
              "      border-radius: 50%;\n",
              "      cursor: pointer;\n",
              "      display: none;\n",
              "      fill: #1967D2;\n",
              "      height: 32px;\n",
              "      padding: 0 0 0 0;\n",
              "      width: 32px;\n",
              "    }\n",
              "\n",
              "    .colab-df-convert:hover {\n",
              "      background-color: #E2EBFA;\n",
              "      box-shadow: 0px 1px 2px rgba(60, 64, 67, 0.3), 0px 1px 3px 1px rgba(60, 64, 67, 0.15);\n",
              "      fill: #174EA6;\n",
              "    }\n",
              "\n",
              "    .colab-df-buttons div {\n",
              "      margin-bottom: 4px;\n",
              "    }\n",
              "\n",
              "    [theme=dark] .colab-df-convert {\n",
              "      background-color: #3B4455;\n",
              "      fill: #D2E3FC;\n",
              "    }\n",
              "\n",
              "    [theme=dark] .colab-df-convert:hover {\n",
              "      background-color: #434B5C;\n",
              "      box-shadow: 0px 1px 3px 1px rgba(0, 0, 0, 0.15);\n",
              "      filter: drop-shadow(0px 1px 2px rgba(0, 0, 0, 0.3));\n",
              "      fill: #FFFFFF;\n",
              "    }\n",
              "  </style>\n",
              "\n",
              "    <script>\n",
              "      const buttonEl =\n",
              "        document.querySelector('#df-3e25cd6b-d533-49fc-8113-628aa0b022c2 button.colab-df-convert');\n",
              "      buttonEl.style.display =\n",
              "        google.colab.kernel.accessAllowed ? 'block' : 'none';\n",
              "\n",
              "      async function convertToInteractive(key) {\n",
              "        const element = document.querySelector('#df-3e25cd6b-d533-49fc-8113-628aa0b022c2');\n",
              "        const dataTable =\n",
              "          await google.colab.kernel.invokeFunction('convertToInteractive',\n",
              "                                                    [key], {});\n",
              "        if (!dataTable) return;\n",
              "\n",
              "        const docLinkHtml = 'Like what you see? Visit the ' +\n",
              "          '<a target=\"_blank\" href=https://colab.research.google.com/notebooks/data_table.ipynb>data table notebook</a>'\n",
              "          + ' to learn more about interactive tables.';\n",
              "        element.innerHTML = '';\n",
              "        dataTable['output_type'] = 'display_data';\n",
              "        await google.colab.output.renderOutput(dataTable, element);\n",
              "        const docLink = document.createElement('div');\n",
              "        docLink.innerHTML = docLinkHtml;\n",
              "        element.appendChild(docLink);\n",
              "      }\n",
              "    </script>\n",
              "  </div>\n",
              "\n",
              "\n",
              "<div id=\"df-b7787b69-041a-4c53-b8e0-eee5e4941090\">\n",
              "  <button class=\"colab-df-quickchart\" onclick=\"quickchart('df-b7787b69-041a-4c53-b8e0-eee5e4941090')\"\n",
              "            title=\"Suggest charts\"\n",
              "            style=\"display:none;\">\n",
              "\n",
              "<svg xmlns=\"http://www.w3.org/2000/svg\" height=\"24px\"viewBox=\"0 0 24 24\"\n",
              "     width=\"24px\">\n",
              "    <g>\n",
              "        <path d=\"M19 3H5c-1.1 0-2 .9-2 2v14c0 1.1.9 2 2 2h14c1.1 0 2-.9 2-2V5c0-1.1-.9-2-2-2zM9 17H7v-7h2v7zm4 0h-2V7h2v10zm4 0h-2v-4h2v4z\"/>\n",
              "    </g>\n",
              "</svg>\n",
              "  </button>\n",
              "\n",
              "<style>\n",
              "  .colab-df-quickchart {\n",
              "      --bg-color: #E8F0FE;\n",
              "      --fill-color: #1967D2;\n",
              "      --hover-bg-color: #E2EBFA;\n",
              "      --hover-fill-color: #174EA6;\n",
              "      --disabled-fill-color: #AAA;\n",
              "      --disabled-bg-color: #DDD;\n",
              "  }\n",
              "\n",
              "  [theme=dark] .colab-df-quickchart {\n",
              "      --bg-color: #3B4455;\n",
              "      --fill-color: #D2E3FC;\n",
              "      --hover-bg-color: #434B5C;\n",
              "      --hover-fill-color: #FFFFFF;\n",
              "      --disabled-bg-color: #3B4455;\n",
              "      --disabled-fill-color: #666;\n",
              "  }\n",
              "\n",
              "  .colab-df-quickchart {\n",
              "    background-color: var(--bg-color);\n",
              "    border: none;\n",
              "    border-radius: 50%;\n",
              "    cursor: pointer;\n",
              "    display: none;\n",
              "    fill: var(--fill-color);\n",
              "    height: 32px;\n",
              "    padding: 0;\n",
              "    width: 32px;\n",
              "  }\n",
              "\n",
              "  .colab-df-quickchart:hover {\n",
              "    background-color: var(--hover-bg-color);\n",
              "    box-shadow: 0 1px 2px rgba(60, 64, 67, 0.3), 0 1px 3px 1px rgba(60, 64, 67, 0.15);\n",
              "    fill: var(--button-hover-fill-color);\n",
              "  }\n",
              "\n",
              "  .colab-df-quickchart-complete:disabled,\n",
              "  .colab-df-quickchart-complete:disabled:hover {\n",
              "    background-color: var(--disabled-bg-color);\n",
              "    fill: var(--disabled-fill-color);\n",
              "    box-shadow: none;\n",
              "  }\n",
              "\n",
              "  .colab-df-spinner {\n",
              "    border: 2px solid var(--fill-color);\n",
              "    border-color: transparent;\n",
              "    border-bottom-color: var(--fill-color);\n",
              "    animation:\n",
              "      spin 1s steps(1) infinite;\n",
              "  }\n",
              "\n",
              "  @keyframes spin {\n",
              "    0% {\n",
              "      border-color: transparent;\n",
              "      border-bottom-color: var(--fill-color);\n",
              "      border-left-color: var(--fill-color);\n",
              "    }\n",
              "    20% {\n",
              "      border-color: transparent;\n",
              "      border-left-color: var(--fill-color);\n",
              "      border-top-color: var(--fill-color);\n",
              "    }\n",
              "    30% {\n",
              "      border-color: transparent;\n",
              "      border-left-color: var(--fill-color);\n",
              "      border-top-color: var(--fill-color);\n",
              "      border-right-color: var(--fill-color);\n",
              "    }\n",
              "    40% {\n",
              "      border-color: transparent;\n",
              "      border-right-color: var(--fill-color);\n",
              "      border-top-color: var(--fill-color);\n",
              "    }\n",
              "    60% {\n",
              "      border-color: transparent;\n",
              "      border-right-color: var(--fill-color);\n",
              "    }\n",
              "    80% {\n",
              "      border-color: transparent;\n",
              "      border-right-color: var(--fill-color);\n",
              "      border-bottom-color: var(--fill-color);\n",
              "    }\n",
              "    90% {\n",
              "      border-color: transparent;\n",
              "      border-bottom-color: var(--fill-color);\n",
              "    }\n",
              "  }\n",
              "</style>\n",
              "\n",
              "  <script>\n",
              "    async function quickchart(key) {\n",
              "      const quickchartButtonEl =\n",
              "        document.querySelector('#' + key + ' button');\n",
              "      quickchartButtonEl.disabled = true;  // To prevent multiple clicks.\n",
              "      quickchartButtonEl.classList.add('colab-df-spinner');\n",
              "      try {\n",
              "        const charts = await google.colab.kernel.invokeFunction(\n",
              "            'suggestCharts', [key], {});\n",
              "      } catch (error) {\n",
              "        console.error('Error during call to suggestCharts:', error);\n",
              "      }\n",
              "      quickchartButtonEl.classList.remove('colab-df-spinner');\n",
              "      quickchartButtonEl.classList.add('colab-df-quickchart-complete');\n",
              "    }\n",
              "    (() => {\n",
              "      let quickchartButtonEl =\n",
              "        document.querySelector('#df-b7787b69-041a-4c53-b8e0-eee5e4941090 button');\n",
              "      quickchartButtonEl.style.display =\n",
              "        google.colab.kernel.accessAllowed ? 'block' : 'none';\n",
              "    })();\n",
              "  </script>\n",
              "</div>\n",
              "\n",
              "    </div>\n",
              "  </div>\n"
            ],
            "application/vnd.google.colaboratory.intrinsic+json": {
              "type": "dataframe",
              "variable_name": "x_res",
              "summary": "{\n  \"name\": \"x_res\",\n  \"rows\": 8872,\n  \"fields\": [\n    {\n      \"column\": \"Warehouse_block\",\n      \"properties\": {\n        \"dtype\": \"number\",\n        \"std\": 1,\n        \"min\": 0,\n        \"max\": 4,\n        \"num_unique_values\": 5,\n        \"samples\": [\n          2,\n          0,\n          4\n        ],\n        \"semantic_type\": \"\",\n        \"description\": \"\"\n      }\n    },\n    {\n      \"column\": \"Mode_of_Shipment\",\n      \"properties\": {\n        \"dtype\": \"number\",\n        \"std\": 0,\n        \"min\": 0,\n        \"max\": 2,\n        \"num_unique_values\": 3,\n        \"samples\": [\n          1,\n          0,\n          2\n        ],\n        \"semantic_type\": \"\",\n        \"description\": \"\"\n      }\n    },\n    {\n      \"column\": \"Customer_care_calls\",\n      \"properties\": {\n        \"dtype\": \"number\",\n        \"std\": 1,\n        \"min\": 2,\n        \"max\": 7,\n        \"num_unique_values\": 6,\n        \"samples\": [\n          6,\n          3,\n          7\n        ],\n        \"semantic_type\": \"\",\n        \"description\": \"\"\n      }\n    },\n    {\n      \"column\": \"Product_importance\",\n      \"properties\": {\n        \"dtype\": \"number\",\n        \"std\": 0,\n        \"min\": 0,\n        \"max\": 2,\n        \"num_unique_values\": 3,\n        \"samples\": [\n          2,\n          1,\n          0\n        ],\n        \"semantic_type\": \"\",\n        \"description\": \"\"\n      }\n    },\n    {\n      \"column\": \"Weight_in_gms\",\n      \"properties\": {\n        \"dtype\": \"number\",\n        \"std\": 1638,\n        \"min\": 1001,\n        \"max\": 7684,\n        \"num_unique_values\": 3681,\n        \"samples\": [\n          4424,\n          1218,\n          4731\n        ],\n        \"semantic_type\": \"\",\n        \"description\": \"\"\n      }\n    }\n  ]\n}"
            }
          },
          "metadata": {},
          "execution_count": 41
        }
      ]
    },
    {
      "cell_type": "code",
      "source": [
        "y_res.head()"
      ],
      "metadata": {
        "colab": {
          "base_uri": "https://localhost:8080/"
        },
        "id": "KSvpwqz5IVU0",
        "outputId": "85d6f48a-dbf6-4fc2-c8c3-31410c94a3fe"
      },
      "execution_count": 42,
      "outputs": [
        {
          "output_type": "execute_result",
          "data": {
            "text/plain": [
              "0    0\n",
              "1    0\n",
              "2    0\n",
              "3    0\n",
              "4    0\n",
              "Name: Reached.on.Time_Y.N, dtype: int64"
            ]
          },
          "metadata": {},
          "execution_count": 42
        }
      ]
    },
    {
      "cell_type": "code",
      "source": [
        "sns.countplot(x=y_res,data=data_updated)\n",
        "plt.title('Target Distribution')\n",
        "plt.xlabel('class')\n",
        "plt.ylabel('frequency')"
      ],
      "metadata": {
        "colab": {
          "base_uri": "https://localhost:8080/",
          "height": 489
        },
        "id": "dXHYlr2hIed6",
        "outputId": "9e2ea81b-da0d-4436-80ce-a39a7fdde26b"
      },
      "execution_count": 43,
      "outputs": [
        {
          "output_type": "execute_result",
          "data": {
            "text/plain": [
              "Text(0, 0.5, 'frequency')"
            ]
          },
          "metadata": {},
          "execution_count": 43
        },
        {
          "output_type": "display_data",
          "data": {
            "text/plain": [
              "<Figure size 640x480 with 1 Axes>"
            ],
            "image/png": "[encoded data removed]"
          },
          "metadata": {}
        }
      ]
    },
    {
      "cell_type": "markdown",
      "source": [
        "MODELS TO USE FOR CLASSIFICATION\n"
      ],
      "metadata": {
        "id": "MdYVcIgiiAOF"
      }
    },
    {
      "cell_type": "code",
      "source": [
        "# y=data['Reached.on.Time_Y.N']\n",
        "# y"
      ],
      "metadata": {
        "id": "_e8cjOuTWMMV"
      },
      "execution_count": 44,
      "outputs": []
    },
    {
      "cell_type": "code",
      "source": [
        "from sklearn.preprocessing import StandardScaler\n",
        "from sklearn.decomposition import PCA"
      ],
      "metadata": {
        "id": "hFpQgvNJn_ca"
      },
      "execution_count": 45,
      "outputs": []
    },
    {
      "cell_type": "code",
      "source": [
        "scaler = StandardScaler()\n",
        "#Balanced data\n",
        "X_scaled = pd.DataFrame(scaler.fit_transform(x_res), columns=x_res.columns, index=x_res.index)"
      ],
      "metadata": {
        "id": "46BQopSco3lu"
      },
      "execution_count": 46,
      "outputs": []
    },
    {
      "cell_type": "code",
      "source": [
        "joblib.dump(scaler, 'scaler.pkl')"
      ],
      "metadata": {
        "colab": {
          "base_uri": "https://localhost:8080/"
        },
        "id": "sI-fDQDsmTnN",
        "outputId": "1d205105-49f4-4492-d002-40d035ec086e"
      },
      "execution_count": 47,
      "outputs": [
        {
          "output_type": "execute_result",
          "data": {
            "text/plain": [
              "['scaler.pkl']"
            ]
          },
          "metadata": {},
          "execution_count": 47
        }
      ]
    },
    {
      "cell_type": "code",
      "source": [
        "# scaler = StandardScaler()\n",
        "# #UnBalanced data\n",
        "# X_scaled = pd.DataFrame(scaler.fit_transform(x), columns=x.columns, index=x.index)"
      ],
      "metadata": {
        "id": "YeMUwx9gkkg8"
      },
      "execution_count": 48,
      "outputs": []
    },
    {
      "cell_type": "code",
      "source": [
        "X_scaled"
      ],
      "metadata": {
        "colab": {
          "base_uri": "https://localhost:8080/",
          "height": 423
        },
        "id": "TxaoHzhqo6hB",
        "outputId": "40815f51-7495-4302-db1e-2b3674b8f581"
      },
      "execution_count": 49,
      "outputs": [
        {
          "output_type": "execute_result",
          "data": {
            "text/plain": [
              "      Warehouse_block  Mode_of_Shipment  Customer_care_calls  \\\n",
              "0           -0.887600         -0.679951             1.690326   \n",
              "1           -0.217405         -0.679951            -0.929315   \n",
              "2            1.122984         -0.679951            -0.056101   \n",
              "3            0.452789         -0.679951            -0.056101   \n",
              "4           -1.557794         -0.679951            -0.929315   \n",
              "...               ...               ...                  ...   \n",
              "8867        -0.887600          0.637482            -0.929315   \n",
              "8868        -1.557794         -0.679951            -0.056101   \n",
              "8869         1.122984         -1.997383            -0.056101   \n",
              "8870        -0.217405          0.637482            -0.929315   \n",
              "8871         1.122984         -1.997383             0.817112   \n",
              "\n",
              "      Product_importance  Weight_in_gms  \n",
              "0               1.033640       0.802222  \n",
              "1              -0.554042       1.366725  \n",
              "2              -2.141724       0.322546  \n",
              "3               1.033640       0.552620  \n",
              "4               1.033640       0.619750  \n",
              "...                  ...            ...  \n",
              "8867            1.033640      -1.592494  \n",
              "8868           -0.554042       0.981032  \n",
              "8869            1.033640       0.254196  \n",
              "8870           -0.554042      -0.902884  \n",
              "8871            1.033640      -1.176287  \n",
              "\n",
              "[8872 rows x 5 columns]"
            ],
            "text/html": [
              "\n",
              "  <div id=\"df-f29dcdbd-1bc0-4ed3-9d62-da9075a43e12\" class=\"colab-df-container\">\n",
              "    <div>\n",
              "<style scoped>\n",
              "    .dataframe tbody tr th:only-of-type {\n",
              "        vertical-align: middle;\n",
              "    }\n",
              "\n",
              "    .dataframe tbody tr th {\n",
              "        vertical-align: top;\n",
              "    }\n",
              "\n",
              "    .dataframe thead th {\n",
              "        text-align: right;\n",
              "    }\n",
              "</style>\n",
              "<table border=\"1\" class=\"dataframe\">\n",
              "  <thead>\n",
              "    <tr style=\"text-align: right;\">\n",
              "      <th></th>\n",
              "      <th>Warehouse_block</th>\n",
              "      <th>Mode_of_Shipment</th>\n",
              "      <th>Customer_care_calls</th>\n",
              "      <th>Product_importance</th>\n",
              "      <th>Weight_in_gms</th>\n",
              "    </tr>\n",
              "  </thead>\n",
              "  <tbody>\n",
              "    <tr>\n",
              "      <th>0</th>\n",
              "      <td>-0.887600</td>\n",
              "      <td>-0.679951</td>\n",
              "      <td>1.690326</td>\n",
              "      <td>1.033640</td>\n",
              "      <td>0.802222</td>\n",
              "    </tr>\n",
              "    <tr>\n",
              "      <th>1</th>\n",
              "      <td>-0.217405</td>\n",
              "      <td>-0.679951</td>\n",
              "      <td>-0.929315</td>\n",
              "      <td>-0.554042</td>\n",
              "      <td>1.366725</td>\n",
              "    </tr>\n",
              "    <tr>\n",
              "      <th>2</th>\n",
              "      <td>1.122984</td>\n",
              "      <td>-0.679951</td>\n",
              "      <td>-0.056101</td>\n",
              "      <td>-2.141724</td>\n",
              "      <td>0.322546</td>\n",
              "    </tr>\n",
              "    <tr>\n",
              "      <th>3</th>\n",
              "      <td>0.452789</td>\n",
              "      <td>-0.679951</td>\n",
              "      <td>-0.056101</td>\n",
              "      <td>1.033640</td>\n",
              "      <td>0.552620</td>\n",
              "    </tr>\n",
              "    <tr>\n",
              "      <th>4</th>\n",
              "      <td>-1.557794</td>\n",
              "      <td>-0.679951</td>\n",
              "      <td>-0.929315</td>\n",
              "      <td>1.033640</td>\n",
              "      <td>0.619750</td>\n",
              "    </tr>\n",
              "    <tr>\n",
              "      <th>...</th>\n",
              "      <td>...</td>\n",
              "      <td>...</td>\n",
              "      <td>...</td>\n",
              "      <td>...</td>\n",
              "      <td>...</td>\n",
              "    </tr>\n",
              "    <tr>\n",
              "      <th>8867</th>\n",
              "      <td>-0.887600</td>\n",
              "      <td>0.637482</td>\n",
              "      <td>-0.929315</td>\n",
              "      <td>1.033640</td>\n",
              "      <td>-1.592494</td>\n",
              "    </tr>\n",
              "    <tr>\n",
              "      <th>8868</th>\n",
              "      <td>-1.557794</td>\n",
              "      <td>-0.679951</td>\n",
              "      <td>-0.056101</td>\n",
              "      <td>-0.554042</td>\n",
              "      <td>0.981032</td>\n",
              "    </tr>\n",
              "    <tr>\n",
              "      <th>8869</th>\n",
              "      <td>1.122984</td>\n",
              "      <td>-1.997383</td>\n",
              "      <td>-0.056101</td>\n",
              "      <td>1.033640</td>\n",
              "      <td>0.254196</td>\n",
              "    </tr>\n",
              "    <tr>\n",
              "      <th>8870</th>\n",
              "      <td>-0.217405</td>\n",
              "      <td>0.637482</td>\n",
              "      <td>-0.929315</td>\n",
              "      <td>-0.554042</td>\n",
              "      <td>-0.902884</td>\n",
              "    </tr>\n",
              "    <tr>\n",
              "      <th>8871</th>\n",
              "      <td>1.122984</td>\n",
              "      <td>-1.997383</td>\n",
              "      <td>0.817112</td>\n",
              "      <td>1.033640</td>\n",
              "      <td>-1.176287</td>\n",
              "    </tr>\n",
              "  </tbody>\n",
              "</table>\n",
              "<p>8872 rows × 5 columns</p>\n",
              "</div>\n",
              "    <div class=\"colab-df-buttons\">\n",
              "\n",
              "  <div class=\"colab-df-container\">\n",
              "    <button class=\"colab-df-convert\" onclick=\"convertToInteractive('df-f29dcdbd-1bc0-4ed3-9d62-da9075a43e12')\"\n",
              "            title=\"Convert this dataframe to an interactive table.\"\n",
              "            style=\"display:none;\">\n",
              "\n",
              "  <svg xmlns=\"http://www.w3.org/2000/svg\" height=\"24px\" viewBox=\"0 -960 960 960\">\n",
              "    <path d=\"M120-120v-720h720v720H120Zm60-500h600v-160H180v160Zm220 220h160v-160H400v160Zm0 220h160v-160H400v160ZM180-400h160v-160H180v160Zm440 0h160v-160H620v160ZM180-180h160v-160H180v160Zm440 0h160v-160H620v160Z\"/>\n",
              "  </svg>\n",
              "    </button>\n",
              "\n",
              "  <style>\n",
              "    .colab-df-container {\n",
              "      display:flex;\n",
              "      gap: 12px;\n",
              "    }\n",
              "\n",
              "    .colab-df-convert {\n",
              "      background-color: #E8F0FE;\n",
              "      border: none;\n",
              "      border-radius: 50%;\n",
              "      cursor: pointer;\n",
              "      display: none;\n",
              "      fill: #1967D2;\n",
              "      height: 32px;\n",
              "      padding: 0 0 0 0;\n",
              "      width: 32px;\n",
              "    }\n",
              "\n",
              "    .colab-df-convert:hover {\n",
              "      background-color: #E2EBFA;\n",
              "      box-shadow: 0px 1px 2px rgba(60, 64, 67, 0.3), 0px 1px 3px 1px rgba(60, 64, 67, 0.15);\n",
              "      fill: #174EA6;\n",
              "    }\n",
              "\n",
              "    .colab-df-buttons div {\n",
              "      margin-bottom: 4px;\n",
              "    }\n",
              "\n",
              "    [theme=dark] .colab-df-convert {\n",
              "      background-color: #3B4455;\n",
              "      fill: #D2E3FC;\n",
              "    }\n",
              "\n",
              "    [theme=dark] .colab-df-convert:hover {\n",
              "      background-color: #434B5C;\n",
              "      box-shadow: 0px 1px 3px 1px rgba(0, 0, 0, 0.15);\n",
              "      filter: drop-shadow(0px 1px 2px rgba(0, 0, 0, 0.3));\n",
              "      fill: #FFFFFF;\n",
              "    }\n",
              "  </style>\n",
              "\n",
              "    <script>\n",
              "      const buttonEl =\n",
              "        document.querySelector('#df-f29dcdbd-1bc0-4ed3-9d62-da9075a43e12 button.colab-df-convert');\n",
              "      buttonEl.style.display =\n",
              "        google.colab.kernel.accessAllowed ? 'block' : 'none';\n",
              "\n",
              "      async function convertToInteractive(key) {\n",
              "        const element = document.querySelector('#df-f29dcdbd-1bc0-4ed3-9d62-da9075a43e12');\n",
              "        const dataTable =\n",
              "          await google.colab.kernel.invokeFunction('convertToInteractive',\n",
              "                                                    [key], {});\n",
              "        if (!dataTable) return;\n",
              "\n",
              "        const docLinkHtml = 'Like what you see? Visit the ' +\n",
              "          '<a target=\"_blank\" href=https://colab.research.google.com/notebooks/data_table.ipynb>data table notebook</a>'\n",
              "          + ' to learn more about interactive tables.';\n",
              "        element.innerHTML = '';\n",
              "        dataTable['output_type'] = 'display_data';\n",
              "        await google.colab.output.renderOutput(dataTable, element);\n",
              "        const docLink = document.createElement('div');\n",
              "        docLink.innerHTML = docLinkHtml;\n",
              "        element.appendChild(docLink);\n",
              "      }\n",
              "    </script>\n",
              "  </div>\n",
              "\n",
              "\n",
              "<div id=\"df-d4f872b1-1422-4435-818e-01913c063322\">\n",
              "  <button class=\"colab-df-quickchart\" onclick=\"quickchart('df-d4f872b1-1422-4435-818e-01913c063322')\"\n",
              "            title=\"Suggest charts\"\n",
              "            style=\"display:none;\">\n",
              "\n",
              "<svg xmlns=\"http://www.w3.org/2000/svg\" height=\"24px\"viewBox=\"0 0 24 24\"\n",
              "     width=\"24px\">\n",
              "    <g>\n",
              "        <path d=\"M19 3H5c-1.1 0-2 .9-2 2v14c0 1.1.9 2 2 2h14c1.1 0 2-.9 2-2V5c0-1.1-.9-2-2-2zM9 17H7v-7h2v7zm4 0h-2V7h2v10zm4 0h-2v-4h2v4z\"/>\n",
              "    </g>\n",
              "</svg>\n",
              "  </button>\n",
              "\n",
              "<style>\n",
              "  .colab-df-quickchart {\n",
              "      --bg-color: #E8F0FE;\n",
              "      --fill-color: #1967D2;\n",
              "      --hover-bg-color: #E2EBFA;\n",
              "      --hover-fill-color: #174EA6;\n",
              "      --disabled-fill-color: #AAA;\n",
              "      --disabled-bg-color: #DDD;\n",
              "  }\n",
              "\n",
              "  [theme=dark] .colab-df-quickchart {\n",
              "      --bg-color: #3B4455;\n",
              "      --fill-color: #D2E3FC;\n",
              "      --hover-bg-color: #434B5C;\n",
              "      --hover-fill-color: #FFFFFF;\n",
              "      --disabled-bg-color: #3B4455;\n",
              "      --disabled-fill-color: #666;\n",
              "  }\n",
              "\n",
              "  .colab-df-quickchart {\n",
              "    background-color: var(--bg-color);\n",
              "    border: none;\n",
              "    border-radius: 50%;\n",
              "    cursor: pointer;\n",
              "    display: none;\n",
              "    fill: var(--fill-color);\n",
              "    height: 32px;\n",
              "    padding: 0;\n",
              "    width: 32px;\n",
              "  }\n",
              "\n",
              "  .colab-df-quickchart:hover {\n",
              "    background-color: var(--hover-bg-color);\n",
              "    box-shadow: 0 1px 2px rgba(60, 64, 67, 0.3), 0 1px 3px 1px rgba(60, 64, 67, 0.15);\n",
              "    fill: var(--button-hover-fill-color);\n",
              "  }\n",
              "\n",
              "  .colab-df-quickchart-complete:disabled,\n",
              "  .colab-df-quickchart-complete:disabled:hover {\n",
              "    background-color: var(--disabled-bg-color);\n",
              "    fill: var(--disabled-fill-color);\n",
              "    box-shadow: none;\n",
              "  }\n",
              "\n",
              "  .colab-df-spinner {\n",
              "    border: 2px solid var(--fill-color);\n",
              "    border-color: transparent;\n",
              "    border-bottom-color: var(--fill-color);\n",
              "    animation:\n",
              "      spin 1s steps(1) infinite;\n",
              "  }\n",
              "\n",
              "  @keyframes spin {\n",
              "    0% {\n",
              "      border-color: transparent;\n",
              "      border-bottom-color: var(--fill-color);\n",
              "      border-left-color: var(--fill-color);\n",
              "    }\n",
              "    20% {\n",
              "      border-color: transparent;\n",
              "      border-left-color: var(--fill-color);\n",
              "      border-top-color: var(--fill-color);\n",
              "    }\n",
              "    30% {\n",
              "      border-color: transparent;\n",
              "      border-left-color: var(--fill-color);\n",
              "      border-top-color: var(--fill-color);\n",
              "      border-right-color: var(--fill-color);\n",
              "    }\n",
              "    40% {\n",
              "      border-color: transparent;\n",
              "      border-right-color: var(--fill-color);\n",
              "      border-top-color: var(--fill-color);\n",
              "    }\n",
              "    60% {\n",
              "      border-color: transparent;\n",
              "      border-right-color: var(--fill-color);\n",
              "    }\n",
              "    80% {\n",
              "      border-color: transparent;\n",
              "      border-right-color: var(--fill-color);\n",
              "      border-bottom-color: var(--fill-color);\n",
              "    }\n",
              "    90% {\n",
              "      border-color: transparent;\n",
              "      border-bottom-color: var(--fill-color);\n",
              "    }\n",
              "  }\n",
              "</style>\n",
              "\n",
              "  <script>\n",
              "    async function quickchart(key) {\n",
              "      const quickchartButtonEl =\n",
              "        document.querySelector('#' + key + ' button');\n",
              "      quickchartButtonEl.disabled = true;  // To prevent multiple clicks.\n",
              "      quickchartButtonEl.classList.add('colab-df-spinner');\n",
              "      try {\n",
              "        const charts = await google.colab.kernel.invokeFunction(\n",
              "            'suggestCharts', [key], {});\n",
              "      } catch (error) {\n",
              "        console.error('Error during call to suggestCharts:', error);\n",
              "      }\n",
              "      quickchartButtonEl.classList.remove('colab-df-spinner');\n",
              "      quickchartButtonEl.classList.add('colab-df-quickchart-complete');\n",
              "    }\n",
              "    (() => {\n",
              "      let quickchartButtonEl =\n",
              "        document.querySelector('#df-d4f872b1-1422-4435-818e-01913c063322 button');\n",
              "      quickchartButtonEl.style.display =\n",
              "        google.colab.kernel.accessAllowed ? 'block' : 'none';\n",
              "    })();\n",
              "  </script>\n",
              "</div>\n",
              "\n",
              "  <div id=\"id_debd6ec1-50b5-4c7c-a8ec-a5c12e819f89\">\n",
              "    <style>\n",
              "      .colab-df-generate {\n",
              "        background-color: #E8F0FE;\n",
              "        border: none;\n",
              "        border-radius: 50%;\n",
              "        cursor: pointer;\n",
              "        display: none;\n",
              "        fill: #1967D2;\n",
              "        height: 32px;\n",
              "        padding: 0 0 0 0;\n",
              "        width: 32px;\n",
              "      }\n",
              "\n",
              "      .colab-df-generate:hover {\n",
              "        background-color: #E2EBFA;\n",
              "        box-shadow: 0px 1px 2px rgba(60, 64, 67, 0.3), 0px 1px 3px 1px rgba(60, 64, 67, 0.15);\n",
              "        fill: #174EA6;\n",
              "      }\n",
              "\n",
              "      [theme=dark] .colab-df-generate {\n",
              "        background-color: #3B4455;\n",
              "        fill: #D2E3FC;\n",
              "      }\n",
              "\n",
              "      [theme=dark] .colab-df-generate:hover {\n",
              "        background-color: #434B5C;\n",
              "        box-shadow: 0px 1px 3px 1px rgba(0, 0, 0, 0.15);\n",
              "        filter: drop-shadow(0px 1px 2px rgba(0, 0, 0, 0.3));\n",
              "        fill: #FFFFFF;\n",
              "      }\n",
              "    </style>\n",
              "    <button class=\"colab-df-generate\" onclick=\"generateWithVariable('X_scaled')\"\n",
              "            title=\"Generate code using this dataframe.\"\n",
              "            style=\"display:none;\">\n",
              "\n",
              "  <svg xmlns=\"http://www.w3.org/2000/svg\" height=\"24px\"viewBox=\"0 0 24 24\"\n",
              "       width=\"24px\">\n",
              "    <path d=\"M7,19H8.4L18.45,9,17,7.55,7,17.6ZM5,21V16.75L18.45,3.32a2,2,0,0,1,2.83,0l1.4,1.43a1.91,1.91,0,0,1,.58,1.4,1.91,1.91,0,0,1-.58,1.4L9.25,21ZM18.45,9,17,7.55Zm-12,3A5.31,5.31,0,0,0,4.9,8.1,5.31,5.31,0,0,0,1,6.5,5.31,5.31,0,0,0,4.9,4.9,5.31,5.31,0,0,0,6.5,1,5.31,5.31,0,0,0,8.1,4.9,5.31,5.31,0,0,0,12,6.5,5.46,5.46,0,0,0,6.5,12Z\"/>\n",
              "  </svg>\n",
              "    </button>\n",
              "    <script>\n",
              "      (() => {\n",
              "      const buttonEl =\n",
              "        document.querySelector('#id_debd6ec1-50b5-4c7c-a8ec-a5c12e819f89 button.colab-df-generate');\n",
              "      buttonEl.style.display =\n",
              "        google.colab.kernel.accessAllowed ? 'block' : 'none';\n",
              "\n",
              "      buttonEl.onclick = () => {\n",
              "        google.colab.notebook.generateWithVariable('X_scaled');\n",
              "      }\n",
              "      })();\n",
              "    </script>\n",
              "  </div>\n",
              "\n",
              "    </div>\n",
              "  </div>\n"
            ],
            "application/vnd.google.colaboratory.intrinsic+json": {
              "type": "dataframe",
              "variable_name": "X_scaled",
              "summary": "{\n  \"name\": \"X_scaled\",\n  \"rows\": 8872,\n  \"fields\": [\n    {\n      \"column\": \"Warehouse_block\",\n      \"properties\": {\n        \"dtype\": \"number\",\n        \"std\": 1.0000563618430771,\n        \"min\": -1.557794123559393,\n        \"max\": 1.1229835826221481,\n        \"num_unique_values\": 5,\n        \"samples\": [\n          -0.21740527046862243,\n          -1.557794123559393,\n          1.1229835826221481\n        ],\n        \"semantic_type\": \"\",\n        \"description\": \"\"\n      }\n    },\n    {\n      \"column\": \"Mode_of_Shipment\",\n      \"properties\": {\n        \"dtype\": \"number\",\n        \"std\": 1.000056361843077,\n        \"min\": -1.9973829351104961,\n        \"max\": 0.6374815954523352,\n        \"num_unique_values\": 3,\n        \"samples\": [\n          -0.6799506698290806,\n          -1.9973829351104961,\n          0.6374815954523352\n        ],\n        \"semantic_type\": \"\",\n        \"description\": \"\"\n      }\n    },\n    {\n      \"column\": \"Customer_care_calls\",\n      \"properties\": {\n        \"dtype\": \"number\",\n        \"std\": 1.0000563618430771,\n        \"min\": -1.8025286365166158,\n        \"max\": 2.563539416113999,\n        \"num_unique_values\": 6,\n        \"samples\": [\n          1.690325805587876,\n          -0.9293150259904929,\n          2.563539416113999\n        ],\n        \"semantic_type\": \"\",\n        \"description\": \"\"\n      }\n    },\n    {\n      \"column\": \"Product_importance\",\n      \"properties\": {\n        \"dtype\": \"number\",\n        \"std\": 1.0000563618430771,\n        \"min\": -2.1417240528714863,\n        \"max\": 1.0336395495810249,\n        \"num_unique_values\": 3,\n        \"samples\": [\n          1.0336395495810249,\n          -0.5540422516452307,\n          -2.1417240528714863\n        ],\n        \"semantic_type\": \"\",\n        \"description\": \"\"\n      }\n    },\n    {\n      \"column\": \"Weight_in_gms\",\n      \"properties\": {\n        \"dtype\": \"number\",\n        \"std\": 1.0000563618430771,\n        \"min\": -1.6571830914054504,\n        \"max\": 2.4212792427019347,\n        \"num_unique_values\": 3681,\n        \"samples\": [\n          0.431785421186137,\n          -1.5247535946971902,\n          0.6191395939485143\n        ],\n        \"semantic_type\": \"\",\n        \"description\": \"\"\n      }\n    }\n  ]\n}"
            }
          },
          "metadata": {},
          "execution_count": 49
        }
      ]
    },
    {
      "cell_type": "code",
      "source": [
        "# pca = PCA()\n",
        "# pca_result = pca.fit_transform(X_scaled)"
      ],
      "metadata": {
        "id": "c9QQtti5o8qa"
      },
      "execution_count": 50,
      "outputs": []
    },
    {
      "cell_type": "code",
      "source": [
        "# pca_result"
      ],
      "metadata": {
        "id": "QiNHv5gErcZ4"
      },
      "execution_count": 51,
      "outputs": []
    },
    {
      "cell_type": "code",
      "source": [
        "from sklearn.model_selection import train_test_split"
      ],
      "metadata": {
        "id": "hrIbEeP5revT"
      },
      "execution_count": 52,
      "outputs": []
    },
    {
      "cell_type": "code",
      "source": [
        "x_train,x_test,y_train,y_test=train_test_split(X_scaled, y_res, test_size=0.2, random_state=0)"
      ],
      "metadata": {
        "id": "QAGEe2SXYSXi"
      },
      "execution_count": 53,
      "outputs": []
    },
    {
      "cell_type": "code",
      "source": [
        "x_train.size"
      ],
      "metadata": {
        "colab": {
          "base_uri": "https://localhost:8080/"
        },
        "id": "Bi3AnzLXYy_2",
        "outputId": "b4234f6b-c2f0-4c88-8121-3502b7f081ca"
      },
      "execution_count": 54,
      "outputs": [
        {
          "output_type": "execute_result",
          "data": {
            "text/plain": [
              "35485"
            ]
          },
          "metadata": {},
          "execution_count": 54
        }
      ]
    },
    {
      "cell_type": "code",
      "source": [
        "x_test.size"
      ],
      "metadata": {
        "colab": {
          "base_uri": "https://localhost:8080/"
        },
        "id": "4wC0Is9vY6-h",
        "outputId": "f847c63f-bc0d-4920-f5c3-cef76fcc9ffc"
      },
      "execution_count": 55,
      "outputs": [
        {
          "output_type": "execute_result",
          "data": {
            "text/plain": [
              "8875"
            ]
          },
          "metadata": {},
          "execution_count": 55
        }
      ]
    },
    {
      "cell_type": "code",
      "source": [
        "y_train.head()"
      ],
      "metadata": {
        "colab": {
          "base_uri": "https://localhost:8080/"
        },
        "id": "SkigdzVxjCRO",
        "outputId": "f0102b1e-93e9-4fa4-d211-e1762a518123"
      },
      "execution_count": 56,
      "outputs": [
        {
          "output_type": "execute_result",
          "data": {
            "text/plain": [
              "214     0\n",
              "2293    0\n",
              "8606    1\n",
              "7685    1\n",
              "70      0\n",
              "Name: Reached.on.Time_Y.N, dtype: int64"
            ]
          },
          "metadata": {},
          "execution_count": 56
        }
      ]
    },
    {
      "cell_type": "markdown",
      "source": [
        "## MODEL TRAINING"
      ],
      "metadata": {
        "id": "QzJ79XJchsVl"
      }
    },
    {
      "cell_type": "code",
      "source": [
        "#MODELS TO TEST\n",
        "# Logistic Regression\n",
        "# KNN\n",
        "# SVM\n",
        "# Decision Tree"
      ],
      "metadata": {
        "id": "UdSqcywYY9H_"
      },
      "execution_count": 57,
      "outputs": []
    },
    {
      "cell_type": "code",
      "source": [
        "#pip install xgboost"
      ],
      "metadata": {
        "id": "WYO9Ee-_80Oj"
      },
      "execution_count": 58,
      "outputs": []
    },
    {
      "cell_type": "code",
      "source": [
        "#INITIALISING MULTIPLE MODELS\n",
        "\n",
        "from sklearn.linear_model import LogisticRegression\n",
        "lr=LogisticRegression()\n",
        "\n",
        "from sklearn.neighbors import KNeighborsClassifier\n",
        "knn=KNeighborsClassifier(n_neighbors=7)\n",
        "\n",
        "from sklearn.svm import SVC\n",
        "model = SVC(kernel=\"linear\")\n",
        "\n",
        "from sklearn.naive_bayes import GaussianNB\n",
        "nb = GaussianNB()\n",
        "\n",
        "from sklearn.ensemble import RandomForestClassifier\n",
        "rf = RandomForestClassifier(n_estimators=7, criterion='entropy',random_state=0)\n",
        "\n",
        "import xgboost as xgb\n",
        "xg = xgb.XGBClassifier()"
      ],
      "metadata": {
        "id": "MEK3-56SiRGm"
      },
      "execution_count": 59,
      "outputs": []
    },
    {
      "cell_type": "code",
      "source": [
        "#Fitting x_train and y_train\n",
        "\n",
        "lr.fit(x_train, y_train)\n",
        "\n",
        "knn.fit(x_train, y_train)\n",
        "\n",
        "model.fit(x_train, y_train)\n",
        "\n",
        "nb.fit(x_train, y_train)\n",
        "\n",
        "rf.fit(x_train, y_train)\n",
        "\n",
        "xg.fit(x_train, y_train)"
      ],
      "metadata": {
        "id": "XZxB_h7tkXPh",
        "colab": {
          "base_uri": "https://localhost:8080/",
          "height": 248
        },
        "outputId": "7b70f61e-9d8f-4db3-ecfe-ea1f9a977328"
      },
      "execution_count": 60,
      "outputs": [
        {
          "output_type": "execute_result",
          "data": {
            "text/plain": [
              "XGBClassifier(base_score=None, booster=None, callbacks=None,\n",
              "              colsample_bylevel=None, colsample_bynode=None,\n",
              "              colsample_bytree=None, device=None, early_stopping_rounds=None,\n",
              "              enable_categorical=False, eval_metric=None, feature_types=None,\n",
              "              gamma=None, grow_policy=None, importance_type=None,\n",
              "              interaction_constraints=None, learning_rate=None, max_bin=None,\n",
              "              max_cat_threshold=None, max_cat_to_onehot=None,\n",
              "              max_delta_step=None, max_depth=None, max_leaves=None,\n",
              "              min_child_weight=None, missing=nan, monotone_constraints=None,\n",
              "              multi_strategy=None, n_estimators=None, n_jobs=None,\n",
              "              num_parallel_tree=None, random_state=None, ...)"
            ],
            "text/html": [
              "<style>#sk-container-id-1 {color: black;background-color: white;}#sk-container-id-1 pre{padding: 0;}#sk-container-id-1 div.sk-toggleable {background-color: white;}#sk-container-id-1 label.sk-toggleable__label {cursor: pointer;display: block;width: 100%;margin-bottom: 0;padding: 0.3em;box-sizing: border-box;text-align: center;}#sk-container-id-1 label.sk-toggleable__label-arrow:before {content: \"▸\";float: left;margin-right: 0.25em;color: #696969;}#sk-container-id-1 label.sk-toggleable__label-arrow:hover:before {color: black;}#sk-container-id-1 div.sk-estimator:hover label.sk-toggleable__label-arrow:before {color: black;}#sk-container-id-1 div.sk-toggleable__content {max-height: 0;max-width: 0;overflow: hidden;text-align: left;background-color: #f0f8ff;}#sk-container-id-1 div.sk-toggleable__content pre {margin: 0.2em;color: black;border-radius: 0.25em;background-color: #f0f8ff;}#sk-container-id-1 input.sk-toggleable__control:checked~div.sk-toggleable__content {max-height: 200px;max-width: 100%;overflow: auto;}#sk-container-id-1 input.sk-toggleable__control:checked~label.sk-toggleable__label-arrow:before {content: \"▾\";}#sk-container-id-1 div.sk-estimator input.sk-toggleable__control:checked~label.sk-toggleable__label {background-color: #d4ebff;}#sk-container-id-1 div.sk-label input.sk-toggleable__control:checked~label.sk-toggleable__label {background-color: #d4ebff;}#sk-container-id-1 input.sk-hidden--visually {border: 0;clip: rect(1px 1px 1px 1px);clip: rect(1px, 1px, 1px, 1px);height: 1px;margin: -1px;overflow: hidden;padding: 0;position: absolute;width: 1px;}#sk-container-id-1 div.sk-estimator {font-family: monospace;background-color: #f0f8ff;border: 1px dotted black;border-radius: 0.25em;box-sizing: border-box;margin-bottom: 0.5em;}#sk-container-id-1 div.sk-estimator:hover {background-color: #d4ebff;}#sk-container-id-1 div.sk-parallel-item::after {content: \"\";width: 100%;border-bottom: 1px solid gray;flex-grow: 1;}#sk-container-id-1 div.sk-label:hover label.sk-toggleable__label {background-color: #d4ebff;}#sk-container-id-1 div.sk-serial::before {content: \"\";position: absolute;border-left: 1px solid gray;box-sizing: border-box;top: 0;bottom: 0;left: 50%;z-index: 0;}#sk-container-id-1 div.sk-serial {display: flex;flex-direction: column;align-items: center;background-color: white;padding-right: 0.2em;padding-left: 0.2em;position: relative;}#sk-container-id-1 div.sk-item {position: relative;z-index: 1;}#sk-container-id-1 div.sk-parallel {display: flex;align-items: stretch;justify-content: center;background-color: white;position: relative;}#sk-container-id-1 div.sk-item::before, #sk-container-id-1 div.sk-parallel-item::before {content: \"\";position: absolute;border-left: 1px solid gray;box-sizing: border-box;top: 0;bottom: 0;left: 50%;z-index: -1;}#sk-container-id-1 div.sk-parallel-item {display: flex;flex-direction: column;z-index: 1;position: relative;background-color: white;}#sk-container-id-1 div.sk-parallel-item:first-child::after {align-self: flex-end;width: 50%;}#sk-container-id-1 div.sk-parallel-item:last-child::after {align-self: flex-start;width: 50%;}#sk-container-id-1 div.sk-parallel-item:only-child::after {width: 0;}#sk-container-id-1 div.sk-dashed-wrapped {border: 1px dashed gray;margin: 0 0.4em 0.5em 0.4em;box-sizing: border-box;padding-bottom: 0.4em;background-color: white;}#sk-container-id-1 div.sk-label label {font-family: monospace;font-weight: bold;display: inline-block;line-height: 1.2em;}#sk-container-id-1 div.sk-label-container {text-align: center;}#sk-container-id-1 div.sk-container {/* jupyter's `normalize.less` sets `[hidden] { display: none; }` but bootstrap.min.css set `[hidden] { display: none !important; }` so we also need the `!important` here to be able to override the default hidden behavior on the sphinx rendered scikit-learn.org. See: https://github.com/scikit-learn/scikit-learn/issues/21755 */display: inline-block !important;position: relative;}#sk-container-id-1 div.sk-text-repr-fallback {display: none;}</style><div id=\"sk-container-id-1\" class=\"sk-top-container\"><div class=\"sk-text-repr-fallback\"><pre>XGBClassifier(base_score=None, booster=None, callbacks=None,\n",
              "              colsample_bylevel=None, colsample_bynode=None,\n",
              "              colsample_bytree=None, device=None, early_stopping_rounds=None,\n",
              "              enable_categorical=False, eval_metric=None, feature_types=None,\n",
              "              gamma=None, grow_policy=None, importance_type=None,\n",
              "              interaction_constraints=None, learning_rate=None, max_bin=None,\n",
              "              max_cat_threshold=None, max_cat_to_onehot=None,\n",
              "              max_delta_step=None, max_depth=None, max_leaves=None,\n",
              "              min_child_weight=None, missing=nan, monotone_constraints=None,\n",
              "              multi_strategy=None, n_estimators=None, n_jobs=None,\n",
              "              num_parallel_tree=None, random_state=None, ...)</pre><b>In a Jupyter environment, please rerun this cell to show the HTML representation or trust the notebook. <br />On GitHub, the HTML representation is unable to render, please try loading this page with nbviewer.org.</b></div><div class=\"sk-container\" hidden><div class=\"sk-item\"><div class=\"sk-estimator sk-toggleable\"><input class=\"sk-toggleable__control sk-hidden--visually\" id=\"sk-estimator-id-1\" type=\"checkbox\" checked><label for=\"sk-estimator-id-1\" class=\"sk-toggleable__label sk-toggleable__label-arrow\">XGBClassifier</label><div class=\"sk-toggleable__content\"><pre>XGBClassifier(base_score=None, booster=None, callbacks=None,\n",
              "              colsample_bylevel=None, colsample_bynode=None,\n",
              "              colsample_bytree=None, device=None, early_stopping_rounds=None,\n",
              "              enable_categorical=False, eval_metric=None, feature_types=None,\n",
              "              gamma=None, grow_policy=None, importance_type=None,\n",
              "              interaction_constraints=None, learning_rate=None, max_bin=None,\n",
              "              max_cat_threshold=None, max_cat_to_onehot=None,\n",
              "              max_delta_step=None, max_depth=None, max_leaves=None,\n",
              "              min_child_weight=None, missing=nan, monotone_constraints=None,\n",
              "              multi_strategy=None, n_estimators=None, n_jobs=None,\n",
              "              num_parallel_tree=None, random_state=None, ...)</pre></div></div></div></div></div>"
            ]
          },
          "metadata": {},
          "execution_count": 60
        }
      ]
    },
    {
      "cell_type": "code",
      "source": [
        "#predictions\n",
        "\n",
        "pred_lr = lr.predict(x_test)\n",
        "\n",
        "pred_knn = knn.predict(x_test)\n",
        "\n",
        "pred_model = model.predict(x_test)\n",
        "\n",
        "pred_nb = nb.predict(x_test)\n",
        "\n",
        "pred_rf = rf.predict(x_test)\n",
        "\n",
        "pred_xg = xg.predict(x_test)"
      ],
      "metadata": {
        "id": "jexToMWoqUb0"
      },
      "execution_count": 61,
      "outputs": []
    },
    {
      "cell_type": "code",
      "source": [
        "from sklearn.metrics import accuracy_score,confusion_matrix,classification_report"
      ],
      "metadata": {
        "id": "sn5w8eIkqzWf"
      },
      "execution_count": 62,
      "outputs": []
    },
    {
      "cell_type": "code",
      "source": [
        "cr_lr = classification_report(y_test, pred_lr)\n",
        "cr_knn = classification_report(y_test, pred_knn)\n",
        "cr_svc = classification_report(y_test, pred_model)\n",
        "cr_nb = classification_report(y_test, pred_nb)\n",
        "cr_rf = classification_report(y_test, pred_rf)\n",
        "cr_xg = classification_report(y_test, pred_xg)"
      ],
      "metadata": {
        "id": "Gts9f_Ivr4aa"
      },
      "execution_count": 63,
      "outputs": []
    },
    {
      "cell_type": "code",
      "source": [
        "as_lr = accuracy_score(y_test, pred_lr)\n",
        "as_knn = accuracy_score(y_test, pred_knn)\n",
        "as_svc = accuracy_score(y_test, pred_model)\n",
        "as_nb = accuracy_score(y_test, pred_nb)\n",
        "as_rf = accuracy_score(y_test, pred_rf)\n",
        "as_xg = accuracy_score(y_test, pred_xg)"
      ],
      "metadata": {
        "id": "-P8dZP38sRMB"
      },
      "execution_count": 64,
      "outputs": []
    },
    {
      "cell_type": "code",
      "source": [
        "cm_lr = confusion_matrix(y_test, pred_lr)\n",
        "cm_knn = confusion_matrix(y_test, pred_knn)\n",
        "cm_svc = confusion_matrix(y_test, pred_model)\n",
        "cm_nb = confusion_matrix(y_test, pred_nb)\n",
        "cm_rf = confusion_matrix(y_test, pred_rf)\n",
        "cm_xg = confusion_matrix(y_test, pred_xg)"
      ],
      "metadata": {
        "id": "rxZfHYsnskRQ"
      },
      "execution_count": 65,
      "outputs": []
    },
    {
      "cell_type": "code",
      "source": [
        "from prettytable import PrettyTable\n",
        "\n",
        "# Specify the Column Names while initializing the Table\n",
        "myTable = PrettyTable([\"Metrics\", \"Logistic Regression\", \"KNN\", \"SVC\", \"Naive Bayes\", \"Random Forest\", \"XGBoost\"])\n",
        "\n",
        "# Add rows\n",
        "myTable.add_row([\"Classification Report\", cr_lr, cr_knn, cr_svc, cr_nb, cr_rf, cr_xg])\n",
        "myTable.add_row([\"Accuracy Score\", as_lr, as_knn, as_svc, as_nb, as_rf, as_xg])\n",
        "myTable.add_row([\"Confusion Matrix\", cm_lr, cm_knn, cm_svc, cm_nb, cm_rf, cm_xg])\n",
        "print(myTable)"
      ],
      "metadata": {
        "colab": {
          "base_uri": "https://localhost:8080/"
        },
        "id": "GRrs0hH7uAD5",
        "outputId": "c720dc17-2eb3-464c-81d0-6b4a2134d169"
      },
      "execution_count": 66,
      "outputs": [
        {
          "output_type": "stream",
          "name": "stdout",
          "text": [
            "+-----------------------+-------------------------------------------------------+-------------------------------------------------------+-------------------------------------------------------+-------------------------------------------------------+-------------------------------------------------------+-------------------------------------------------------+\n",
            "|        Metrics        |                  Logistic Regression                  |                          KNN                          |                          SVC                          |                      Naive Bayes                      |                     Random Forest                     |                        XGBoost                        |\n",
            "+-----------------------+-------------------------------------------------------+-------------------------------------------------------+-------------------------------------------------------+-------------------------------------------------------+-------------------------------------------------------+-------------------------------------------------------+\n",
            "| Classification Report |               precision    recall  f1-score   support |               precision    recall  f1-score   support |               precision    recall  f1-score   support |               precision    recall  f1-score   support |               precision    recall  f1-score   support |               precision    recall  f1-score   support |\n",
            "|                       |                                                       |                                                       |                                                       |                                                       |                                                       |                                                       |\n",
            "|                       |            0       0.63      0.67      0.65       872 |            0       0.62      0.72      0.67       872 |            0       0.64      0.75      0.69       872 |            0       0.65      0.73      0.68       872 |            0       0.63      0.66      0.65       872 |            0       0.64      0.79      0.71       872 |\n",
            "|                       |            1       0.66      0.63      0.64       903 |            1       0.68      0.58      0.63       903 |            1       0.71      0.59      0.64       903 |            1       0.70      0.61      0.65       903 |            1       0.66      0.63      0.64       903 |            1       0.74      0.58      0.65       903 |\n",
            "|                       |                                                       |                                                       |                                                       |                                                       |                                                       |                                                       |\n",
            "|                       |     accuracy                           0.65      1775 |     accuracy                           0.65      1775 |     accuracy                           0.67      1775 |     accuracy                           0.67      1775 |     accuracy                           0.64      1775 |     accuracy                           0.68      1775 |\n",
            "|                       |    macro avg       0.65      0.65      0.65      1775 |    macro avg       0.65      0.65      0.65      1775 |    macro avg       0.67      0.67      0.67      1775 |    macro avg       0.67      0.67      0.67      1775 |    macro avg       0.64      0.64      0.64      1775 |    macro avg       0.69      0.68      0.68      1775 |\n",
            "|                       | weighted avg       0.65      0.65      0.65      1775 | weighted avg       0.65      0.65      0.65      1775 | weighted avg       0.67      0.67      0.67      1775 | weighted avg       0.67      0.67      0.67      1775 | weighted avg       0.64      0.64      0.64      1775 | weighted avg       0.69      0.68      0.68      1775 |\n",
            "|                       |                                                       |                                                       |                                                       |                                                       |                                                       |                                                       |\n",
            "|     Accuracy Score    |                   0.6467605633802817                  |                   0.6473239436619719                  |                   0.6676056338028169                  |                   0.6698591549295775                  |                   0.643943661971831                   |                   0.6794366197183098                  |\n",
            "|    Confusion Matrix   |                       [[583 289]                      |                       [[627 245]                      |                       [[654 218]                      |                       [[636 236]                      |                       [[575 297]                      |                       [[686 186]                      |\n",
            "|                       |                       [338 565]]                      |                       [381 522]]                      |                       [372 531]]                      |                       [350 553]]                      |                       [335 568]]                      |                       [383 520]]                      |\n",
            "+-----------------------+-------------------------------------------------------+-------------------------------------------------------+-------------------------------------------------------+-------------------------------------------------------+-------------------------------------------------------+-------------------------------------------------------+\n"
          ]
        }
      ]
    },
    {
      "cell_type": "markdown",
      "source": [],
      "metadata": {
        "id": "Pd408fPd5Sxe"
      }
    },
    {
      "cell_type": "code",
      "source": [
        "# pip install xgboost h5py"
      ],
      "metadata": {
        "id": "S6KDaL0etqEv"
      },
      "execution_count": 67,
      "outputs": []
    },
    {
      "cell_type": "code",
      "source": [
        "# import h5py\n",
        "# import pickle"
      ],
      "metadata": {
        "id": "gAguesH0pdou"
      },
      "execution_count": 68,
      "outputs": []
    },
    {
      "cell_type": "code",
      "source": [
        "# with h5py.File('xgboost_model.h5', 'w') as f:\n",
        "#     # Pickle the model to a binary string\n",
        "#     model_binary = pickle.dumps(xg)\n",
        "#     # Save the binary string as a dataset in the HDF5 file\n",
        "#     f.create_dataset('xgboost_model', data=model_binary)"
      ],
      "metadata": {
        "id": "6Obn8feGpqeZ"
      },
      "execution_count": 69,
      "outputs": []
    },
    {
      "cell_type": "code",
      "source": [
        "# xg.save_model('xgboost_model.model')"
      ],
      "metadata": {
        "id": "zP0I5SxUqMUV"
      },
      "execution_count": 124,
      "outputs": []
    },
    {
      "cell_type": "code",
      "source": [],
      "metadata": {
        "id": "3PU70Fufpu2i"
      },
      "execution_count": 70,
      "outputs": []
    },
    {
      "cell_type": "code",
      "source": [
        "print(type(x_test))"
      ],
      "metadata": {
        "colab": {
          "base_uri": "https://localhost:8080/"
        },
        "id": "GEo5nOchtHu-",
        "outputId": "0eeffc02-e909-40a5-e8c5-7fe289d68ee0"
      },
      "execution_count": 71,
      "outputs": [
        {
          "output_type": "stream",
          "name": "stdout",
          "text": [
            "<class 'pandas.core.frame.DataFrame'>\n"
          ]
        }
      ]
    },
    {
      "cell_type": "markdown",
      "source": [
        "ARTIFICIAL NEURAL NETWORK"
      ],
      "metadata": {
        "id": "djst2Jb4MBFJ"
      }
    },
    {
      "cell_type": "code",
      "source": [
        "x_arr = np.array(X_scaled)\n",
        "y_arr = np.array(y_res)\n",
        "\n",
        "print(x_arr)\n",
        "print(y_arr)"
      ],
      "metadata": {
        "id": "tBVs4eNptJf5",
        "colab": {
          "base_uri": "https://localhost:8080/"
        },
        "outputId": "58202395-07d7-40db-e5b0-9531d4cf69f8"
      },
      "execution_count": 72,
      "outputs": [
        {
          "output_type": "stream",
          "name": "stdout",
          "text": [
            "[[-0.8875997  -0.67995067  1.69032581  1.03363955  0.80222185]\n",
            " [-0.21740527 -0.67995067 -0.92931503 -0.55404225  1.36672546]\n",
            " [ 1.12298358 -0.67995067 -0.05610142 -2.14172405  0.32254634]\n",
            " ...\n",
            " [ 1.12298358 -1.99738294 -0.05610142  1.03363955  0.25419564]\n",
            " [-0.21740527  0.6374816  -0.92931503 -0.55404225 -0.90288421]\n",
            " [ 1.12298358 -1.99738294  0.8171122   1.03363955 -1.17628704]]\n",
            "[0 0 0 ... 1 1 1]\n"
          ]
        }
      ]
    },
    {
      "cell_type": "code",
      "source": [
        "x_train_ANN,x_test_ANN,y_train_ANN,y_test_ANN=train_test_split(x_arr, y_arr, test_size=0.2, random_state=0)"
      ],
      "metadata": {
        "id": "_x1kDVopMrCX"
      },
      "execution_count": 73,
      "outputs": []
    },
    {
      "cell_type": "code",
      "source": [
        "from tensorflow import keras\n",
        "from keras.models import Sequential\n",
        "from keras.layers import Dense"
      ],
      "metadata": {
        "id": "VqbZOGoqNAlt"
      },
      "execution_count": 74,
      "outputs": []
    },
    {
      "cell_type": "code",
      "source": [
        "model = Sequential()"
      ],
      "metadata": {
        "id": "uqVShMSHNSMJ"
      },
      "execution_count": 75,
      "outputs": []
    },
    {
      "cell_type": "code",
      "source": [
        "x_train_ANN.shape"
      ],
      "metadata": {
        "colab": {
          "base_uri": "https://localhost:8080/"
        },
        "id": "i0Rc_4RMNWGI",
        "outputId": "43cb71e4-a360-4ba8-b36e-462152be5619"
      },
      "execution_count": 76,
      "outputs": [
        {
          "output_type": "execute_result",
          "data": {
            "text/plain": [
              "(7097, 5)"
            ]
          },
          "metadata": {},
          "execution_count": 76
        }
      ]
    },
    {
      "cell_type": "code",
      "source": [
        "model.add(Dense(units = 16,kernel_initializer = 'random_uniform',activation = 'relu')) #input layer"
      ],
      "metadata": {
        "id": "yU1Ey-u5OJi_"
      },
      "execution_count": 77,
      "outputs": []
    },
    {
      "cell_type": "code",
      "source": [
        "model.add(Dense(units =16,kernel_initializer = 'random_uniform',activation = 'relu')) # 1st hidden layer"
      ],
      "metadata": {
        "id": "bDjYTl9tOTAe"
      },
      "execution_count": 78,
      "outputs": []
    },
    {
      "cell_type": "code",
      "source": [
        "model.add(Dense(units =8,kernel_initializer = 'random_uniform',activation = 'relu')) # 1st hidden layer"
      ],
      "metadata": {
        "id": "N1bN72ZtW4a7"
      },
      "execution_count": 79,
      "outputs": []
    },
    {
      "cell_type": "code",
      "source": [
        "model.add(Dense(units = 1 ,kernel_initializer = 'random_uniform' ,activation = 'sigmoid')) #Output Layer"
      ],
      "metadata": {
        "id": "L-LxxSKWOWMa"
      },
      "execution_count": 80,
      "outputs": []
    },
    {
      "cell_type": "code",
      "source": [
        "model.compile (optimizer = 'adam',loss = 'binary_crossentropy',metrics = ['accuracy'])"
      ],
      "metadata": {
        "id": "yyyrVRW1NaRj"
      },
      "execution_count": 81,
      "outputs": []
    },
    {
      "cell_type": "code",
      "source": [
        "model.fit(x_train_ANN, y_train_ANN, batch_size=32, epochs = 250)"
      ],
      "metadata": {
        "colab": {
          "base_uri": "https://localhost:8080/"
        },
        "id": "N9ryrHLiXL0z",
        "outputId": "60dfe017-3625-4418-b8c9-a8fc74c6b588"
      },
      "execution_count": 82,
      "outputs": [
        {
          "output_type": "stream",
          "name": "stdout",
          "text": [
            "Epoch 1/250\n",
            "222/222 [==============================] - 5s 3ms/step - loss: 0.6706 - accuracy: 0.6108\n",
            "Epoch 2/250\n",
            "222/222 [==============================] - 1s 4ms/step - loss: 0.6149 - accuracy: 0.6677\n",
            "Epoch 3/250\n",
            "222/222 [==============================] - 1s 3ms/step - loss: 0.6051 - accuracy: 0.6786\n",
            "Epoch 4/250\n",
            "222/222 [==============================] - 1s 3ms/step - loss: 0.5990 - accuracy: 0.6775\n",
            "Epoch 5/250\n",
            "222/222 [==============================] - 1s 3ms/step - loss: 0.5937 - accuracy: 0.6811\n",
            "Epoch 6/250\n",
            "222/222 [==============================] - 1s 3ms/step - loss: 0.5874 - accuracy: 0.6871\n",
            "Epoch 7/250\n",
            "222/222 [==============================] - 1s 3ms/step - loss: 0.5813 - accuracy: 0.6954\n",
            "Epoch 8/250\n",
            "222/222 [==============================] - 1s 3ms/step - loss: 0.5748 - accuracy: 0.6965\n",
            "Epoch 9/250\n",
            "222/222 [==============================] - 1s 3ms/step - loss: 0.5698 - accuracy: 0.6983\n",
            "Epoch 10/250\n",
            "222/222 [==============================] - 1s 3ms/step - loss: 0.5646 - accuracy: 0.6995\n",
            "Epoch 11/250\n",
            "222/222 [==============================] - 1s 3ms/step - loss: 0.5612 - accuracy: 0.7044\n",
            "Epoch 12/250\n",
            "222/222 [==============================] - 1s 3ms/step - loss: 0.5572 - accuracy: 0.7009\n",
            "Epoch 13/250\n",
            "222/222 [==============================] - 1s 4ms/step - loss: 0.5562 - accuracy: 0.7021\n",
            "Epoch 14/250\n",
            "222/222 [==============================] - 1s 5ms/step - loss: 0.5550 - accuracy: 0.7034\n",
            "Epoch 15/250\n",
            "222/222 [==============================] - 1s 5ms/step - loss: 0.5544 - accuracy: 0.7002\n",
            "Epoch 16/250\n",
            "222/222 [==============================] - 1s 4ms/step - loss: 0.5531 - accuracy: 0.7031\n",
            "Epoch 17/250\n",
            "222/222 [==============================] - 1s 3ms/step - loss: 0.5529 - accuracy: 0.7016\n",
            "Epoch 18/250\n",
            "222/222 [==============================] - 1s 3ms/step - loss: 0.5519 - accuracy: 0.7047\n",
            "Epoch 19/250\n",
            "222/222 [==============================] - 1s 3ms/step - loss: 0.5507 - accuracy: 0.7059\n",
            "Epoch 20/250\n",
            "222/222 [==============================] - 1s 3ms/step - loss: 0.5501 - accuracy: 0.7044\n",
            "Epoch 21/250\n",
            "222/222 [==============================] - 1s 3ms/step - loss: 0.5493 - accuracy: 0.7058\n",
            "Epoch 22/250\n",
            "222/222 [==============================] - 1s 3ms/step - loss: 0.5486 - accuracy: 0.7068\n",
            "Epoch 23/250\n",
            "222/222 [==============================] - 1s 3ms/step - loss: 0.5491 - accuracy: 0.7064\n",
            "Epoch 24/250\n",
            "222/222 [==============================] - 1s 3ms/step - loss: 0.5482 - accuracy: 0.7064\n",
            "Epoch 25/250\n",
            "222/222 [==============================] - 1s 3ms/step - loss: 0.5485 - accuracy: 0.7064\n",
            "Epoch 26/250\n",
            "222/222 [==============================] - 1s 3ms/step - loss: 0.5487 - accuracy: 0.7054\n",
            "Epoch 27/250\n",
            "222/222 [==============================] - 1s 3ms/step - loss: 0.5479 - accuracy: 0.7058\n",
            "Epoch 28/250\n",
            "222/222 [==============================] - 1s 3ms/step - loss: 0.5474 - accuracy: 0.7055\n",
            "Epoch 29/250\n",
            "222/222 [==============================] - 1s 5ms/step - loss: 0.5460 - accuracy: 0.7086\n",
            "Epoch 30/250\n",
            "222/222 [==============================] - 1s 5ms/step - loss: 0.5467 - accuracy: 0.7072\n",
            "Epoch 31/250\n",
            "222/222 [==============================] - 1s 5ms/step - loss: 0.5464 - accuracy: 0.7061\n",
            "Epoch 32/250\n",
            "222/222 [==============================] - 1s 3ms/step - loss: 0.5467 - accuracy: 0.7065\n",
            "Epoch 33/250\n",
            "222/222 [==============================] - 1s 3ms/step - loss: 0.5463 - accuracy: 0.7068\n",
            "Epoch 34/250\n",
            "222/222 [==============================] - 1s 3ms/step - loss: 0.5461 - accuracy: 0.7080\n",
            "Epoch 35/250\n",
            "222/222 [==============================] - 1s 3ms/step - loss: 0.5458 - accuracy: 0.7076\n",
            "Epoch 36/250\n",
            "222/222 [==============================] - 1s 4ms/step - loss: 0.5461 - accuracy: 0.7075\n",
            "Epoch 37/250\n",
            "222/222 [==============================] - 1s 6ms/step - loss: 0.5452 - accuracy: 0.7064\n",
            "Epoch 38/250\n",
            "222/222 [==============================] - 1s 6ms/step - loss: 0.5459 - accuracy: 0.7058\n",
            "Epoch 39/250\n",
            "222/222 [==============================] - 1s 3ms/step - loss: 0.5446 - accuracy: 0.7073\n",
            "Epoch 40/250\n",
            "222/222 [==============================] - 1s 3ms/step - loss: 0.5448 - accuracy: 0.7073\n",
            "Epoch 41/250\n",
            "222/222 [==============================] - 1s 4ms/step - loss: 0.5449 - accuracy: 0.7078\n",
            "Epoch 42/250\n",
            "222/222 [==============================] - 1s 3ms/step - loss: 0.5438 - accuracy: 0.7086\n",
            "Epoch 43/250\n",
            "222/222 [==============================] - 1s 5ms/step - loss: 0.5443 - accuracy: 0.7099\n",
            "Epoch 44/250\n",
            "222/222 [==============================] - 1s 5ms/step - loss: 0.5442 - accuracy: 0.7073\n",
            "Epoch 45/250\n",
            "222/222 [==============================] - 1s 5ms/step - loss: 0.5448 - accuracy: 0.7076\n",
            "Epoch 46/250\n",
            "222/222 [==============================] - 1s 3ms/step - loss: 0.5446 - accuracy: 0.7071\n",
            "Epoch 47/250\n",
            "222/222 [==============================] - 1s 3ms/step - loss: 0.5438 - accuracy: 0.7083\n",
            "Epoch 48/250\n",
            "222/222 [==============================] - 1s 3ms/step - loss: 0.5435 - accuracy: 0.7093\n",
            "Epoch 49/250\n",
            "222/222 [==============================] - 1s 3ms/step - loss: 0.5440 - accuracy: 0.7089\n",
            "Epoch 50/250\n",
            "222/222 [==============================] - 1s 3ms/step - loss: 0.5437 - accuracy: 0.7095\n",
            "Epoch 51/250\n",
            "222/222 [==============================] - 1s 4ms/step - loss: 0.5436 - accuracy: 0.7089\n",
            "Epoch 52/250\n",
            "222/222 [==============================] - 1s 4ms/step - loss: 0.5438 - accuracy: 0.7076\n",
            "Epoch 53/250\n",
            "222/222 [==============================] - 1s 3ms/step - loss: 0.5429 - accuracy: 0.7090\n",
            "Epoch 54/250\n",
            "222/222 [==============================] - 1s 3ms/step - loss: 0.5436 - accuracy: 0.7082\n",
            "Epoch 55/250\n",
            "222/222 [==============================] - 1s 3ms/step - loss: 0.5437 - accuracy: 0.7073\n",
            "Epoch 56/250\n",
            "222/222 [==============================] - 1s 3ms/step - loss: 0.5425 - accuracy: 0.7093\n",
            "Epoch 57/250\n",
            "222/222 [==============================] - 1s 3ms/step - loss: 0.5432 - accuracy: 0.7093\n",
            "Epoch 58/250\n",
            "222/222 [==============================] - 1s 4ms/step - loss: 0.5427 - accuracy: 0.7097\n",
            "Epoch 59/250\n",
            "222/222 [==============================] - 1s 5ms/step - loss: 0.5430 - accuracy: 0.7071\n",
            "Epoch 60/250\n",
            "222/222 [==============================] - 1s 5ms/step - loss: 0.5438 - accuracy: 0.7080\n",
            "Epoch 61/250\n",
            "222/222 [==============================] - 1s 4ms/step - loss: 0.5433 - accuracy: 0.7066\n",
            "Epoch 62/250\n",
            "222/222 [==============================] - 1s 3ms/step - loss: 0.5423 - accuracy: 0.7083\n",
            "Epoch 63/250\n",
            "222/222 [==============================] - 1s 3ms/step - loss: 0.5425 - accuracy: 0.7086\n",
            "Epoch 64/250\n",
            "222/222 [==============================] - 1s 3ms/step - loss: 0.5432 - accuracy: 0.7078\n",
            "Epoch 65/250\n",
            "222/222 [==============================] - 1s 3ms/step - loss: 0.5424 - accuracy: 0.7069\n",
            "Epoch 66/250\n",
            "222/222 [==============================] - 1s 3ms/step - loss: 0.5420 - accuracy: 0.7086\n",
            "Epoch 67/250\n",
            "222/222 [==============================] - 1s 3ms/step - loss: 0.5424 - accuracy: 0.7090\n",
            "Epoch 68/250\n",
            "222/222 [==============================] - 1s 3ms/step - loss: 0.5420 - accuracy: 0.7093\n",
            "Epoch 69/250\n",
            "222/222 [==============================] - 1s 3ms/step - loss: 0.5422 - accuracy: 0.7090\n",
            "Epoch 70/250\n",
            "222/222 [==============================] - 1s 3ms/step - loss: 0.5424 - accuracy: 0.7099\n",
            "Epoch 71/250\n",
            "222/222 [==============================] - 1s 3ms/step - loss: 0.5425 - accuracy: 0.7080\n",
            "Epoch 72/250\n",
            "222/222 [==============================] - 1s 3ms/step - loss: 0.5428 - accuracy: 0.7089\n",
            "Epoch 73/250\n",
            "222/222 [==============================] - 1s 3ms/step - loss: 0.5427 - accuracy: 0.7096\n",
            "Epoch 74/250\n",
            "222/222 [==============================] - 1s 4ms/step - loss: 0.5429 - accuracy: 0.7083\n",
            "Epoch 75/250\n",
            "222/222 [==============================] - 1s 5ms/step - loss: 0.5421 - accuracy: 0.7104\n",
            "Epoch 76/250\n",
            "222/222 [==============================] - 1s 5ms/step - loss: 0.5415 - accuracy: 0.7089\n",
            "Epoch 77/250\n",
            "222/222 [==============================] - 1s 5ms/step - loss: 0.5414 - accuracy: 0.7078\n",
            "Epoch 78/250\n",
            "222/222 [==============================] - 1s 3ms/step - loss: 0.5415 - accuracy: 0.7097\n",
            "Epoch 79/250\n",
            "222/222 [==============================] - 1s 3ms/step - loss: 0.5429 - accuracy: 0.7088\n",
            "Epoch 80/250\n",
            "222/222 [==============================] - 1s 3ms/step - loss: 0.5414 - accuracy: 0.7075\n",
            "Epoch 81/250\n",
            "222/222 [==============================] - 1s 3ms/step - loss: 0.5412 - accuracy: 0.7104\n",
            "Epoch 82/250\n",
            "222/222 [==============================] - 1s 3ms/step - loss: 0.5424 - accuracy: 0.7080\n",
            "Epoch 83/250\n",
            "222/222 [==============================] - 1s 3ms/step - loss: 0.5418 - accuracy: 0.7088\n",
            "Epoch 84/250\n",
            "222/222 [==============================] - 1s 3ms/step - loss: 0.5423 - accuracy: 0.7086\n",
            "Epoch 85/250\n",
            "222/222 [==============================] - 1s 3ms/step - loss: 0.5404 - accuracy: 0.7096\n",
            "Epoch 86/250\n",
            "222/222 [==============================] - 1s 3ms/step - loss: 0.5430 - accuracy: 0.7073\n",
            "Epoch 87/250\n",
            "222/222 [==============================] - 1s 3ms/step - loss: 0.5430 - accuracy: 0.7082\n",
            "Epoch 88/250\n",
            "222/222 [==============================] - 1s 3ms/step - loss: 0.5413 - accuracy: 0.7085\n",
            "Epoch 89/250\n",
            "222/222 [==============================] - 1s 4ms/step - loss: 0.5409 - accuracy: 0.7073\n",
            "Epoch 90/250\n",
            "222/222 [==============================] - 1s 4ms/step - loss: 0.5416 - accuracy: 0.7066\n",
            "Epoch 91/250\n",
            "222/222 [==============================] - 1s 5ms/step - loss: 0.5409 - accuracy: 0.7106\n",
            "Epoch 92/250\n",
            "222/222 [==============================] - 1s 5ms/step - loss: 0.5416 - accuracy: 0.7071\n",
            "Epoch 93/250\n",
            "222/222 [==============================] - 1s 3ms/step - loss: 0.5411 - accuracy: 0.7083\n",
            "Epoch 94/250\n",
            "222/222 [==============================] - 1s 3ms/step - loss: 0.5414 - accuracy: 0.7103\n",
            "Epoch 95/250\n",
            "222/222 [==============================] - 1s 3ms/step - loss: 0.5424 - accuracy: 0.7073\n",
            "Epoch 96/250\n",
            "222/222 [==============================] - 1s 3ms/step - loss: 0.5420 - accuracy: 0.7088\n",
            "Epoch 97/250\n",
            "222/222 [==============================] - 1s 3ms/step - loss: 0.5406 - accuracy: 0.7102\n",
            "Epoch 98/250\n",
            "222/222 [==============================] - 1s 4ms/step - loss: 0.5409 - accuracy: 0.7097\n",
            "Epoch 99/250\n",
            "222/222 [==============================] - 1s 3ms/step - loss: 0.5417 - accuracy: 0.7085\n",
            "Epoch 100/250\n",
            "222/222 [==============================] - 1s 3ms/step - loss: 0.5410 - accuracy: 0.7083\n",
            "Epoch 101/250\n",
            "222/222 [==============================] - 1s 3ms/step - loss: 0.5410 - accuracy: 0.7096\n",
            "Epoch 102/250\n",
            "222/222 [==============================] - 1s 3ms/step - loss: 0.5417 - accuracy: 0.7080\n",
            "Epoch 103/250\n",
            "222/222 [==============================] - 1s 3ms/step - loss: 0.5414 - accuracy: 0.7106\n",
            "Epoch 104/250\n",
            "222/222 [==============================] - 1s 3ms/step - loss: 0.5414 - accuracy: 0.7088\n",
            "Epoch 105/250\n",
            "222/222 [==============================] - 1s 4ms/step - loss: 0.5414 - accuracy: 0.7085\n",
            "Epoch 106/250\n",
            "222/222 [==============================] - 1s 6ms/step - loss: 0.5410 - accuracy: 0.7079\n",
            "Epoch 107/250\n",
            "222/222 [==============================] - 1s 5ms/step - loss: 0.5410 - accuracy: 0.7093\n",
            "Epoch 108/250\n",
            "222/222 [==============================] - 1s 4ms/step - loss: 0.5417 - accuracy: 0.7093\n",
            "Epoch 109/250\n",
            "222/222 [==============================] - 1s 3ms/step - loss: 0.5415 - accuracy: 0.7088\n",
            "Epoch 110/250\n",
            "222/222 [==============================] - 1s 4ms/step - loss: 0.5409 - accuracy: 0.7103\n",
            "Epoch 111/250\n",
            "222/222 [==============================] - 1s 3ms/step - loss: 0.5410 - accuracy: 0.7089\n",
            "Epoch 112/250\n",
            "222/222 [==============================] - 1s 3ms/step - loss: 0.5406 - accuracy: 0.7093\n",
            "Epoch 113/250\n",
            "222/222 [==============================] - 1s 3ms/step - loss: 0.5407 - accuracy: 0.7096\n",
            "Epoch 114/250\n",
            "222/222 [==============================] - 1s 4ms/step - loss: 0.5409 - accuracy: 0.7090\n",
            "Epoch 115/250\n",
            "222/222 [==============================] - 1s 4ms/step - loss: 0.5408 - accuracy: 0.7080\n",
            "Epoch 116/250\n",
            "222/222 [==============================] - 1s 4ms/step - loss: 0.5417 - accuracy: 0.7078\n",
            "Epoch 117/250\n",
            "222/222 [==============================] - 1s 4ms/step - loss: 0.5416 - accuracy: 0.7075\n",
            "Epoch 118/250\n",
            "222/222 [==============================] - 1s 3ms/step - loss: 0.5403 - accuracy: 0.7093\n",
            "Epoch 119/250\n",
            "222/222 [==============================] - 1s 4ms/step - loss: 0.5403 - accuracy: 0.7095\n",
            "Epoch 120/250\n",
            "222/222 [==============================] - 1s 3ms/step - loss: 0.5406 - accuracy: 0.7095\n",
            "Epoch 121/250\n",
            "222/222 [==============================] - 1s 5ms/step - loss: 0.5402 - accuracy: 0.7085\n",
            "Epoch 122/250\n",
            "222/222 [==============================] - 1s 5ms/step - loss: 0.5402 - accuracy: 0.7097\n",
            "Epoch 123/250\n",
            "222/222 [==============================] - 1s 5ms/step - loss: 0.5408 - accuracy: 0.7095\n",
            "Epoch 124/250\n",
            "222/222 [==============================] - 1s 4ms/step - loss: 0.5407 - accuracy: 0.7076\n",
            "Epoch 125/250\n",
            "222/222 [==============================] - 1s 4ms/step - loss: 0.5406 - accuracy: 0.7083\n",
            "Epoch 126/250\n",
            "222/222 [==============================] - 1s 3ms/step - loss: 0.5403 - accuracy: 0.7096\n",
            "Epoch 127/250\n",
            "222/222 [==============================] - 1s 3ms/step - loss: 0.5401 - accuracy: 0.7076\n",
            "Epoch 128/250\n",
            "222/222 [==============================] - 1s 4ms/step - loss: 0.5412 - accuracy: 0.7113\n",
            "Epoch 129/250\n",
            "222/222 [==============================] - 1s 3ms/step - loss: 0.5407 - accuracy: 0.7090\n",
            "Epoch 130/250\n",
            "222/222 [==============================] - 1s 4ms/step - loss: 0.5402 - accuracy: 0.7089\n",
            "Epoch 131/250\n",
            "222/222 [==============================] - 1s 3ms/step - loss: 0.5399 - accuracy: 0.7088\n",
            "Epoch 132/250\n",
            "222/222 [==============================] - 1s 3ms/step - loss: 0.5402 - accuracy: 0.7089\n",
            "Epoch 133/250\n",
            "222/222 [==============================] - 1s 4ms/step - loss: 0.5404 - accuracy: 0.7085\n",
            "Epoch 134/250\n",
            "222/222 [==============================] - 1s 4ms/step - loss: 0.5405 - accuracy: 0.7088\n",
            "Epoch 135/250\n",
            "222/222 [==============================] - 1s 3ms/step - loss: 0.5406 - accuracy: 0.7085\n",
            "Epoch 136/250\n",
            "222/222 [==============================] - 1s 5ms/step - loss: 0.5405 - accuracy: 0.7095\n",
            "Epoch 137/250\n",
            "222/222 [==============================] - 1s 5ms/step - loss: 0.5411 - accuracy: 0.7085\n",
            "Epoch 138/250\n",
            "222/222 [==============================] - 1s 5ms/step - loss: 0.5398 - accuracy: 0.7104\n",
            "Epoch 139/250\n",
            "222/222 [==============================] - 1s 4ms/step - loss: 0.5402 - accuracy: 0.7075\n",
            "Epoch 140/250\n",
            "222/222 [==============================] - 1s 3ms/step - loss: 0.5400 - accuracy: 0.7092\n",
            "Epoch 141/250\n",
            "222/222 [==============================] - 1s 3ms/step - loss: 0.5410 - accuracy: 0.7083\n",
            "Epoch 142/250\n",
            "222/222 [==============================] - 1s 3ms/step - loss: 0.5403 - accuracy: 0.7085\n",
            "Epoch 143/250\n",
            "222/222 [==============================] - 1s 3ms/step - loss: 0.5402 - accuracy: 0.7076\n",
            "Epoch 144/250\n",
            "222/222 [==============================] - 1s 3ms/step - loss: 0.5403 - accuracy: 0.7088\n",
            "Epoch 145/250\n",
            "222/222 [==============================] - 1s 3ms/step - loss: 0.5405 - accuracy: 0.7090\n",
            "Epoch 146/250\n",
            "222/222 [==============================] - 1s 3ms/step - loss: 0.5399 - accuracy: 0.7096\n",
            "Epoch 147/250\n",
            "222/222 [==============================] - 1s 3ms/step - loss: 0.5410 - accuracy: 0.7089\n",
            "Epoch 148/250\n",
            "222/222 [==============================] - 1s 3ms/step - loss: 0.5400 - accuracy: 0.7092\n",
            "Epoch 149/250\n",
            "222/222 [==============================] - 1s 3ms/step - loss: 0.5401 - accuracy: 0.7090\n",
            "Epoch 150/250\n",
            "222/222 [==============================] - 1s 4ms/step - loss: 0.5402 - accuracy: 0.7095\n",
            "Epoch 151/250\n",
            "222/222 [==============================] - 1s 4ms/step - loss: 0.5398 - accuracy: 0.7092\n",
            "Epoch 152/250\n",
            "222/222 [==============================] - 1s 5ms/step - loss: 0.5396 - accuracy: 0.7090\n",
            "Epoch 153/250\n",
            "222/222 [==============================] - 1s 5ms/step - loss: 0.5403 - accuracy: 0.7086\n",
            "Epoch 154/250\n",
            "222/222 [==============================] - 1s 5ms/step - loss: 0.5400 - accuracy: 0.7099\n",
            "Epoch 155/250\n",
            "222/222 [==============================] - 1s 3ms/step - loss: 0.5392 - accuracy: 0.7082\n",
            "Epoch 156/250\n",
            "222/222 [==============================] - 1s 3ms/step - loss: 0.5399 - accuracy: 0.7089\n",
            "Epoch 157/250\n",
            "222/222 [==============================] - 1s 3ms/step - loss: 0.5390 - accuracy: 0.7097\n",
            "Epoch 158/250\n",
            "222/222 [==============================] - 1s 4ms/step - loss: 0.5395 - accuracy: 0.7096\n",
            "Epoch 159/250\n",
            "222/222 [==============================] - 1s 3ms/step - loss: 0.5397 - accuracy: 0.7102\n",
            "Epoch 160/250\n",
            "222/222 [==============================] - 1s 4ms/step - loss: 0.5392 - accuracy: 0.7090\n",
            "Epoch 161/250\n",
            "222/222 [==============================] - 1s 4ms/step - loss: 0.5395 - accuracy: 0.7083\n",
            "Epoch 162/250\n",
            "222/222 [==============================] - 1s 4ms/step - loss: 0.5391 - accuracy: 0.7089\n",
            "Epoch 163/250\n",
            "222/222 [==============================] - 1s 4ms/step - loss: 0.5403 - accuracy: 0.7089\n",
            "Epoch 164/250\n",
            "222/222 [==============================] - 1s 4ms/step - loss: 0.5394 - accuracy: 0.7093\n",
            "Epoch 165/250\n",
            "222/222 [==============================] - 1s 4ms/step - loss: 0.5395 - accuracy: 0.7100\n",
            "Epoch 166/250\n",
            "222/222 [==============================] - 1s 4ms/step - loss: 0.5387 - accuracy: 0.7099\n",
            "Epoch 167/250\n",
            "222/222 [==============================] - 1s 4ms/step - loss: 0.5390 - accuracy: 0.7097\n",
            "Epoch 168/250\n",
            "222/222 [==============================] - 1s 5ms/step - loss: 0.5397 - accuracy: 0.7095\n",
            "Epoch 169/250\n",
            "222/222 [==============================] - 1s 5ms/step - loss: 0.5389 - accuracy: 0.7088\n",
            "Epoch 170/250\n",
            "222/222 [==============================] - 1s 4ms/step - loss: 0.5386 - accuracy: 0.7088\n",
            "Epoch 171/250\n",
            "222/222 [==============================] - 1s 4ms/step - loss: 0.5381 - accuracy: 0.7097\n",
            "Epoch 172/250\n",
            "222/222 [==============================] - 1s 3ms/step - loss: 0.5384 - accuracy: 0.7072\n",
            "Epoch 173/250\n",
            "222/222 [==============================] - 1s 4ms/step - loss: 0.5394 - accuracy: 0.7100\n",
            "Epoch 174/250\n",
            "222/222 [==============================] - 1s 3ms/step - loss: 0.5389 - accuracy: 0.7103\n",
            "Epoch 175/250\n",
            "222/222 [==============================] - 1s 3ms/step - loss: 0.5380 - accuracy: 0.7097\n",
            "Epoch 176/250\n",
            "222/222 [==============================] - 1s 4ms/step - loss: 0.5402 - accuracy: 0.7089\n",
            "Epoch 177/250\n",
            "222/222 [==============================] - 1s 4ms/step - loss: 0.5383 - accuracy: 0.7085\n",
            "Epoch 178/250\n",
            "222/222 [==============================] - 1s 4ms/step - loss: 0.5380 - accuracy: 0.7078\n",
            "Epoch 179/250\n",
            "222/222 [==============================] - 1s 3ms/step - loss: 0.5385 - accuracy: 0.7104\n",
            "Epoch 180/250\n",
            "222/222 [==============================] - 1s 4ms/step - loss: 0.5381 - accuracy: 0.7102\n",
            "Epoch 181/250\n",
            "222/222 [==============================] - 1s 3ms/step - loss: 0.5385 - accuracy: 0.7090\n",
            "Epoch 182/250\n",
            "222/222 [==============================] - 1s 4ms/step - loss: 0.5379 - accuracy: 0.7111\n",
            "Epoch 183/250\n",
            "222/222 [==============================] - 1s 5ms/step - loss: 0.5389 - accuracy: 0.7095\n",
            "Epoch 184/250\n",
            "222/222 [==============================] - 1s 5ms/step - loss: 0.5384 - accuracy: 0.7099\n",
            "Epoch 185/250\n",
            "222/222 [==============================] - 1s 5ms/step - loss: 0.5386 - accuracy: 0.7103\n",
            "Epoch 186/250\n",
            "222/222 [==============================] - 1s 4ms/step - loss: 0.5379 - accuracy: 0.7096\n",
            "Epoch 187/250\n",
            "222/222 [==============================] - 1s 4ms/step - loss: 0.5379 - accuracy: 0.7116\n",
            "Epoch 188/250\n",
            "222/222 [==============================] - 1s 4ms/step - loss: 0.5382 - accuracy: 0.7104\n",
            "Epoch 189/250\n",
            "222/222 [==============================] - 1s 3ms/step - loss: 0.5371 - accuracy: 0.7082\n",
            "Epoch 190/250\n",
            "222/222 [==============================] - 1s 4ms/step - loss: 0.5373 - accuracy: 0.7102\n",
            "Epoch 191/250\n",
            "222/222 [==============================] - 1s 4ms/step - loss: 0.5380 - accuracy: 0.7096\n",
            "Epoch 192/250\n",
            "222/222 [==============================] - 1s 3ms/step - loss: 0.5375 - accuracy: 0.7103\n",
            "Epoch 193/250\n",
            "222/222 [==============================] - 1s 3ms/step - loss: 0.5370 - accuracy: 0.7103\n",
            "Epoch 194/250\n",
            "222/222 [==============================] - 1s 4ms/step - loss: 0.5378 - accuracy: 0.7083\n",
            "Epoch 195/250\n",
            "222/222 [==============================] - 1s 4ms/step - loss: 0.5383 - accuracy: 0.7099\n",
            "Epoch 196/250\n",
            "222/222 [==============================] - 1s 3ms/step - loss: 0.5378 - accuracy: 0.7097\n",
            "Epoch 197/250\n",
            "222/222 [==============================] - 1s 3ms/step - loss: 0.5377 - accuracy: 0.7082\n",
            "Epoch 198/250\n",
            "222/222 [==============================] - 1s 5ms/step - loss: 0.5371 - accuracy: 0.7110\n",
            "Epoch 199/250\n",
            "222/222 [==============================] - 1s 5ms/step - loss: 0.5373 - accuracy: 0.7095\n",
            "Epoch 200/250\n",
            "222/222 [==============================] - 1s 5ms/step - loss: 0.5370 - accuracy: 0.7107\n",
            "Epoch 201/250\n",
            "222/222 [==============================] - 1s 3ms/step - loss: 0.5380 - accuracy: 0.7086\n",
            "Epoch 202/250\n",
            "222/222 [==============================] - 1s 4ms/step - loss: 0.5374 - accuracy: 0.7107\n",
            "Epoch 203/250\n",
            "222/222 [==============================] - 1s 3ms/step - loss: 0.5373 - accuracy: 0.7097\n",
            "Epoch 204/250\n",
            "222/222 [==============================] - 1s 4ms/step - loss: 0.5370 - accuracy: 0.7086\n",
            "Epoch 205/250\n",
            "222/222 [==============================] - 1s 4ms/step - loss: 0.5376 - accuracy: 0.7103\n",
            "Epoch 206/250\n",
            "222/222 [==============================] - 1s 4ms/step - loss: 0.5379 - accuracy: 0.7085\n",
            "Epoch 207/250\n",
            "222/222 [==============================] - 1s 4ms/step - loss: 0.5371 - accuracy: 0.7095\n",
            "Epoch 208/250\n",
            "222/222 [==============================] - 1s 3ms/step - loss: 0.5375 - accuracy: 0.7089\n",
            "Epoch 209/250\n",
            "222/222 [==============================] - 1s 4ms/step - loss: 0.5377 - accuracy: 0.7080\n",
            "Epoch 210/250\n",
            "222/222 [==============================] - 1s 4ms/step - loss: 0.5375 - accuracy: 0.7099\n",
            "Epoch 211/250\n",
            "222/222 [==============================] - 1s 4ms/step - loss: 0.5372 - accuracy: 0.7086\n",
            "Epoch 212/250\n",
            "222/222 [==============================] - 1s 3ms/step - loss: 0.5369 - accuracy: 0.7089\n",
            "Epoch 213/250\n",
            "222/222 [==============================] - 1s 4ms/step - loss: 0.5371 - accuracy: 0.7093\n",
            "Epoch 214/250\n",
            "222/222 [==============================] - 1s 5ms/step - loss: 0.5370 - accuracy: 0.7099\n",
            "Epoch 215/250\n",
            "222/222 [==============================] - 1s 5ms/step - loss: 0.5371 - accuracy: 0.7088\n",
            "Epoch 216/250\n",
            "222/222 [==============================] - 1s 4ms/step - loss: 0.5367 - accuracy: 0.7097\n",
            "Epoch 217/250\n",
            "222/222 [==============================] - 1s 3ms/step - loss: 0.5362 - accuracy: 0.7086\n",
            "Epoch 218/250\n",
            "222/222 [==============================] - 1s 3ms/step - loss: 0.5363 - accuracy: 0.7073\n",
            "Epoch 219/250\n",
            "222/222 [==============================] - 1s 4ms/step - loss: 0.5371 - accuracy: 0.7103\n",
            "Epoch 220/250\n",
            "222/222 [==============================] - 1s 4ms/step - loss: 0.5367 - accuracy: 0.7106\n",
            "Epoch 221/250\n",
            "222/222 [==============================] - 1s 3ms/step - loss: 0.5368 - accuracy: 0.7103\n",
            "Epoch 222/250\n",
            "222/222 [==============================] - 1s 3ms/step - loss: 0.5371 - accuracy: 0.7097\n",
            "Epoch 223/250\n",
            "222/222 [==============================] - 1s 3ms/step - loss: 0.5373 - accuracy: 0.7109\n",
            "Epoch 224/250\n",
            "222/222 [==============================] - 1s 4ms/step - loss: 0.5375 - accuracy: 0.7083\n",
            "Epoch 225/250\n",
            "222/222 [==============================] - 1s 3ms/step - loss: 0.5373 - accuracy: 0.7096\n",
            "Epoch 226/250\n",
            "222/222 [==============================] - 1s 3ms/step - loss: 0.5362 - accuracy: 0.7096\n",
            "Epoch 227/250\n",
            "222/222 [==============================] - 1s 3ms/step - loss: 0.5370 - accuracy: 0.7097\n",
            "Epoch 228/250\n",
            "222/222 [==============================] - 1s 4ms/step - loss: 0.5370 - accuracy: 0.7088\n",
            "Epoch 229/250\n",
            "222/222 [==============================] - 1s 5ms/step - loss: 0.5378 - accuracy: 0.7114\n",
            "Epoch 230/250\n",
            "222/222 [==============================] - 1s 5ms/step - loss: 0.5367 - accuracy: 0.7085\n",
            "Epoch 231/250\n",
            "222/222 [==============================] - 1s 5ms/step - loss: 0.5373 - accuracy: 0.7102\n",
            "Epoch 232/250\n",
            "222/222 [==============================] - 1s 4ms/step - loss: 0.5368 - accuracy: 0.7086\n",
            "Epoch 233/250\n",
            "222/222 [==============================] - 1s 3ms/step - loss: 0.5362 - accuracy: 0.7096\n",
            "Epoch 234/250\n",
            "222/222 [==============================] - 1s 3ms/step - loss: 0.5367 - accuracy: 0.7097\n",
            "Epoch 235/250\n",
            "222/222 [==============================] - 1s 3ms/step - loss: 0.5368 - accuracy: 0.7103\n",
            "Epoch 236/250\n",
            "222/222 [==============================] - 1s 3ms/step - loss: 0.5365 - accuracy: 0.7107\n",
            "Epoch 237/250\n",
            "222/222 [==============================] - 1s 3ms/step - loss: 0.5365 - accuracy: 0.7090\n",
            "Epoch 238/250\n",
            "222/222 [==============================] - 1s 4ms/step - loss: 0.5361 - accuracy: 0.7090\n",
            "Epoch 239/250\n",
            "222/222 [==============================] - 1s 3ms/step - loss: 0.5361 - accuracy: 0.7104\n",
            "Epoch 240/250\n",
            "222/222 [==============================] - 1s 3ms/step - loss: 0.5358 - accuracy: 0.7088\n",
            "Epoch 241/250\n",
            "222/222 [==============================] - 1s 3ms/step - loss: 0.5361 - accuracy: 0.7085\n",
            "Epoch 242/250\n",
            "222/222 [==============================] - 1s 4ms/step - loss: 0.5362 - accuracy: 0.7103\n",
            "Epoch 243/250\n",
            "222/222 [==============================] - 1s 4ms/step - loss: 0.5370 - accuracy: 0.7079\n",
            "Epoch 244/250\n",
            "222/222 [==============================] - 1s 4ms/step - loss: 0.5370 - accuracy: 0.7111\n",
            "Epoch 245/250\n",
            "222/222 [==============================] - 1s 5ms/step - loss: 0.5363 - accuracy: 0.7092\n",
            "Epoch 246/250\n",
            "222/222 [==============================] - 1s 5ms/step - loss: 0.5365 - accuracy: 0.7103\n",
            "Epoch 247/250\n",
            "222/222 [==============================] - 1s 5ms/step - loss: 0.5364 - accuracy: 0.7090\n",
            "Epoch 248/250\n",
            "222/222 [==============================] - 1s 4ms/step - loss: 0.5364 - accuracy: 0.7104\n",
            "Epoch 249/250\n",
            "222/222 [==============================] - 1s 4ms/step - loss: 0.5358 - accuracy: 0.7092\n",
            "Epoch 250/250\n",
            "222/222 [==============================] - 1s 3ms/step - loss: 0.5364 - accuracy: 0.7092\n"
          ]
        },
        {
          "output_type": "execute_result",
          "data": {
            "text/plain": [
              "<keras.src.callbacks.History at 0x78168f97cca0>"
            ]
          },
          "metadata": {},
          "execution_count": 82
        }
      ]
    },
    {
      "cell_type": "code",
      "source": [
        "y_pred_prob = model.predict(x_test_ANN)\n",
        "y_pred_ANN = (y_pred_prob > 0.5).astype(int)"
      ],
      "metadata": {
        "colab": {
          "base_uri": "https://localhost:8080/"
        },
        "id": "bLiFAfELXxla",
        "outputId": "edd49be2-9321-4255-fc42-838391f2fd81"
      },
      "execution_count": 83,
      "outputs": [
        {
          "output_type": "stream",
          "name": "stdout",
          "text": [
            "56/56 [==============================] - 0s 3ms/step\n"
          ]
        }
      ]
    },
    {
      "cell_type": "code",
      "source": [
        "y_pred_ANN"
      ],
      "metadata": {
        "colab": {
          "base_uri": "https://localhost:8080/"
        },
        "id": "P2TCv1IyYpgz",
        "outputId": "42d7dbfd-ce03-4ded-96fd-eaab986d4916"
      },
      "execution_count": 84,
      "outputs": [
        {
          "output_type": "execute_result",
          "data": {
            "text/plain": [
              "array([[0],\n",
              "       [0],\n",
              "       [0],\n",
              "       ...,\n",
              "       [0],\n",
              "       [0],\n",
              "       [0]])"
            ]
          },
          "metadata": {},
          "execution_count": 84
        }
      ]
    },
    {
      "cell_type": "code",
      "source": [
        "y_test_ANN.flatten()"
      ],
      "metadata": {
        "colab": {
          "base_uri": "https://localhost:8080/"
        },
        "id": "G0g6I4zyYshu",
        "outputId": "7a38dbfc-973f-423d-bbfa-7384d5f25575"
      },
      "execution_count": 85,
      "outputs": [
        {
          "output_type": "execute_result",
          "data": {
            "text/plain": [
              "array([0, 1, 0, ..., 0, 0, 1])"
            ]
          },
          "metadata": {},
          "execution_count": 85
        }
      ]
    },
    {
      "cell_type": "code",
      "source": [
        "y_test_ANN[0]"
      ],
      "metadata": {
        "colab": {
          "base_uri": "https://localhost:8080/"
        },
        "id": "yNDXZ7GnYyve",
        "outputId": "539b35b3-bb01-4e56-8be3-6ad5b301674e"
      },
      "execution_count": 86,
      "outputs": [
        {
          "output_type": "execute_result",
          "data": {
            "text/plain": [
              "0"
            ]
          },
          "metadata": {},
          "execution_count": 86
        }
      ]
    },
    {
      "cell_type": "code",
      "source": [
        "y_pred_ANN[0]"
      ],
      "metadata": {
        "colab": {
          "base_uri": "https://localhost:8080/"
        },
        "id": "7FZ6nqBQY43i",
        "outputId": "94eb0605-a223-48f8-eb86-a3ef5df72f24"
      },
      "execution_count": 87,
      "outputs": [
        {
          "output_type": "execute_result",
          "data": {
            "text/plain": [
              "array([0])"
            ]
          },
          "metadata": {},
          "execution_count": 87
        }
      ]
    },
    {
      "cell_type": "code",
      "source": [
        "ANN_cr = classification_report(y_test_ANN, y_pred_ANN)\n",
        "ANN_as = accuracy_score(y_test_ANN, y_pred_ANN)\n",
        "ANN_cm = confusion_matrix(y_test_ANN, y_pred_ANN)"
      ],
      "metadata": {
        "id": "tAiG16A_Y_JT"
      },
      "execution_count": 88,
      "outputs": []
    },
    {
      "cell_type": "code",
      "source": [
        "print(f\"{ANN_cr}\\n{ANN_as}\\n{ANN_cm}\")"
      ],
      "metadata": {
        "colab": {
          "base_uri": "https://localhost:8080/"
        },
        "id": "z8MeDyw5nNih",
        "outputId": "b7a0bf03-741f-4e86-c761-c158b5889ddf"
      },
      "execution_count": 89,
      "outputs": [
        {
          "output_type": "stream",
          "name": "stdout",
          "text": [
            "              precision    recall  f1-score   support\n",
            "\n",
            "           0       0.64      0.93      0.76       872\n",
            "           1       0.88      0.49      0.63       903\n",
            "\n",
            "    accuracy                           0.71      1775\n",
            "   macro avg       0.76      0.71      0.70      1775\n",
            "weighted avg       0.76      0.71      0.69      1775\n",
            "\n",
            "0.708169014084507\n",
            "[[811  61]\n",
            " [457 446]]\n"
          ]
        }
      ]
    },
    {
      "cell_type": "markdown",
      "source": [
        "F1 Scores"
      ],
      "metadata": {
        "id": "7OZoqM4J_7Yp"
      }
    },
    {
      "cell_type": "code",
      "source": [
        "from sklearn.metrics import f1_score"
      ],
      "metadata": {
        "id": "fYhTsSXv__8U"
      },
      "execution_count": 90,
      "outputs": []
    },
    {
      "cell_type": "code",
      "source": [
        "print(f\"Logistic Regression: {f1_score(y_test, pred_lr)}\")\n",
        "print(f\"KNN: {f1_score(y_test, pred_knn)}\")\n",
        "print(f\"SVC: {f1_score(y_test, pred_model)}\")\n",
        "print(f\"Gaussian NB: {f1_score(y_test, pred_nb)}\")\n",
        "print(f\"Random Forest: {f1_score(y_test, pred_rf)}\")\n",
        "print(f\"XG Boost: {f1_score(y_test, pred_xg)}\")\n",
        "print(f\"ANN: {f1_score(y_test_ANN, y_pred_ANN)}\")"
      ],
      "metadata": {
        "id": "qQ2_XWfOnwOV",
        "colab": {
          "base_uri": "https://localhost:8080/"
        },
        "outputId": "b6c69cf6-34ac-42d5-81da-39b85db2bb21"
      },
      "execution_count": 91,
      "outputs": [
        {
          "output_type": "stream",
          "name": "stdout",
          "text": [
            "Logistic Regression: 0.64314171883893\n",
            "KNN: 0.6251497005988024\n",
            "SVC: 0.6428571428571428\n",
            "Gaussian NB: 0.6536643026004728\n",
            "Random Forest: 0.6425339366515836\n",
            "XG Boost: 0.6463642013673089\n",
            "ANN: 0.6326241134751772\n"
          ]
        }
      ]
    },
    {
      "cell_type": "markdown",
      "source": [
        "## MODEL TESTING"
      ],
      "metadata": {
        "id": "xOH7SxRHirfv"
      }
    },
    {
      "cell_type": "markdown",
      "source": [
        "HYPERPARAMETER TUNING"
      ],
      "metadata": {
        "id": "z2DbWJk0ghZB"
      }
    },
    {
      "cell_type": "code",
      "source": [
        "from sklearn.model_selection import RandomizedSearchCV"
      ],
      "metadata": {
        "id": "9rEmIuy0gkWO"
      },
      "execution_count": 92,
      "outputs": []
    },
    {
      "cell_type": "code",
      "source": [
        "# BEST MODELS :\n",
        "# SVC - 66.76%\n",
        "# Gaussian NB - 66.98%\n",
        "# XG Boost - 67.94%\n",
        "# KNN - 64.73%"
      ],
      "metadata": {
        "id": "Iu0YBfUg15lK"
      },
      "execution_count": 93,
      "outputs": []
    },
    {
      "cell_type": "markdown",
      "source": [
        "SVC"
      ],
      "metadata": {
        "id": "tD9SXKUF2pah"
      }
    },
    {
      "cell_type": "code",
      "source": [
        "parameters={\n",
        "    'kernel':['rbf','linear'],\n",
        "    'C':[0.1,0.5,1.0],\n",
        "    'gamma':[0.01,0.0001]\n",
        "}\n",
        "RCV_SVC  = RandomizedSearchCV(estimator=SVC(),param_distributions=parameters,cv=6,n_iter=12,verbose=2)"
      ],
      "metadata": {
        "id": "GAMJQbwl2APn"
      },
      "execution_count": 94,
      "outputs": []
    },
    {
      "cell_type": "code",
      "source": [
        "RCV_SVC.fit(x_train,y_train)"
      ],
      "metadata": {
        "colab": {
          "base_uri": "https://localhost:8080/",
          "height": 1000
        },
        "id": "Is-vKUuk3S6J",
        "outputId": "93204acd-98d8-4536-f10a-3990ec3b294e"
      },
      "execution_count": 95,
      "outputs": [
        {
          "output_type": "stream",
          "name": "stdout",
          "text": [
            "Fitting 6 folds for each of 12 candidates, totalling 72 fits\n",
            "[CV] END ......................C=0.1, gamma=0.01, kernel=rbf; total time=   1.5s\n",
            "[CV] END ......................C=0.1, gamma=0.01, kernel=rbf; total time=   1.5s\n",
            "[CV] END ......................C=0.1, gamma=0.01, kernel=rbf; total time=   1.5s\n",
            "[CV] END ......................C=0.1, gamma=0.01, kernel=rbf; total time=   1.5s\n",
            "[CV] END ......................C=0.1, gamma=0.01, kernel=rbf; total time=   1.4s\n",
            "[CV] END ......................C=0.1, gamma=0.01, kernel=rbf; total time=   1.5s\n",
            "[CV] END ...................C=0.1, gamma=0.01, kernel=linear; total time=   1.4s\n",
            "[CV] END ...................C=0.1, gamma=0.01, kernel=linear; total time=   2.1s\n",
            "[CV] END ...................C=0.1, gamma=0.01, kernel=linear; total time=   1.4s\n",
            "[CV] END ...................C=0.1, gamma=0.01, kernel=linear; total time=   1.2s\n",
            "[CV] END ...................C=0.1, gamma=0.01, kernel=linear; total time=   1.2s\n",
            "[CV] END ...................C=0.1, gamma=0.01, kernel=linear; total time=   1.3s\n",
            "[CV] END ....................C=0.1, gamma=0.0001, kernel=rbf; total time=   1.6s\n",
            "[CV] END ....................C=0.1, gamma=0.0001, kernel=rbf; total time=   1.6s\n",
            "[CV] END ....................C=0.1, gamma=0.0001, kernel=rbf; total time=   1.6s\n",
            "[CV] END ....................C=0.1, gamma=0.0001, kernel=rbf; total time=   2.3s\n",
            "[CV] END ....................C=0.1, gamma=0.0001, kernel=rbf; total time=   2.3s\n",
            "[CV] END ....................C=0.1, gamma=0.0001, kernel=rbf; total time=   1.5s\n",
            "[CV] END .................C=0.1, gamma=0.0001, kernel=linear; total time=   1.5s\n",
            "[CV] END .................C=0.1, gamma=0.0001, kernel=linear; total time=   2.5s\n",
            "[CV] END .................C=0.1, gamma=0.0001, kernel=linear; total time=   2.5s\n",
            "[CV] END .................C=0.1, gamma=0.0001, kernel=linear; total time=   3.8s\n",
            "[CV] END .................C=0.1, gamma=0.0001, kernel=linear; total time=   3.1s\n",
            "[CV] END .................C=0.1, gamma=0.0001, kernel=linear; total time=   1.3s\n",
            "[CV] END ......................C=0.5, gamma=0.01, kernel=rbf; total time=   1.5s\n",
            "[CV] END ......................C=0.5, gamma=0.01, kernel=rbf; total time=   1.4s\n",
            "[CV] END ......................C=0.5, gamma=0.01, kernel=rbf; total time=   1.4s\n",
            "[CV] END ......................C=0.5, gamma=0.01, kernel=rbf; total time=   1.4s\n",
            "[CV] END ......................C=0.5, gamma=0.01, kernel=rbf; total time=   1.4s\n",
            "[CV] END ......................C=0.5, gamma=0.01, kernel=rbf; total time=   2.3s\n",
            "[CV] END ...................C=0.5, gamma=0.01, kernel=linear; total time=   2.0s\n",
            "[CV] END ...................C=0.5, gamma=0.01, kernel=linear; total time=   1.5s\n",
            "[CV] END ...................C=0.5, gamma=0.01, kernel=linear; total time=   1.4s\n",
            "[CV] END ...................C=0.5, gamma=0.01, kernel=linear; total time=   1.8s\n",
            "[CV] END ...................C=0.5, gamma=0.01, kernel=linear; total time=   1.5s\n",
            "[CV] END ...................C=0.5, gamma=0.01, kernel=linear; total time=   1.8s\n",
            "[CV] END ....................C=0.5, gamma=0.0001, kernel=rbf; total time=   1.8s\n",
            "[CV] END ....................C=0.5, gamma=0.0001, kernel=rbf; total time=   2.8s\n",
            "[CV] END ....................C=0.5, gamma=0.0001, kernel=rbf; total time=   1.6s\n",
            "[CV] END ....................C=0.5, gamma=0.0001, kernel=rbf; total time=   1.7s\n",
            "[CV] END ....................C=0.5, gamma=0.0001, kernel=rbf; total time=   1.6s\n",
            "[CV] END ....................C=0.5, gamma=0.0001, kernel=rbf; total time=   1.6s\n",
            "[CV] END .................C=0.5, gamma=0.0001, kernel=linear; total time=   1.4s\n",
            "[CV] END .................C=0.5, gamma=0.0001, kernel=linear; total time=   1.4s\n",
            "[CV] END .................C=0.5, gamma=0.0001, kernel=linear; total time=   1.8s\n",
            "[CV] END .................C=0.5, gamma=0.0001, kernel=linear; total time=   2.5s\n",
            "[CV] END .................C=0.5, gamma=0.0001, kernel=linear; total time=   1.5s\n",
            "[CV] END .................C=0.5, gamma=0.0001, kernel=linear; total time=   1.8s\n",
            "[CV] END ......................C=1.0, gamma=0.01, kernel=rbf; total time=   1.4s\n",
            "[CV] END ......................C=1.0, gamma=0.01, kernel=rbf; total time=   1.4s\n",
            "[CV] END ......................C=1.0, gamma=0.01, kernel=rbf; total time=   1.4s\n",
            "[CV] END ......................C=1.0, gamma=0.01, kernel=rbf; total time=   1.3s\n",
            "[CV] END ......................C=1.0, gamma=0.01, kernel=rbf; total time=   1.9s\n",
            "[CV] END ......................C=1.0, gamma=0.01, kernel=rbf; total time=   2.1s\n",
            "[CV] END ...................C=1.0, gamma=0.01, kernel=linear; total time=   1.7s\n",
            "[CV] END ...................C=1.0, gamma=0.01, kernel=linear; total time=   1.6s\n",
            "[CV] END ...................C=1.0, gamma=0.01, kernel=linear; total time=   1.7s\n",
            "[CV] END ...................C=1.0, gamma=0.01, kernel=linear; total time=   1.7s\n",
            "[CV] END ...................C=1.0, gamma=0.01, kernel=linear; total time=   1.8s\n",
            "[CV] END ...................C=1.0, gamma=0.01, kernel=linear; total time=   1.8s\n",
            "[CV] END ....................C=1.0, gamma=0.0001, kernel=rbf; total time=   2.8s\n",
            "[CV] END ....................C=1.0, gamma=0.0001, kernel=rbf; total time=   1.7s\n",
            "[CV] END ....................C=1.0, gamma=0.0001, kernel=rbf; total time=   1.7s\n",
            "[CV] END ....................C=1.0, gamma=0.0001, kernel=rbf; total time=   1.7s\n",
            "[CV] END ....................C=1.0, gamma=0.0001, kernel=rbf; total time=   1.7s\n",
            "[CV] END ....................C=1.0, gamma=0.0001, kernel=rbf; total time=   1.6s\n",
            "[CV] END .................C=1.0, gamma=0.0001, kernel=linear; total time=   1.8s\n",
            "[CV] END .................C=1.0, gamma=0.0001, kernel=linear; total time=   2.5s\n",
            "[CV] END .................C=1.0, gamma=0.0001, kernel=linear; total time=   1.9s\n",
            "[CV] END .................C=1.0, gamma=0.0001, kernel=linear; total time=   2.1s\n",
            "[CV] END .................C=1.0, gamma=0.0001, kernel=linear; total time=   2.8s\n",
            "[CV] END .................C=1.0, gamma=0.0001, kernel=linear; total time=   1.7s\n"
          ]
        },
        {
          "output_type": "execute_result",
          "data": {
            "text/plain": [
              "RandomizedSearchCV(cv=6, estimator=SVC(), n_iter=12,\n",
              "                   param_distributions={'C': [0.1, 0.5, 1.0],\n",
              "                                        'gamma': [0.01, 0.0001],\n",
              "                                        'kernel': ['rbf', 'linear']},\n",
              "                   verbose=2)"
            ],
            "text/html": [
              "<style>#sk-container-id-2 {color: black;background-color: white;}#sk-container-id-2 pre{padding: 0;}#sk-container-id-2 div.sk-toggleable {background-color: white;}#sk-container-id-2 label.sk-toggleable__label {cursor: pointer;display: block;width: 100%;margin-bottom: 0;padding: 0.3em;box-sizing: border-box;text-align: center;}#sk-container-id-2 label.sk-toggleable__label-arrow:before {content: \"▸\";float: left;margin-right: 0.25em;color: #696969;}#sk-container-id-2 label.sk-toggleable__label-arrow:hover:before {color: black;}#sk-container-id-2 div.sk-estimator:hover label.sk-toggleable__label-arrow:before {color: black;}#sk-container-id-2 div.sk-toggleable__content {max-height: 0;max-width: 0;overflow: hidden;text-align: left;background-color: #f0f8ff;}#sk-container-id-2 div.sk-toggleable__content pre {margin: 0.2em;color: black;border-radius: 0.25em;background-color: #f0f8ff;}#sk-container-id-2 input.sk-toggleable__control:checked~div.sk-toggleable__content {max-height: 200px;max-width: 100%;overflow: auto;}#sk-container-id-2 input.sk-toggleable__control:checked~label.sk-toggleable__label-arrow:before {content: \"▾\";}#sk-container-id-2 div.sk-estimator input.sk-toggleable__control:checked~label.sk-toggleable__label {background-color: #d4ebff;}#sk-container-id-2 div.sk-label input.sk-toggleable__control:checked~label.sk-toggleable__label {background-color: #d4ebff;}#sk-container-id-2 input.sk-hidden--visually {border: 0;clip: rect(1px 1px 1px 1px);clip: rect(1px, 1px, 1px, 1px);height: 1px;margin: -1px;overflow: hidden;padding: 0;position: absolute;width: 1px;}#sk-container-id-2 div.sk-estimator {font-family: monospace;background-color: #f0f8ff;border: 1px dotted black;border-radius: 0.25em;box-sizing: border-box;margin-bottom: 0.5em;}#sk-container-id-2 div.sk-estimator:hover {background-color: #d4ebff;}#sk-container-id-2 div.sk-parallel-item::after {content: \"\";width: 100%;border-bottom: 1px solid gray;flex-grow: 1;}#sk-container-id-2 div.sk-label:hover label.sk-toggleable__label {background-color: #d4ebff;}#sk-container-id-2 div.sk-serial::before {content: \"\";position: absolute;border-left: 1px solid gray;box-sizing: border-box;top: 0;bottom: 0;left: 50%;z-index: 0;}#sk-container-id-2 div.sk-serial {display: flex;flex-direction: column;align-items: center;background-color: white;padding-right: 0.2em;padding-left: 0.2em;position: relative;}#sk-container-id-2 div.sk-item {position: relative;z-index: 1;}#sk-container-id-2 div.sk-parallel {display: flex;align-items: stretch;justify-content: center;background-color: white;position: relative;}#sk-container-id-2 div.sk-item::before, #sk-container-id-2 div.sk-parallel-item::before {content: \"\";position: absolute;border-left: 1px solid gray;box-sizing: border-box;top: 0;bottom: 0;left: 50%;z-index: -1;}#sk-container-id-2 div.sk-parallel-item {display: flex;flex-direction: column;z-index: 1;position: relative;background-color: white;}#sk-container-id-2 div.sk-parallel-item:first-child::after {align-self: flex-end;width: 50%;}#sk-container-id-2 div.sk-parallel-item:last-child::after {align-self: flex-start;width: 50%;}#sk-container-id-2 div.sk-parallel-item:only-child::after {width: 0;}#sk-container-id-2 div.sk-dashed-wrapped {border: 1px dashed gray;margin: 0 0.4em 0.5em 0.4em;box-sizing: border-box;padding-bottom: 0.4em;background-color: white;}#sk-container-id-2 div.sk-label label {font-family: monospace;font-weight: bold;display: inline-block;line-height: 1.2em;}#sk-container-id-2 div.sk-label-container {text-align: center;}#sk-container-id-2 div.sk-container {/* jupyter's `normalize.less` sets `[hidden] { display: none; }` but bootstrap.min.css set `[hidden] { display: none !important; }` so we also need the `!important` here to be able to override the default hidden behavior on the sphinx rendered scikit-learn.org. See: https://github.com/scikit-learn/scikit-learn/issues/21755 */display: inline-block !important;position: relative;}#sk-container-id-2 div.sk-text-repr-fallback {display: none;}</style><div id=\"sk-container-id-2\" class=\"sk-top-container\"><div class=\"sk-text-repr-fallback\"><pre>RandomizedSearchCV(cv=6, estimator=SVC(), n_iter=12,\n",
              "                   param_distributions={&#x27;C&#x27;: [0.1, 0.5, 1.0],\n",
              "                                        &#x27;gamma&#x27;: [0.01, 0.0001],\n",
              "                                        &#x27;kernel&#x27;: [&#x27;rbf&#x27;, &#x27;linear&#x27;]},\n",
              "                   verbose=2)</pre><b>In a Jupyter environment, please rerun this cell to show the HTML representation or trust the notebook. <br />On GitHub, the HTML representation is unable to render, please try loading this page with nbviewer.org.</b></div><div class=\"sk-container\" hidden><div class=\"sk-item sk-dashed-wrapped\"><div class=\"sk-label-container\"><div class=\"sk-label sk-toggleable\"><input class=\"sk-toggleable__control sk-hidden--visually\" id=\"sk-estimator-id-2\" type=\"checkbox\" ><label for=\"sk-estimator-id-2\" class=\"sk-toggleable__label sk-toggleable__label-arrow\">RandomizedSearchCV</label><div class=\"sk-toggleable__content\"><pre>RandomizedSearchCV(cv=6, estimator=SVC(), n_iter=12,\n",
              "                   param_distributions={&#x27;C&#x27;: [0.1, 0.5, 1.0],\n",
              "                                        &#x27;gamma&#x27;: [0.01, 0.0001],\n",
              "                                        &#x27;kernel&#x27;: [&#x27;rbf&#x27;, &#x27;linear&#x27;]},\n",
              "                   verbose=2)</pre></div></div></div><div class=\"sk-parallel\"><div class=\"sk-parallel-item\"><div class=\"sk-item\"><div class=\"sk-label-container\"><div class=\"sk-label sk-toggleable\"><input class=\"sk-toggleable__control sk-hidden--visually\" id=\"sk-estimator-id-3\" type=\"checkbox\" ><label for=\"sk-estimator-id-3\" class=\"sk-toggleable__label sk-toggleable__label-arrow\">estimator: SVC</label><div class=\"sk-toggleable__content\"><pre>SVC()</pre></div></div></div><div class=\"sk-serial\"><div class=\"sk-item\"><div class=\"sk-estimator sk-toggleable\"><input class=\"sk-toggleable__control sk-hidden--visually\" id=\"sk-estimator-id-4\" type=\"checkbox\" ><label for=\"sk-estimator-id-4\" class=\"sk-toggleable__label sk-toggleable__label-arrow\">SVC</label><div class=\"sk-toggleable__content\"><pre>SVC()</pre></div></div></div></div></div></div></div></div></div></div>"
            ]
          },
          "metadata": {},
          "execution_count": 95
        }
      ]
    },
    {
      "cell_type": "code",
      "source": [
        "RCV_SVC.best_score_"
      ],
      "metadata": {
        "colab": {
          "base_uri": "https://localhost:8080/"
        },
        "id": "q0t3Jtnz3Uif",
        "outputId": "8743ce42-3bf2-4b3d-a1d2-b9087f4ba3e6"
      },
      "execution_count": 96,
      "outputs": [
        {
          "output_type": "execute_result",
          "data": {
            "text/plain": [
              "0.6674665631127951"
            ]
          },
          "metadata": {},
          "execution_count": 96
        }
      ]
    },
    {
      "cell_type": "code",
      "source": [
        "RCV_SVC.best_params_"
      ],
      "metadata": {
        "colab": {
          "base_uri": "https://localhost:8080/"
        },
        "id": "ubjefTnv3lb5",
        "outputId": "0470c91d-25ac-4b6b-9fda-08de7f9cd6cd"
      },
      "execution_count": 97,
      "outputs": [
        {
          "output_type": "execute_result",
          "data": {
            "text/plain": [
              "{'kernel': 'rbf', 'gamma': 0.01, 'C': 1.0}"
            ]
          },
          "metadata": {},
          "execution_count": 97
        }
      ]
    },
    {
      "cell_type": "code",
      "source": [
        "Opt_SVC=SVC(kernel='rbf', gamma=0.01, C=1.0)"
      ],
      "metadata": {
        "id": "Phv39jO_ENcq"
      },
      "execution_count": 98,
      "outputs": []
    },
    {
      "cell_type": "code",
      "source": [
        "Opt_SVC.fit(x_train, y_train)"
      ],
      "metadata": {
        "colab": {
          "base_uri": "https://localhost:8080/",
          "height": 74
        },
        "id": "Lirff61bEZYQ",
        "outputId": "e449ec1e-ca0a-4b46-bb73-3ee6679af4a4"
      },
      "execution_count": 99,
      "outputs": [
        {
          "output_type": "execute_result",
          "data": {
            "text/plain": [
              "SVC(gamma=0.01)"
            ],
            "text/html": [
              "<style>#sk-container-id-3 {color: black;background-color: white;}#sk-container-id-3 pre{padding: 0;}#sk-container-id-3 div.sk-toggleable {background-color: white;}#sk-container-id-3 label.sk-toggleable__label {cursor: pointer;display: block;width: 100%;margin-bottom: 0;padding: 0.3em;box-sizing: border-box;text-align: center;}#sk-container-id-3 label.sk-toggleable__label-arrow:before {content: \"▸\";float: left;margin-right: 0.25em;color: #696969;}#sk-container-id-3 label.sk-toggleable__label-arrow:hover:before {color: black;}#sk-container-id-3 div.sk-estimator:hover label.sk-toggleable__label-arrow:before {color: black;}#sk-container-id-3 div.sk-toggleable__content {max-height: 0;max-width: 0;overflow: hidden;text-align: left;background-color: #f0f8ff;}#sk-container-id-3 div.sk-toggleable__content pre {margin: 0.2em;color: black;border-radius: 0.25em;background-color: #f0f8ff;}#sk-container-id-3 input.sk-toggleable__control:checked~div.sk-toggleable__content {max-height: 200px;max-width: 100%;overflow: auto;}#sk-container-id-3 input.sk-toggleable__control:checked~label.sk-toggleable__label-arrow:before {content: \"▾\";}#sk-container-id-3 div.sk-estimator input.sk-toggleable__control:checked~label.sk-toggleable__label {background-color: #d4ebff;}#sk-container-id-3 div.sk-label input.sk-toggleable__control:checked~label.sk-toggleable__label {background-color: #d4ebff;}#sk-container-id-3 input.sk-hidden--visually {border: 0;clip: rect(1px 1px 1px 1px);clip: rect(1px, 1px, 1px, 1px);height: 1px;margin: -1px;overflow: hidden;padding: 0;position: absolute;width: 1px;}#sk-container-id-3 div.sk-estimator {font-family: monospace;background-color: #f0f8ff;border: 1px dotted black;border-radius: 0.25em;box-sizing: border-box;margin-bottom: 0.5em;}#sk-container-id-3 div.sk-estimator:hover {background-color: #d4ebff;}#sk-container-id-3 div.sk-parallel-item::after {content: \"\";width: 100%;border-bottom: 1px solid gray;flex-grow: 1;}#sk-container-id-3 div.sk-label:hover label.sk-toggleable__label {background-color: #d4ebff;}#sk-container-id-3 div.sk-serial::before {content: \"\";position: absolute;border-left: 1px solid gray;box-sizing: border-box;top: 0;bottom: 0;left: 50%;z-index: 0;}#sk-container-id-3 div.sk-serial {display: flex;flex-direction: column;align-items: center;background-color: white;padding-right: 0.2em;padding-left: 0.2em;position: relative;}#sk-container-id-3 div.sk-item {position: relative;z-index: 1;}#sk-container-id-3 div.sk-parallel {display: flex;align-items: stretch;justify-content: center;background-color: white;position: relative;}#sk-container-id-3 div.sk-item::before, #sk-container-id-3 div.sk-parallel-item::before {content: \"\";position: absolute;border-left: 1px solid gray;box-sizing: border-box;top: 0;bottom: 0;left: 50%;z-index: -1;}#sk-container-id-3 div.sk-parallel-item {display: flex;flex-direction: column;z-index: 1;position: relative;background-color: white;}#sk-container-id-3 div.sk-parallel-item:first-child::after {align-self: flex-end;width: 50%;}#sk-container-id-3 div.sk-parallel-item:last-child::after {align-self: flex-start;width: 50%;}#sk-container-id-3 div.sk-parallel-item:only-child::after {width: 0;}#sk-container-id-3 div.sk-dashed-wrapped {border: 1px dashed gray;margin: 0 0.4em 0.5em 0.4em;box-sizing: border-box;padding-bottom: 0.4em;background-color: white;}#sk-container-id-3 div.sk-label label {font-family: monospace;font-weight: bold;display: inline-block;line-height: 1.2em;}#sk-container-id-3 div.sk-label-container {text-align: center;}#sk-container-id-3 div.sk-container {/* jupyter's `normalize.less` sets `[hidden] { display: none; }` but bootstrap.min.css set `[hidden] { display: none !important; }` so we also need the `!important` here to be able to override the default hidden behavior on the sphinx rendered scikit-learn.org. See: https://github.com/scikit-learn/scikit-learn/issues/21755 */display: inline-block !important;position: relative;}#sk-container-id-3 div.sk-text-repr-fallback {display: none;}</style><div id=\"sk-container-id-3\" class=\"sk-top-container\"><div class=\"sk-text-repr-fallback\"><pre>SVC(gamma=0.01)</pre><b>In a Jupyter environment, please rerun this cell to show the HTML representation or trust the notebook. <br />On GitHub, the HTML representation is unable to render, please try loading this page with nbviewer.org.</b></div><div class=\"sk-container\" hidden><div class=\"sk-item\"><div class=\"sk-estimator sk-toggleable\"><input class=\"sk-toggleable__control sk-hidden--visually\" id=\"sk-estimator-id-5\" type=\"checkbox\" checked><label for=\"sk-estimator-id-5\" class=\"sk-toggleable__label sk-toggleable__label-arrow\">SVC</label><div class=\"sk-toggleable__content\"><pre>SVC(gamma=0.01)</pre></div></div></div></div></div>"
            ]
          },
          "metadata": {},
          "execution_count": 99
        }
      ]
    },
    {
      "cell_type": "code",
      "source": [
        "opt_pred_SVC=Opt_SVC.predict(x_test)"
      ],
      "metadata": {
        "id": "r-vygIA5EddN"
      },
      "execution_count": 100,
      "outputs": []
    },
    {
      "cell_type": "code",
      "source": [
        "print(f\"accuracy score = {accuracy_score(y_test, opt_pred_SVC)}\")\n",
        "print(f\"F1 score = {f1_score(y_test, opt_pred_SVC)}\")\n",
        "print(f\"conf_mat = \\n{confusion_matrix(y_test, opt_pred_SVC)}\")"
      ],
      "metadata": {
        "colab": {
          "base_uri": "https://localhost:8080/"
        },
        "id": "kOQk60kDEiXl",
        "outputId": "2a93fd80-3ca8-4587-ac3d-e39b9df42553"
      },
      "execution_count": 101,
      "outputs": [
        {
          "output_type": "stream",
          "name": "stdout",
          "text": [
            "accuracy score = 0.6732394366197183\n",
            "F1 score = 0.6424167694204685\n",
            "conf_mat = \n",
            "[[674 198]\n",
            " [382 521]]\n"
          ]
        }
      ]
    },
    {
      "cell_type": "markdown",
      "source": [
        "Gaussian NB"
      ],
      "metadata": {
        "id": "rkwc9Vcd6s8i"
      }
    },
    {
      "cell_type": "code",
      "source": [
        "parameters={\n",
        "    'priors':[None],\n",
        "    'var_smoothing':[1e-9, 1e-5, 1e-7]\n",
        "}\n",
        "\n",
        "RCV_GNB  = RandomizedSearchCV(estimator=GaussianNB(),param_distributions=parameters,cv=10,n_iter=6,verbose=2)"
      ],
      "metadata": {
        "id": "A7ny_Gvw3-ZN"
      },
      "execution_count": 102,
      "outputs": []
    },
    {
      "cell_type": "code",
      "source": [
        "RCV_GNB.fit(x_train, y_train)"
      ],
      "metadata": {
        "colab": {
          "base_uri": "https://localhost:8080/",
          "height": 709
        },
        "id": "rQAI8FUP7uyV",
        "outputId": "5c070097-10d2-46b7-cb07-17f17ad594c4"
      },
      "execution_count": 103,
      "outputs": [
        {
          "output_type": "stream",
          "name": "stdout",
          "text": [
            "Fitting 10 folds for each of 3 candidates, totalling 30 fits\n",
            "[CV] END ...................priors=None, var_smoothing=1e-09; total time=   0.0s\n",
            "[CV] END ...................priors=None, var_smoothing=1e-09; total time=   0.0s\n",
            "[CV] END ...................priors=None, var_smoothing=1e-09; total time=   0.0s\n",
            "[CV] END ...................priors=None, var_smoothing=1e-09; total time=   0.0s\n",
            "[CV] END ...................priors=None, var_smoothing=1e-09; total time=   0.0s\n",
            "[CV] END ...................priors=None, var_smoothing=1e-09; total time=   0.0s\n",
            "[CV] END ...................priors=None, var_smoothing=1e-09; total time=   0.0s\n",
            "[CV] END ...................priors=None, var_smoothing=1e-09; total time=   0.0s\n",
            "[CV] END ...................priors=None, var_smoothing=1e-09; total time=   0.0s\n",
            "[CV] END ...................priors=None, var_smoothing=1e-09; total time=   0.0s\n",
            "[CV] END ...................priors=None, var_smoothing=1e-05; total time=   0.0s\n",
            "[CV] END ...................priors=None, var_smoothing=1e-05; total time=   0.0s\n",
            "[CV] END ...................priors=None, var_smoothing=1e-05; total time=   0.0s\n",
            "[CV] END ...................priors=None, var_smoothing=1e-05; total time=   0.0s\n",
            "[CV] END ...................priors=None, var_smoothing=1e-05; total time=   0.0s\n",
            "[CV] END ...................priors=None, var_smoothing=1e-05; total time=   0.0s\n",
            "[CV] END ...................priors=None, var_smoothing=1e-05; total time=   0.0s\n",
            "[CV] END ...................priors=None, var_smoothing=1e-05; total time=   0.0s\n",
            "[CV] END ...................priors=None, var_smoothing=1e-05; total time=   0.0s\n",
            "[CV] END ...................priors=None, var_smoothing=1e-05; total time=   0.0s\n",
            "[CV] END ...................priors=None, var_smoothing=1e-07; total time=   0.0s\n",
            "[CV] END ...................priors=None, var_smoothing=1e-07; total time=   0.0s\n",
            "[CV] END ...................priors=None, var_smoothing=1e-07; total time=   0.0s\n",
            "[CV] END ...................priors=None, var_smoothing=1e-07; total time=   0.0s\n",
            "[CV] END ...................priors=None, var_smoothing=1e-07; total time=   0.0s\n",
            "[CV] END ...................priors=None, var_smoothing=1e-07; total time=   0.0s\n",
            "[CV] END ...................priors=None, var_smoothing=1e-07; total time=   0.0s\n",
            "[CV] END ...................priors=None, var_smoothing=1e-07; total time=   0.0s\n",
            "[CV] END ...................priors=None, var_smoothing=1e-07; total time=   0.0s\n",
            "[CV] END ...................priors=None, var_smoothing=1e-07; total time=   0.0s\n"
          ]
        },
        {
          "output_type": "stream",
          "name": "stderr",
          "text": [
            "/usr/local/lib/python3.10/dist-packages/sklearn/model_selection/_search.py:305: UserWarning: The total space of parameters 3 is smaller than n_iter=6. Running 3 iterations. For exhaustive searches, use GridSearchCV.\n",
            "  warnings.warn(\n"
          ]
        },
        {
          "output_type": "execute_result",
          "data": {
            "text/plain": [
              "RandomizedSearchCV(cv=10, estimator=GaussianNB(), n_iter=6,\n",
              "                   param_distributions={'priors': [None],\n",
              "                                        'var_smoothing': [1e-09, 1e-05, 1e-07]},\n",
              "                   verbose=2)"
            ],
            "text/html": [
              "<style>#sk-container-id-4 {color: black;background-color: white;}#sk-container-id-4 pre{padding: 0;}#sk-container-id-4 div.sk-toggleable {background-color: white;}#sk-container-id-4 label.sk-toggleable__label {cursor: pointer;display: block;width: 100%;margin-bottom: 0;padding: 0.3em;box-sizing: border-box;text-align: center;}#sk-container-id-4 label.sk-toggleable__label-arrow:before {content: \"▸\";float: left;margin-right: 0.25em;color: #696969;}#sk-container-id-4 label.sk-toggleable__label-arrow:hover:before {color: black;}#sk-container-id-4 div.sk-estimator:hover label.sk-toggleable__label-arrow:before {color: black;}#sk-container-id-4 div.sk-toggleable__content {max-height: 0;max-width: 0;overflow: hidden;text-align: left;background-color: #f0f8ff;}#sk-container-id-4 div.sk-toggleable__content pre {margin: 0.2em;color: black;border-radius: 0.25em;background-color: #f0f8ff;}#sk-container-id-4 input.sk-toggleable__control:checked~div.sk-toggleable__content {max-height: 200px;max-width: 100%;overflow: auto;}#sk-container-id-4 input.sk-toggleable__control:checked~label.sk-toggleable__label-arrow:before {content: \"▾\";}#sk-container-id-4 div.sk-estimator input.sk-toggleable__control:checked~label.sk-toggleable__label {background-color: #d4ebff;}#sk-container-id-4 div.sk-label input.sk-toggleable__control:checked~label.sk-toggleable__label {background-color: #d4ebff;}#sk-container-id-4 input.sk-hidden--visually {border: 0;clip: rect(1px 1px 1px 1px);clip: rect(1px, 1px, 1px, 1px);height: 1px;margin: -1px;overflow: hidden;padding: 0;position: absolute;width: 1px;}#sk-container-id-4 div.sk-estimator {font-family: monospace;background-color: #f0f8ff;border: 1px dotted black;border-radius: 0.25em;box-sizing: border-box;margin-bottom: 0.5em;}#sk-container-id-4 div.sk-estimator:hover {background-color: #d4ebff;}#sk-container-id-4 div.sk-parallel-item::after {content: \"\";width: 100%;border-bottom: 1px solid gray;flex-grow: 1;}#sk-container-id-4 div.sk-label:hover label.sk-toggleable__label {background-color: #d4ebff;}#sk-container-id-4 div.sk-serial::before {content: \"\";position: absolute;border-left: 1px solid gray;box-sizing: border-box;top: 0;bottom: 0;left: 50%;z-index: 0;}#sk-container-id-4 div.sk-serial {display: flex;flex-direction: column;align-items: center;background-color: white;padding-right: 0.2em;padding-left: 0.2em;position: relative;}#sk-container-id-4 div.sk-item {position: relative;z-index: 1;}#sk-container-id-4 div.sk-parallel {display: flex;align-items: stretch;justify-content: center;background-color: white;position: relative;}#sk-container-id-4 div.sk-item::before, #sk-container-id-4 div.sk-parallel-item::before {content: \"\";position: absolute;border-left: 1px solid gray;box-sizing: border-box;top: 0;bottom: 0;left: 50%;z-index: -1;}#sk-container-id-4 div.sk-parallel-item {display: flex;flex-direction: column;z-index: 1;position: relative;background-color: white;}#sk-container-id-4 div.sk-parallel-item:first-child::after {align-self: flex-end;width: 50%;}#sk-container-id-4 div.sk-parallel-item:last-child::after {align-self: flex-start;width: 50%;}#sk-container-id-4 div.sk-parallel-item:only-child::after {width: 0;}#sk-container-id-4 div.sk-dashed-wrapped {border: 1px dashed gray;margin: 0 0.4em 0.5em 0.4em;box-sizing: border-box;padding-bottom: 0.4em;background-color: white;}#sk-container-id-4 div.sk-label label {font-family: monospace;font-weight: bold;display: inline-block;line-height: 1.2em;}#sk-container-id-4 div.sk-label-container {text-align: center;}#sk-container-id-4 div.sk-container {/* jupyter's `normalize.less` sets `[hidden] { display: none; }` but bootstrap.min.css set `[hidden] { display: none !important; }` so we also need the `!important` here to be able to override the default hidden behavior on the sphinx rendered scikit-learn.org. See: https://github.com/scikit-learn/scikit-learn/issues/21755 */display: inline-block !important;position: relative;}#sk-container-id-4 div.sk-text-repr-fallback {display: none;}</style><div id=\"sk-container-id-4\" class=\"sk-top-container\"><div class=\"sk-text-repr-fallback\"><pre>RandomizedSearchCV(cv=10, estimator=GaussianNB(), n_iter=6,\n",
              "                   param_distributions={&#x27;priors&#x27;: [None],\n",
              "                                        &#x27;var_smoothing&#x27;: [1e-09, 1e-05, 1e-07]},\n",
              "                   verbose=2)</pre><b>In a Jupyter environment, please rerun this cell to show the HTML representation or trust the notebook. <br />On GitHub, the HTML representation is unable to render, please try loading this page with nbviewer.org.</b></div><div class=\"sk-container\" hidden><div class=\"sk-item sk-dashed-wrapped\"><div class=\"sk-label-container\"><div class=\"sk-label sk-toggleable\"><input class=\"sk-toggleable__control sk-hidden--visually\" id=\"sk-estimator-id-6\" type=\"checkbox\" ><label for=\"sk-estimator-id-6\" class=\"sk-toggleable__label sk-toggleable__label-arrow\">RandomizedSearchCV</label><div class=\"sk-toggleable__content\"><pre>RandomizedSearchCV(cv=10, estimator=GaussianNB(), n_iter=6,\n",
              "                   param_distributions={&#x27;priors&#x27;: [None],\n",
              "                                        &#x27;var_smoothing&#x27;: [1e-09, 1e-05, 1e-07]},\n",
              "                   verbose=2)</pre></div></div></div><div class=\"sk-parallel\"><div class=\"sk-parallel-item\"><div class=\"sk-item\"><div class=\"sk-label-container\"><div class=\"sk-label sk-toggleable\"><input class=\"sk-toggleable__control sk-hidden--visually\" id=\"sk-estimator-id-7\" type=\"checkbox\" ><label for=\"sk-estimator-id-7\" class=\"sk-toggleable__label sk-toggleable__label-arrow\">estimator: GaussianNB</label><div class=\"sk-toggleable__content\"><pre>GaussianNB()</pre></div></div></div><div class=\"sk-serial\"><div class=\"sk-item\"><div class=\"sk-estimator sk-toggleable\"><input class=\"sk-toggleable__control sk-hidden--visually\" id=\"sk-estimator-id-8\" type=\"checkbox\" ><label for=\"sk-estimator-id-8\" class=\"sk-toggleable__label sk-toggleable__label-arrow\">GaussianNB</label><div class=\"sk-toggleable__content\"><pre>GaussianNB()</pre></div></div></div></div></div></div></div></div></div></div>"
            ]
          },
          "metadata": {},
          "execution_count": 103
        }
      ]
    },
    {
      "cell_type": "code",
      "source": [
        "RCV_GNB.best_score_"
      ],
      "metadata": {
        "colab": {
          "base_uri": "https://localhost:8080/"
        },
        "id": "59JKvA1g72Rm",
        "outputId": "01e98a65-a280-484d-f936-ead9bf9e5779"
      },
      "execution_count": 104,
      "outputs": [
        {
          "output_type": "execute_result",
          "data": {
            "text/plain": [
              "0.6630970023242416"
            ]
          },
          "metadata": {},
          "execution_count": 104
        }
      ]
    },
    {
      "cell_type": "code",
      "source": [
        "RCV_GNB.best_params_"
      ],
      "metadata": {
        "colab": {
          "base_uri": "https://localhost:8080/"
        },
        "id": "tkY1N4BA8Que",
        "outputId": "57f334fa-9485-460c-cbd8-c7517f7f48b5"
      },
      "execution_count": 105,
      "outputs": [
        {
          "output_type": "execute_result",
          "data": {
            "text/plain": [
              "{'var_smoothing': 1e-09, 'priors': None}"
            ]
          },
          "metadata": {},
          "execution_count": 105
        }
      ]
    },
    {
      "cell_type": "code",
      "source": [
        "opt_GNB=GaussianNB()"
      ],
      "metadata": {
        "id": "UyLUeOlTGN_q"
      },
      "execution_count": 106,
      "outputs": []
    },
    {
      "cell_type": "code",
      "source": [
        "opt_GNB.fit(x_train, y_train)"
      ],
      "metadata": {
        "colab": {
          "base_uri": "https://localhost:8080/",
          "height": 74
        },
        "id": "Yjj2OUc7GXUp",
        "outputId": "d37520c7-6034-4677-acdb-3f3249465e6a"
      },
      "execution_count": 107,
      "outputs": [
        {
          "output_type": "execute_result",
          "data": {
            "text/plain": [
              "GaussianNB()"
            ],
            "text/html": [
              "<style>#sk-container-id-5 {color: black;background-color: white;}#sk-container-id-5 pre{padding: 0;}#sk-container-id-5 div.sk-toggleable {background-color: white;}#sk-container-id-5 label.sk-toggleable__label {cursor: pointer;display: block;width: 100%;margin-bottom: 0;padding: 0.3em;box-sizing: border-box;text-align: center;}#sk-container-id-5 label.sk-toggleable__label-arrow:before {content: \"▸\";float: left;margin-right: 0.25em;color: #696969;}#sk-container-id-5 label.sk-toggleable__label-arrow:hover:before {color: black;}#sk-container-id-5 div.sk-estimator:hover label.sk-toggleable__label-arrow:before {color: black;}#sk-container-id-5 div.sk-toggleable__content {max-height: 0;max-width: 0;overflow: hidden;text-align: left;background-color: #f0f8ff;}#sk-container-id-5 div.sk-toggleable__content pre {margin: 0.2em;color: black;border-radius: 0.25em;background-color: #f0f8ff;}#sk-container-id-5 input.sk-toggleable__control:checked~div.sk-toggleable__content {max-height: 200px;max-width: 100%;overflow: auto;}#sk-container-id-5 input.sk-toggleable__control:checked~label.sk-toggleable__label-arrow:before {content: \"▾\";}#sk-container-id-5 div.sk-estimator input.sk-toggleable__control:checked~label.sk-toggleable__label {background-color: #d4ebff;}#sk-container-id-5 div.sk-label input.sk-toggleable__control:checked~label.sk-toggleable__label {background-color: #d4ebff;}#sk-container-id-5 input.sk-hidden--visually {border: 0;clip: rect(1px 1px 1px 1px);clip: rect(1px, 1px, 1px, 1px);height: 1px;margin: -1px;overflow: hidden;padding: 0;position: absolute;width: 1px;}#sk-container-id-5 div.sk-estimator {font-family: monospace;background-color: #f0f8ff;border: 1px dotted black;border-radius: 0.25em;box-sizing: border-box;margin-bottom: 0.5em;}#sk-container-id-5 div.sk-estimator:hover {background-color: #d4ebff;}#sk-container-id-5 div.sk-parallel-item::after {content: \"\";width: 100%;border-bottom: 1px solid gray;flex-grow: 1;}#sk-container-id-5 div.sk-label:hover label.sk-toggleable__label {background-color: #d4ebff;}#sk-container-id-5 div.sk-serial::before {content: \"\";position: absolute;border-left: 1px solid gray;box-sizing: border-box;top: 0;bottom: 0;left: 50%;z-index: 0;}#sk-container-id-5 div.sk-serial {display: flex;flex-direction: column;align-items: center;background-color: white;padding-right: 0.2em;padding-left: 0.2em;position: relative;}#sk-container-id-5 div.sk-item {position: relative;z-index: 1;}#sk-container-id-5 div.sk-parallel {display: flex;align-items: stretch;justify-content: center;background-color: white;position: relative;}#sk-container-id-5 div.sk-item::before, #sk-container-id-5 div.sk-parallel-item::before {content: \"\";position: absolute;border-left: 1px solid gray;box-sizing: border-box;top: 0;bottom: 0;left: 50%;z-index: -1;}#sk-container-id-5 div.sk-parallel-item {display: flex;flex-direction: column;z-index: 1;position: relative;background-color: white;}#sk-container-id-5 div.sk-parallel-item:first-child::after {align-self: flex-end;width: 50%;}#sk-container-id-5 div.sk-parallel-item:last-child::after {align-self: flex-start;width: 50%;}#sk-container-id-5 div.sk-parallel-item:only-child::after {width: 0;}#sk-container-id-5 div.sk-dashed-wrapped {border: 1px dashed gray;margin: 0 0.4em 0.5em 0.4em;box-sizing: border-box;padding-bottom: 0.4em;background-color: white;}#sk-container-id-5 div.sk-label label {font-family: monospace;font-weight: bold;display: inline-block;line-height: 1.2em;}#sk-container-id-5 div.sk-label-container {text-align: center;}#sk-container-id-5 div.sk-container {/* jupyter's `normalize.less` sets `[hidden] { display: none; }` but bootstrap.min.css set `[hidden] { display: none !important; }` so we also need the `!important` here to be able to override the default hidden behavior on the sphinx rendered scikit-learn.org. See: https://github.com/scikit-learn/scikit-learn/issues/21755 */display: inline-block !important;position: relative;}#sk-container-id-5 div.sk-text-repr-fallback {display: none;}</style><div id=\"sk-container-id-5\" class=\"sk-top-container\"><div class=\"sk-text-repr-fallback\"><pre>GaussianNB()</pre><b>In a Jupyter environment, please rerun this cell to show the HTML representation or trust the notebook. <br />On GitHub, the HTML representation is unable to render, please try loading this page with nbviewer.org.</b></div><div class=\"sk-container\" hidden><div class=\"sk-item\"><div class=\"sk-estimator sk-toggleable\"><input class=\"sk-toggleable__control sk-hidden--visually\" id=\"sk-estimator-id-9\" type=\"checkbox\" checked><label for=\"sk-estimator-id-9\" class=\"sk-toggleable__label sk-toggleable__label-arrow\">GaussianNB</label><div class=\"sk-toggleable__content\"><pre>GaussianNB()</pre></div></div></div></div></div>"
            ]
          },
          "metadata": {},
          "execution_count": 107
        }
      ]
    },
    {
      "cell_type": "code",
      "source": [
        "opt_pred_GNB=opt_GNB.predict(x_test)"
      ],
      "metadata": {
        "id": "SB3za7xcGbGi"
      },
      "execution_count": 108,
      "outputs": []
    },
    {
      "cell_type": "code",
      "source": [
        "print(f\"accuracy score = {accuracy_score(y_test, opt_pred_GNB)}\")\n",
        "print(f\"F1 score = {f1_score(y_test, opt_pred_GNB)}\")\n",
        "print(f\"conf_mat = \\n{confusion_matrix(y_test, opt_pred_GNB)}\")"
      ],
      "metadata": {
        "colab": {
          "base_uri": "https://localhost:8080/"
        },
        "id": "ybiGu1KpGgrC",
        "outputId": "b85b7364-46da-42ec-9a16-3c5a8dc138f0"
      },
      "execution_count": 109,
      "outputs": [
        {
          "output_type": "stream",
          "name": "stdout",
          "text": [
            "accuracy score = 0.6698591549295775\n",
            "F1 score = 0.6536643026004728\n",
            "conf_mat = \n",
            "[[636 236]\n",
            " [350 553]]\n"
          ]
        }
      ]
    },
    {
      "cell_type": "markdown",
      "source": [
        "XG Boost"
      ],
      "metadata": {
        "id": "bAOM6e5A9Xm6"
      }
    },
    {
      "cell_type": "code",
      "source": [
        "parameters={\n",
        "    'booster':['gbtree','gblinear','dart'],\n",
        "}\n",
        "\n",
        "RVC_XGB = RandomizedSearchCV(estimator=xgb.XGBClassifier(),param_distributions=parameters,cv=10,n_iter=3,verbose=2)"
      ],
      "metadata": {
        "id": "77y_kjze9O12"
      },
      "execution_count": 110,
      "outputs": []
    },
    {
      "cell_type": "code",
      "source": [
        "RVC_XGB.fit(x_train, y_train)"
      ],
      "metadata": {
        "colab": {
          "base_uri": "https://localhost:8080/",
          "height": 655
        },
        "id": "L4W2MN2x-2eX",
        "outputId": "7c804cd0-f06f-4303-d719-02c69efc300c"
      },
      "execution_count": 111,
      "outputs": [
        {
          "output_type": "stream",
          "name": "stdout",
          "text": [
            "Fitting 10 folds for each of 3 candidates, totalling 30 fits\n",
            "[CV] END .....................................booster=gbtree; total time=   0.1s\n",
            "[CV] END .....................................booster=gbtree; total time=   0.1s\n",
            "[CV] END .....................................booster=gbtree; total time=   0.1s\n",
            "[CV] END .....................................booster=gbtree; total time=   0.1s\n",
            "[CV] END .....................................booster=gbtree; total time=   0.1s\n",
            "[CV] END .....................................booster=gbtree; total time=   0.1s\n",
            "[CV] END .....................................booster=gbtree; total time=   0.1s\n",
            "[CV] END .....................................booster=gbtree; total time=   0.1s\n",
            "[CV] END .....................................booster=gbtree; total time=   0.1s\n",
            "[CV] END .....................................booster=gbtree; total time=   0.1s\n",
            "[CV] END ...................................booster=gblinear; total time=   0.1s\n",
            "[CV] END ...................................booster=gblinear; total time=   0.0s\n",
            "[CV] END ...................................booster=gblinear; total time=   0.1s\n",
            "[CV] END ...................................booster=gblinear; total time=   0.0s\n",
            "[CV] END ...................................booster=gblinear; total time=   0.1s\n",
            "[CV] END ...................................booster=gblinear; total time=   0.0s\n",
            "[CV] END ...................................booster=gblinear; total time=   0.1s\n",
            "[CV] END ...................................booster=gblinear; total time=   0.1s\n",
            "[CV] END ...................................booster=gblinear; total time=   0.1s\n",
            "[CV] END ...................................booster=gblinear; total time=   0.0s\n",
            "[CV] END .......................................booster=dart; total time=   2.6s\n",
            "[CV] END .......................................booster=dart; total time=   2.5s\n",
            "[CV] END .......................................booster=dart; total time=   2.6s\n",
            "[CV] END .......................................booster=dart; total time=   4.3s\n",
            "[CV] END .......................................booster=dart; total time=   2.5s\n",
            "[CV] END .......................................booster=dart; total time=   2.5s\n",
            "[CV] END .......................................booster=dart; total time=   2.5s\n",
            "[CV] END .......................................booster=dart; total time=   9.4s\n",
            "[CV] END .......................................booster=dart; total time=   2.5s\n",
            "[CV] END .......................................booster=dart; total time=   3.4s\n"
          ]
        },
        {
          "output_type": "execute_result",
          "data": {
            "text/plain": [
              "RandomizedSearchCV(cv=10,\n",
              "                   estimator=XGBClassifier(base_score=None, booster=None,\n",
              "                                           callbacks=None,\n",
              "                                           colsample_bylevel=None,\n",
              "                                           colsample_bynode=None,\n",
              "                                           colsample_bytree=None, device=None,\n",
              "                                           early_stopping_rounds=None,\n",
              "                                           enable_categorical=False,\n",
              "                                           eval_metric=None, feature_types=None,\n",
              "                                           gamma=None, grow_policy=None,\n",
              "                                           importance_type=None,\n",
              "                                           interaction_constraints=None,\n",
              "                                           learning_rate=None, max_bin=None,\n",
              "                                           max_cat_threshold=None,\n",
              "                                           max_cat_to_onehot=None,\n",
              "                                           max_delta_step=None, max_depth=None,\n",
              "                                           max_leaves=None,\n",
              "                                           min_child_weight=None, missing=nan,\n",
              "                                           monotone_constraints=None,\n",
              "                                           multi_strategy=None,\n",
              "                                           n_estimators=None, n_jobs=None,\n",
              "                                           num_parallel_tree=None,\n",
              "                                           random_state=None, ...),\n",
              "                   n_iter=3,\n",
              "                   param_distributions={'booster': ['gbtree', 'gblinear',\n",
              "                                                    'dart']},\n",
              "                   verbose=2)"
            ],
            "text/html": [
              "<style>#sk-container-id-6 {color: black;background-color: white;}#sk-container-id-6 pre{padding: 0;}#sk-container-id-6 div.sk-toggleable {background-color: white;}#sk-container-id-6 label.sk-toggleable__label {cursor: pointer;display: block;width: 100%;margin-bottom: 0;padding: 0.3em;box-sizing: border-box;text-align: center;}#sk-container-id-6 label.sk-toggleable__label-arrow:before {content: \"▸\";float: left;margin-right: 0.25em;color: #696969;}#sk-container-id-6 label.sk-toggleable__label-arrow:hover:before {color: black;}#sk-container-id-6 div.sk-estimator:hover label.sk-toggleable__label-arrow:before {color: black;}#sk-container-id-6 div.sk-toggleable__content {max-height: 0;max-width: 0;overflow: hidden;text-align: left;background-color: #f0f8ff;}#sk-container-id-6 div.sk-toggleable__content pre {margin: 0.2em;color: black;border-radius: 0.25em;background-color: #f0f8ff;}#sk-container-id-6 input.sk-toggleable__control:checked~div.sk-toggleable__content {max-height: 200px;max-width: 100%;overflow: auto;}#sk-container-id-6 input.sk-toggleable__control:checked~label.sk-toggleable__label-arrow:before {content: \"▾\";}#sk-container-id-6 div.sk-estimator input.sk-toggleable__control:checked~label.sk-toggleable__label {background-color: #d4ebff;}#sk-container-id-6 div.sk-label input.sk-toggleable__control:checked~label.sk-toggleable__label {background-color: #d4ebff;}#sk-container-id-6 input.sk-hidden--visually {border: 0;clip: rect(1px 1px 1px 1px);clip: rect(1px, 1px, 1px, 1px);height: 1px;margin: -1px;overflow: hidden;padding: 0;position: absolute;width: 1px;}#sk-container-id-6 div.sk-estimator {font-family: monospace;background-color: #f0f8ff;border: 1px dotted black;border-radius: 0.25em;box-sizing: border-box;margin-bottom: 0.5em;}#sk-container-id-6 div.sk-estimator:hover {background-color: #d4ebff;}#sk-container-id-6 div.sk-parallel-item::after {content: \"\";width: 100%;border-bottom: 1px solid gray;flex-grow: 1;}#sk-container-id-6 div.sk-label:hover label.sk-toggleable__label {background-color: #d4ebff;}#sk-container-id-6 div.sk-serial::before {content: \"\";position: absolute;border-left: 1px solid gray;box-sizing: border-box;top: 0;bottom: 0;left: 50%;z-index: 0;}#sk-container-id-6 div.sk-serial {display: flex;flex-direction: column;align-items: center;background-color: white;padding-right: 0.2em;padding-left: 0.2em;position: relative;}#sk-container-id-6 div.sk-item {position: relative;z-index: 1;}#sk-container-id-6 div.sk-parallel {display: flex;align-items: stretch;justify-content: center;background-color: white;position: relative;}#sk-container-id-6 div.sk-item::before, #sk-container-id-6 div.sk-parallel-item::before {content: \"\";position: absolute;border-left: 1px solid gray;box-sizing: border-box;top: 0;bottom: 0;left: 50%;z-index: -1;}#sk-container-id-6 div.sk-parallel-item {display: flex;flex-direction: column;z-index: 1;position: relative;background-color: white;}#sk-container-id-6 div.sk-parallel-item:first-child::after {align-self: flex-end;width: 50%;}#sk-container-id-6 div.sk-parallel-item:last-child::after {align-self: flex-start;width: 50%;}#sk-container-id-6 div.sk-parallel-item:only-child::after {width: 0;}#sk-container-id-6 div.sk-dashed-wrapped {border: 1px dashed gray;margin: 0 0.4em 0.5em 0.4em;box-sizing: border-box;padding-bottom: 0.4em;background-color: white;}#sk-container-id-6 div.sk-label label {font-family: monospace;font-weight: bold;display: inline-block;line-height: 1.2em;}#sk-container-id-6 div.sk-label-container {text-align: center;}#sk-container-id-6 div.sk-container {/* jupyter's `normalize.less` sets `[hidden] { display: none; }` but bootstrap.min.css set `[hidden] { display: none !important; }` so we also need the `!important` here to be able to override the default hidden behavior on the sphinx rendered scikit-learn.org. See: https://github.com/scikit-learn/scikit-learn/issues/21755 */display: inline-block !important;position: relative;}#sk-container-id-6 div.sk-text-repr-fallback {display: none;}</style><div id=\"sk-container-id-6\" class=\"sk-top-container\"><div class=\"sk-text-repr-fallback\"><pre>RandomizedSearchCV(cv=10,\n",
              "                   estimator=XGBClassifier(base_score=None, booster=None,\n",
              "                                           callbacks=None,\n",
              "                                           colsample_bylevel=None,\n",
              "                                           colsample_bynode=None,\n",
              "                                           colsample_bytree=None, device=None,\n",
              "                                           early_stopping_rounds=None,\n",
              "                                           enable_categorical=False,\n",
              "                                           eval_metric=None, feature_types=None,\n",
              "                                           gamma=None, grow_policy=None,\n",
              "                                           importance_type=None,\n",
              "                                           interaction_constraints=None,\n",
              "                                           learning_rate=None, max_bin=None,\n",
              "                                           max_cat_threshold=None,\n",
              "                                           max_cat_to_onehot=None,\n",
              "                                           max_delta_step=None, max_depth=None,\n",
              "                                           max_leaves=None,\n",
              "                                           min_child_weight=None, missing=nan,\n",
              "                                           monotone_constraints=None,\n",
              "                                           multi_strategy=None,\n",
              "                                           n_estimators=None, n_jobs=None,\n",
              "                                           num_parallel_tree=None,\n",
              "                                           random_state=None, ...),\n",
              "                   n_iter=3,\n",
              "                   param_distributions={&#x27;booster&#x27;: [&#x27;gbtree&#x27;, &#x27;gblinear&#x27;,\n",
              "                                                    &#x27;dart&#x27;]},\n",
              "                   verbose=2)</pre><b>In a Jupyter environment, please rerun this cell to show the HTML representation or trust the notebook. <br />On GitHub, the HTML representation is unable to render, please try loading this page with nbviewer.org.</b></div><div class=\"sk-container\" hidden><div class=\"sk-item sk-dashed-wrapped\"><div class=\"sk-label-container\"><div class=\"sk-label sk-toggleable\"><input class=\"sk-toggleable__control sk-hidden--visually\" id=\"sk-estimator-id-10\" type=\"checkbox\" ><label for=\"sk-estimator-id-10\" class=\"sk-toggleable__label sk-toggleable__label-arrow\">RandomizedSearchCV</label><div class=\"sk-toggleable__content\"><pre>RandomizedSearchCV(cv=10,\n",
              "                   estimator=XGBClassifier(base_score=None, booster=None,\n",
              "                                           callbacks=None,\n",
              "                                           colsample_bylevel=None,\n",
              "                                           colsample_bynode=None,\n",
              "                                           colsample_bytree=None, device=None,\n",
              "                                           early_stopping_rounds=None,\n",
              "                                           enable_categorical=False,\n",
              "                                           eval_metric=None, feature_types=None,\n",
              "                                           gamma=None, grow_policy=None,\n",
              "                                           importance_type=None,\n",
              "                                           interaction_constraints=None,\n",
              "                                           learning_rate=None, max_bin=None,\n",
              "                                           max_cat_threshold=None,\n",
              "                                           max_cat_to_onehot=None,\n",
              "                                           max_delta_step=None, max_depth=None,\n",
              "                                           max_leaves=None,\n",
              "                                           min_child_weight=None, missing=nan,\n",
              "                                           monotone_constraints=None,\n",
              "                                           multi_strategy=None,\n",
              "                                           n_estimators=None, n_jobs=None,\n",
              "                                           num_parallel_tree=None,\n",
              "                                           random_state=None, ...),\n",
              "                   n_iter=3,\n",
              "                   param_distributions={&#x27;booster&#x27;: [&#x27;gbtree&#x27;, &#x27;gblinear&#x27;,\n",
              "                                                    &#x27;dart&#x27;]},\n",
              "                   verbose=2)</pre></div></div></div><div class=\"sk-parallel\"><div class=\"sk-parallel-item\"><div class=\"sk-item\"><div class=\"sk-label-container\"><div class=\"sk-label sk-toggleable\"><input class=\"sk-toggleable__control sk-hidden--visually\" id=\"sk-estimator-id-11\" type=\"checkbox\" ><label for=\"sk-estimator-id-11\" class=\"sk-toggleable__label sk-toggleable__label-arrow\">estimator: XGBClassifier</label><div class=\"sk-toggleable__content\"><pre>XGBClassifier(base_score=None, booster=None, callbacks=None,\n",
              "              colsample_bylevel=None, colsample_bynode=None,\n",
              "              colsample_bytree=None, device=None, early_stopping_rounds=None,\n",
              "              enable_categorical=False, eval_metric=None, feature_types=None,\n",
              "              gamma=None, grow_policy=None, importance_type=None,\n",
              "              interaction_constraints=None, learning_rate=None, max_bin=None,\n",
              "              max_cat_threshold=None, max_cat_to_onehot=None,\n",
              "              max_delta_step=None, max_depth=None, max_leaves=None,\n",
              "              min_child_weight=None, missing=nan, monotone_constraints=None,\n",
              "              multi_strategy=None, n_estimators=None, n_jobs=None,\n",
              "              num_parallel_tree=None, random_state=None, ...)</pre></div></div></div><div class=\"sk-serial\"><div class=\"sk-item\"><div class=\"sk-estimator sk-toggleable\"><input class=\"sk-toggleable__control sk-hidden--visually\" id=\"sk-estimator-id-12\" type=\"checkbox\" ><label for=\"sk-estimator-id-12\" class=\"sk-toggleable__label sk-toggleable__label-arrow\">XGBClassifier</label><div class=\"sk-toggleable__content\"><pre>XGBClassifier(base_score=None, booster=None, callbacks=None,\n",
              "              colsample_bylevel=None, colsample_bynode=None,\n",
              "              colsample_bytree=None, device=None, early_stopping_rounds=None,\n",
              "              enable_categorical=False, eval_metric=None, feature_types=None,\n",
              "              gamma=None, grow_policy=None, importance_type=None,\n",
              "              interaction_constraints=None, learning_rate=None, max_bin=None,\n",
              "              max_cat_threshold=None, max_cat_to_onehot=None,\n",
              "              max_delta_step=None, max_depth=None, max_leaves=None,\n",
              "              min_child_weight=None, missing=nan, monotone_constraints=None,\n",
              "              multi_strategy=None, n_estimators=None, n_jobs=None,\n",
              "              num_parallel_tree=None, random_state=None, ...)</pre></div></div></div></div></div></div></div></div></div></div>"
            ]
          },
          "metadata": {},
          "execution_count": 111
        }
      ]
    },
    {
      "cell_type": "code",
      "source": [
        "RVC_XGB.best_score_"
      ],
      "metadata": {
        "colab": {
          "base_uri": "https://localhost:8080/"
        },
        "id": "O_Ifr9z8_Bwh",
        "outputId": "23828989-7838-437f-b9a6-c470db24b7ef"
      },
      "execution_count": 112,
      "outputs": [
        {
          "output_type": "execute_result",
          "data": {
            "text/plain": [
              "0.667466775263712"
            ]
          },
          "metadata": {},
          "execution_count": 112
        }
      ]
    },
    {
      "cell_type": "code",
      "source": [
        "RVC_XGB.best_params_"
      ],
      "metadata": {
        "colab": {
          "base_uri": "https://localhost:8080/"
        },
        "id": "cBOBILKm_GvM",
        "outputId": "4099a3ee-a144-4e13-ac3d-466f24536e42"
      },
      "execution_count": 113,
      "outputs": [
        {
          "output_type": "execute_result",
          "data": {
            "text/plain": [
              "{'booster': 'gbtree'}"
            ]
          },
          "metadata": {},
          "execution_count": 113
        }
      ]
    },
    {
      "cell_type": "markdown",
      "source": [
        "KNN"
      ],
      "metadata": {
        "id": "Q4-ywSYi_qJT"
      }
    },
    {
      "cell_type": "code",
      "source": [
        "parameters={\n",
        "    'n_neighbors':[23,25,27,29],\n",
        "    'weights':['uniform',],\n",
        "    'algorithm':['auto'],\n",
        "    'p':[2]\n",
        "}\n",
        "\n",
        "RVC_KNN = RandomizedSearchCV(estimator=KNeighborsClassifier(),param_distributions=parameters,cv=6,n_iter=14,verbose=2)"
      ],
      "metadata": {
        "id": "qpW1MQtm_I3a"
      },
      "execution_count": 114,
      "outputs": []
    },
    {
      "cell_type": "code",
      "source": [
        "RVC_KNN.fit(x_train,y_train)"
      ],
      "metadata": {
        "colab": {
          "base_uri": "https://localhost:8080/",
          "height": 605
        },
        "id": "LA9_r-AVAqCG",
        "outputId": "c11e1e2e-8760-4089-cdd2-21b2fb100971"
      },
      "execution_count": 115,
      "outputs": [
        {
          "output_type": "stream",
          "name": "stderr",
          "text": [
            "/usr/local/lib/python3.10/dist-packages/sklearn/model_selection/_search.py:305: UserWarning: The total space of parameters 4 is smaller than n_iter=14. Running 4 iterations. For exhaustive searches, use GridSearchCV.\n",
            "  warnings.warn(\n"
          ]
        },
        {
          "output_type": "stream",
          "name": "stdout",
          "text": [
            "Fitting 6 folds for each of 4 candidates, totalling 24 fits\n",
            "[CV] END algorithm=auto, n_neighbors=23, p=2, weights=uniform; total time=   0.1s\n",
            "[CV] END algorithm=auto, n_neighbors=23, p=2, weights=uniform; total time=   0.1s\n",
            "[CV] END algorithm=auto, n_neighbors=23, p=2, weights=uniform; total time=   0.1s\n",
            "[CV] END algorithm=auto, n_neighbors=23, p=2, weights=uniform; total time=   0.1s\n",
            "[CV] END algorithm=auto, n_neighbors=23, p=2, weights=uniform; total time=   0.1s\n",
            "[CV] END algorithm=auto, n_neighbors=23, p=2, weights=uniform; total time=   0.1s\n",
            "[CV] END algorithm=auto, n_neighbors=25, p=2, weights=uniform; total time=   0.1s\n",
            "[CV] END algorithm=auto, n_neighbors=25, p=2, weights=uniform; total time=   0.2s\n",
            "[CV] END algorithm=auto, n_neighbors=25, p=2, weights=uniform; total time=   0.1s\n",
            "[CV] END algorithm=auto, n_neighbors=25, p=2, weights=uniform; total time=   0.1s\n",
            "[CV] END algorithm=auto, n_neighbors=25, p=2, weights=uniform; total time=   0.1s\n",
            "[CV] END algorithm=auto, n_neighbors=25, p=2, weights=uniform; total time=   0.1s\n",
            "[CV] END algorithm=auto, n_neighbors=27, p=2, weights=uniform; total time=   0.1s\n",
            "[CV] END algorithm=auto, n_neighbors=27, p=2, weights=uniform; total time=   0.1s\n",
            "[CV] END algorithm=auto, n_neighbors=27, p=2, weights=uniform; total time=   0.1s\n",
            "[CV] END algorithm=auto, n_neighbors=27, p=2, weights=uniform; total time=   0.1s\n",
            "[CV] END algorithm=auto, n_neighbors=27, p=2, weights=uniform; total time=   0.1s\n",
            "[CV] END algorithm=auto, n_neighbors=27, p=2, weights=uniform; total time=   0.1s\n",
            "[CV] END algorithm=auto, n_neighbors=29, p=2, weights=uniform; total time=   0.1s\n",
            "[CV] END algorithm=auto, n_neighbors=29, p=2, weights=uniform; total time=   0.1s\n",
            "[CV] END algorithm=auto, n_neighbors=29, p=2, weights=uniform; total time=   0.1s\n",
            "[CV] END algorithm=auto, n_neighbors=29, p=2, weights=uniform; total time=   0.1s\n",
            "[CV] END algorithm=auto, n_neighbors=29, p=2, weights=uniform; total time=   0.1s\n",
            "[CV] END algorithm=auto, n_neighbors=29, p=2, weights=uniform; total time=   0.1s\n"
          ]
        },
        {
          "output_type": "execute_result",
          "data": {
            "text/plain": [
              "RandomizedSearchCV(cv=6, estimator=KNeighborsClassifier(), n_iter=14,\n",
              "                   param_distributions={'algorithm': ['auto'],\n",
              "                                        'n_neighbors': [23, 25, 27, 29],\n",
              "                                        'p': [2], 'weights': ['uniform']},\n",
              "                   verbose=2)"
            ],
            "text/html": [
              "<style>#sk-container-id-7 {color: black;background-color: white;}#sk-container-id-7 pre{padding: 0;}#sk-container-id-7 div.sk-toggleable {background-color: white;}#sk-container-id-7 label.sk-toggleable__label {cursor: pointer;display: block;width: 100%;margin-bottom: 0;padding: 0.3em;box-sizing: border-box;text-align: center;}#sk-container-id-7 label.sk-toggleable__label-arrow:before {content: \"▸\";float: left;margin-right: 0.25em;color: #696969;}#sk-container-id-7 label.sk-toggleable__label-arrow:hover:before {color: black;}#sk-container-id-7 div.sk-estimator:hover label.sk-toggleable__label-arrow:before {color: black;}#sk-container-id-7 div.sk-toggleable__content {max-height: 0;max-width: 0;overflow: hidden;text-align: left;background-color: #f0f8ff;}#sk-container-id-7 div.sk-toggleable__content pre {margin: 0.2em;color: black;border-radius: 0.25em;background-color: #f0f8ff;}#sk-container-id-7 input.sk-toggleable__control:checked~div.sk-toggleable__content {max-height: 200px;max-width: 100%;overflow: auto;}#sk-container-id-7 input.sk-toggleable__control:checked~label.sk-toggleable__label-arrow:before {content: \"▾\";}#sk-container-id-7 div.sk-estimator input.sk-toggleable__control:checked~label.sk-toggleable__label {background-color: #d4ebff;}#sk-container-id-7 div.sk-label input.sk-toggleable__control:checked~label.sk-toggleable__label {background-color: #d4ebff;}#sk-container-id-7 input.sk-hidden--visually {border: 0;clip: rect(1px 1px 1px 1px);clip: rect(1px, 1px, 1px, 1px);height: 1px;margin: -1px;overflow: hidden;padding: 0;position: absolute;width: 1px;}#sk-container-id-7 div.sk-estimator {font-family: monospace;background-color: #f0f8ff;border: 1px dotted black;border-radius: 0.25em;box-sizing: border-box;margin-bottom: 0.5em;}#sk-container-id-7 div.sk-estimator:hover {background-color: #d4ebff;}#sk-container-id-7 div.sk-parallel-item::after {content: \"\";width: 100%;border-bottom: 1px solid gray;flex-grow: 1;}#sk-container-id-7 div.sk-label:hover label.sk-toggleable__label {background-color: #d4ebff;}#sk-container-id-7 div.sk-serial::before {content: \"\";position: absolute;border-left: 1px solid gray;box-sizing: border-box;top: 0;bottom: 0;left: 50%;z-index: 0;}#sk-container-id-7 div.sk-serial {display: flex;flex-direction: column;align-items: center;background-color: white;padding-right: 0.2em;padding-left: 0.2em;position: relative;}#sk-container-id-7 div.sk-item {position: relative;z-index: 1;}#sk-container-id-7 div.sk-parallel {display: flex;align-items: stretch;justify-content: center;background-color: white;position: relative;}#sk-container-id-7 div.sk-item::before, #sk-container-id-7 div.sk-parallel-item::before {content: \"\";position: absolute;border-left: 1px solid gray;box-sizing: border-box;top: 0;bottom: 0;left: 50%;z-index: -1;}#sk-container-id-7 div.sk-parallel-item {display: flex;flex-direction: column;z-index: 1;position: relative;background-color: white;}#sk-container-id-7 div.sk-parallel-item:first-child::after {align-self: flex-end;width: 50%;}#sk-container-id-7 div.sk-parallel-item:last-child::after {align-self: flex-start;width: 50%;}#sk-container-id-7 div.sk-parallel-item:only-child::after {width: 0;}#sk-container-id-7 div.sk-dashed-wrapped {border: 1px dashed gray;margin: 0 0.4em 0.5em 0.4em;box-sizing: border-box;padding-bottom: 0.4em;background-color: white;}#sk-container-id-7 div.sk-label label {font-family: monospace;font-weight: bold;display: inline-block;line-height: 1.2em;}#sk-container-id-7 div.sk-label-container {text-align: center;}#sk-container-id-7 div.sk-container {/* jupyter's `normalize.less` sets `[hidden] { display: none; }` but bootstrap.min.css set `[hidden] { display: none !important; }` so we also need the `!important` here to be able to override the default hidden behavior on the sphinx rendered scikit-learn.org. See: https://github.com/scikit-learn/scikit-learn/issues/21755 */display: inline-block !important;position: relative;}#sk-container-id-7 div.sk-text-repr-fallback {display: none;}</style><div id=\"sk-container-id-7\" class=\"sk-top-container\"><div class=\"sk-text-repr-fallback\"><pre>RandomizedSearchCV(cv=6, estimator=KNeighborsClassifier(), n_iter=14,\n",
              "                   param_distributions={&#x27;algorithm&#x27;: [&#x27;auto&#x27;],\n",
              "                                        &#x27;n_neighbors&#x27;: [23, 25, 27, 29],\n",
              "                                        &#x27;p&#x27;: [2], &#x27;weights&#x27;: [&#x27;uniform&#x27;]},\n",
              "                   verbose=2)</pre><b>In a Jupyter environment, please rerun this cell to show the HTML representation or trust the notebook. <br />On GitHub, the HTML representation is unable to render, please try loading this page with nbviewer.org.</b></div><div class=\"sk-container\" hidden><div class=\"sk-item sk-dashed-wrapped\"><div class=\"sk-label-container\"><div class=\"sk-label sk-toggleable\"><input class=\"sk-toggleable__control sk-hidden--visually\" id=\"sk-estimator-id-13\" type=\"checkbox\" ><label for=\"sk-estimator-id-13\" class=\"sk-toggleable__label sk-toggleable__label-arrow\">RandomizedSearchCV</label><div class=\"sk-toggleable__content\"><pre>RandomizedSearchCV(cv=6, estimator=KNeighborsClassifier(), n_iter=14,\n",
              "                   param_distributions={&#x27;algorithm&#x27;: [&#x27;auto&#x27;],\n",
              "                                        &#x27;n_neighbors&#x27;: [23, 25, 27, 29],\n",
              "                                        &#x27;p&#x27;: [2], &#x27;weights&#x27;: [&#x27;uniform&#x27;]},\n",
              "                   verbose=2)</pre></div></div></div><div class=\"sk-parallel\"><div class=\"sk-parallel-item\"><div class=\"sk-item\"><div class=\"sk-label-container\"><div class=\"sk-label sk-toggleable\"><input class=\"sk-toggleable__control sk-hidden--visually\" id=\"sk-estimator-id-14\" type=\"checkbox\" ><label for=\"sk-estimator-id-14\" class=\"sk-toggleable__label sk-toggleable__label-arrow\">estimator: KNeighborsClassifier</label><div class=\"sk-toggleable__content\"><pre>KNeighborsClassifier()</pre></div></div></div><div class=\"sk-serial\"><div class=\"sk-item\"><div class=\"sk-estimator sk-toggleable\"><input class=\"sk-toggleable__control sk-hidden--visually\" id=\"sk-estimator-id-15\" type=\"checkbox\" ><label for=\"sk-estimator-id-15\" class=\"sk-toggleable__label sk-toggleable__label-arrow\">KNeighborsClassifier</label><div class=\"sk-toggleable__content\"><pre>KNeighborsClassifier()</pre></div></div></div></div></div></div></div></div></div></div>"
            ]
          },
          "metadata": {},
          "execution_count": 115
        }
      ]
    },
    {
      "cell_type": "code",
      "source": [
        "RVC_KNN.best_score_"
      ],
      "metadata": {
        "colab": {
          "base_uri": "https://localhost:8080/"
        },
        "id": "caU9VuoyAtMf",
        "outputId": "9547e90f-baf4-427b-fde7-b6b3a85188fb"
      },
      "execution_count": 116,
      "outputs": [
        {
          "output_type": "execute_result",
          "data": {
            "text/plain": [
              "0.6833884476406928"
            ]
          },
          "metadata": {},
          "execution_count": 116
        }
      ]
    },
    {
      "cell_type": "code",
      "source": [
        "RVC_KNN.best_params_"
      ],
      "metadata": {
        "colab": {
          "base_uri": "https://localhost:8080/"
        },
        "id": "Ls1NfkD_AyB_",
        "outputId": "f64f30b6-9a61-4639-a36b-7e148f04f99d"
      },
      "execution_count": 117,
      "outputs": [
        {
          "output_type": "execute_result",
          "data": {
            "text/plain": [
              "{'weights': 'uniform', 'p': 2, 'n_neighbors': 25, 'algorithm': 'auto'}"
            ]
          },
          "metadata": {},
          "execution_count": 117
        }
      ]
    },
    {
      "cell_type": "code",
      "source": [
        "Opt_KNN=KNeighborsClassifier(weights='uniform',p=2,n_neighbors=25,algorithm='auto')"
      ],
      "metadata": {
        "id": "1JRXqBL_A9NX"
      },
      "execution_count": 118,
      "outputs": []
    },
    {
      "cell_type": "code",
      "source": [
        "Opt_KNN.fit(x_train,y_train)"
      ],
      "metadata": {
        "colab": {
          "base_uri": "https://localhost:8080/",
          "height": 74
        },
        "id": "lJnB1rs3Hjoe",
        "outputId": "e0e611c5-02e6-4067-c129-87abb0497ac6"
      },
      "execution_count": 119,
      "outputs": [
        {
          "output_type": "execute_result",
          "data": {
            "text/plain": [
              "KNeighborsClassifier(n_neighbors=25)"
            ],
            "text/html": [
              "<style>#sk-container-id-8 {color: black;background-color: white;}#sk-container-id-8 pre{padding: 0;}#sk-container-id-8 div.sk-toggleable {background-color: white;}#sk-container-id-8 label.sk-toggleable__label {cursor: pointer;display: block;width: 100%;margin-bottom: 0;padding: 0.3em;box-sizing: border-box;text-align: center;}#sk-container-id-8 label.sk-toggleable__label-arrow:before {content: \"▸\";float: left;margin-right: 0.25em;color: #696969;}#sk-container-id-8 label.sk-toggleable__label-arrow:hover:before {color: black;}#sk-container-id-8 div.sk-estimator:hover label.sk-toggleable__label-arrow:before {color: black;}#sk-container-id-8 div.sk-toggleable__content {max-height: 0;max-width: 0;overflow: hidden;text-align: left;background-color: #f0f8ff;}#sk-container-id-8 div.sk-toggleable__content pre {margin: 0.2em;color: black;border-radius: 0.25em;background-color: #f0f8ff;}#sk-container-id-8 input.sk-toggleable__control:checked~div.sk-toggleable__content {max-height: 200px;max-width: 100%;overflow: auto;}#sk-container-id-8 input.sk-toggleable__control:checked~label.sk-toggleable__label-arrow:before {content: \"▾\";}#sk-container-id-8 div.sk-estimator input.sk-toggleable__control:checked~label.sk-toggleable__label {background-color: #d4ebff;}#sk-container-id-8 div.sk-label input.sk-toggleable__control:checked~label.sk-toggleable__label {background-color: #d4ebff;}#sk-container-id-8 input.sk-hidden--visually {border: 0;clip: rect(1px 1px 1px 1px);clip: rect(1px, 1px, 1px, 1px);height: 1px;margin: -1px;overflow: hidden;padding: 0;position: absolute;width: 1px;}#sk-container-id-8 div.sk-estimator {font-family: monospace;background-color: #f0f8ff;border: 1px dotted black;border-radius: 0.25em;box-sizing: border-box;margin-bottom: 0.5em;}#sk-container-id-8 div.sk-estimator:hover {background-color: #d4ebff;}#sk-container-id-8 div.sk-parallel-item::after {content: \"\";width: 100%;border-bottom: 1px solid gray;flex-grow: 1;}#sk-container-id-8 div.sk-label:hover label.sk-toggleable__label {background-color: #d4ebff;}#sk-container-id-8 div.sk-serial::before {content: \"\";position: absolute;border-left: 1px solid gray;box-sizing: border-box;top: 0;bottom: 0;left: 50%;z-index: 0;}#sk-container-id-8 div.sk-serial {display: flex;flex-direction: column;align-items: center;background-color: white;padding-right: 0.2em;padding-left: 0.2em;position: relative;}#sk-container-id-8 div.sk-item {position: relative;z-index: 1;}#sk-container-id-8 div.sk-parallel {display: flex;align-items: stretch;justify-content: center;background-color: white;position: relative;}#sk-container-id-8 div.sk-item::before, #sk-container-id-8 div.sk-parallel-item::before {content: \"\";position: absolute;border-left: 1px solid gray;box-sizing: border-box;top: 0;bottom: 0;left: 50%;z-index: -1;}#sk-container-id-8 div.sk-parallel-item {display: flex;flex-direction: column;z-index: 1;position: relative;background-color: white;}#sk-container-id-8 div.sk-parallel-item:first-child::after {align-self: flex-end;width: 50%;}#sk-container-id-8 div.sk-parallel-item:last-child::after {align-self: flex-start;width: 50%;}#sk-container-id-8 div.sk-parallel-item:only-child::after {width: 0;}#sk-container-id-8 div.sk-dashed-wrapped {border: 1px dashed gray;margin: 0 0.4em 0.5em 0.4em;box-sizing: border-box;padding-bottom: 0.4em;background-color: white;}#sk-container-id-8 div.sk-label label {font-family: monospace;font-weight: bold;display: inline-block;line-height: 1.2em;}#sk-container-id-8 div.sk-label-container {text-align: center;}#sk-container-id-8 div.sk-container {/* jupyter's `normalize.less` sets `[hidden] { display: none; }` but bootstrap.min.css set `[hidden] { display: none !important; }` so we also need the `!important` here to be able to override the default hidden behavior on the sphinx rendered scikit-learn.org. See: https://github.com/scikit-learn/scikit-learn/issues/21755 */display: inline-block !important;position: relative;}#sk-container-id-8 div.sk-text-repr-fallback {display: none;}</style><div id=\"sk-container-id-8\" class=\"sk-top-container\"><div class=\"sk-text-repr-fallback\"><pre>KNeighborsClassifier(n_neighbors=25)</pre><b>In a Jupyter environment, please rerun this cell to show the HTML representation or trust the notebook. <br />On GitHub, the HTML representation is unable to render, please try loading this page with nbviewer.org.</b></div><div class=\"sk-container\" hidden><div class=\"sk-item\"><div class=\"sk-estimator sk-toggleable\"><input class=\"sk-toggleable__control sk-hidden--visually\" id=\"sk-estimator-id-16\" type=\"checkbox\" checked><label for=\"sk-estimator-id-16\" class=\"sk-toggleable__label sk-toggleable__label-arrow\">KNeighborsClassifier</label><div class=\"sk-toggleable__content\"><pre>KNeighborsClassifier(n_neighbors=25)</pre></div></div></div></div></div>"
            ]
          },
          "metadata": {},
          "execution_count": 119
        }
      ]
    },
    {
      "cell_type": "code",
      "source": [
        "opt_pred_KNN=Opt_KNN.predict(x_test)"
      ],
      "metadata": {
        "id": "w0n598DQHnsG"
      },
      "execution_count": 120,
      "outputs": []
    },
    {
      "cell_type": "code",
      "source": [
        "print(f\"accuracy score = {accuracy_score(y_test, opt_pred_KNN)}\")\n",
        "print(f\"F1 score = {f1_score(y_test, opt_pred_KNN)}\")\n",
        "print(f\"conf_mat = \\n{confusion_matrix(y_test, opt_pred_KNN)}\")"
      ],
      "metadata": {
        "colab": {
          "base_uri": "https://localhost:8080/"
        },
        "id": "dDcKoh0kHu5W",
        "outputId": "d55e01e9-0035-441c-ad7f-ed3affd41c26"
      },
      "execution_count": 121,
      "outputs": [
        {
          "output_type": "stream",
          "name": "stdout",
          "text": [
            "accuracy score = 0.68\n",
            "F1 score = 0.6377551020408163\n",
            "conf_mat = \n",
            "[[707 165]\n",
            " [403 500]]\n"
          ]
        }
      ]
    },
    {
      "cell_type": "code",
      "source": [],
      "metadata": {
        "id": "MLCzJTd-H09j"
      },
      "execution_count": 121,
      "outputs": []
    },
    {
      "cell_type": "markdown",
      "source": [
        "BEST MODEL - ANN"
      ],
      "metadata": {
        "id": "ZTfTInlfAfGE"
      }
    },
    {
      "cell_type": "code",
      "source": [
        "#Saving ANN model"
      ],
      "metadata": {
        "id": "p02oF5bjAef3"
      },
      "execution_count": 122,
      "outputs": []
    },
    {
      "cell_type": "code",
      "source": [
        "model.save('ECommerce_ANN.h5')"
      ],
      "metadata": {
        "colab": {
          "base_uri": "https://localhost:8080/"
        },
        "id": "m-ZVvDQvAi4R",
        "outputId": "6591d7c3-88d3-426c-80d1-ca9cd550c87f"
      },
      "execution_count": 123,
      "outputs": [
        {
          "output_type": "stream",
          "name": "stderr",
          "text": [
            "/usr/local/lib/python3.10/dist-packages/keras/src/engine/training.py:3103: UserWarning: You are saving your model as an HDF5 file via `model.save()`. This file format is considered legacy. We recommend using instead the native Keras format, e.g. `model.save('my_model.keras')`.\n",
            "  saving_api.save_model(\n"
          ]
        }
      ]
    },
    {
      "cell_type": "code",
      "source": [],
      "metadata": {
        "id": "E5GGqR42A_Yo"
      },
      "execution_count": 123,
      "outputs": []
    }
  ]
}